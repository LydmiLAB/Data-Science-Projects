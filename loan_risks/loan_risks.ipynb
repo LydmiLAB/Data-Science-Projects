{
 "cells": [
  {
   "cell_type": "markdown",
   "id": "f4f40960",
   "metadata": {
    "toc": true
   },
   "source": [
    "<h1>Table of Contents<span class=\"tocSkip\"></span></h1>\n",
    "<div class=\"toc\"><ul class=\"toc-item\"><li><span><a href=\"#Описание-проекта\" data-toc-modified-id=\"Описание-проекта-1\"><span class=\"toc-item-num\">1&nbsp;&nbsp;</span>Описание проекта</a></span></li><li><span><a href=\"#Откройте-таблицу-и-изучите-общую-информацию-о-данных\" data-toc-modified-id=\"Откройте-таблицу-и-изучите-общую-информацию-о-данных-2\"><span class=\"toc-item-num\">2&nbsp;&nbsp;</span>Откройте таблицу и изучите общую информацию о данных</a></span></li><li><span><a href=\"#Предобработка-данных\" data-toc-modified-id=\"Предобработка-данных-3\"><span class=\"toc-item-num\">3&nbsp;&nbsp;</span>Предобработка данных</a></span><ul class=\"toc-item\"><li><span><a href=\"#Удаление-пропусков\" data-toc-modified-id=\"Удаление-пропусков-3.1\"><span class=\"toc-item-num\">3.1&nbsp;&nbsp;</span>Удаление пропусков</a></span></li><li><span><a href=\"#Обработка-аномальных-значений\" data-toc-modified-id=\"Обработка-аномальных-значений-3.2\"><span class=\"toc-item-num\">3.2&nbsp;&nbsp;</span>Обработка аномальных значений</a></span></li><li><span><a href=\"#Удаление-пропусков-(продолжение)\" data-toc-modified-id=\"Удаление-пропусков-(продолжение)-3.3\"><span class=\"toc-item-num\">3.3&nbsp;&nbsp;</span>Удаление пропусков (продолжение)</a></span></li><li><span><a href=\"#Изменение-типов-данных\" data-toc-modified-id=\"Изменение-типов-данных-3.4\"><span class=\"toc-item-num\">3.4&nbsp;&nbsp;</span>Изменение типов данных</a></span></li><li><span><a href=\"#Обработка-дубликатов\" data-toc-modified-id=\"Обработка-дубликатов-3.5\"><span class=\"toc-item-num\">3.5&nbsp;&nbsp;</span>Обработка дубликатов</a></span></li><li><span><a href=\"#Категоризация-данных\" data-toc-modified-id=\"Категоризация-данных-3.6\"><span class=\"toc-item-num\">3.6&nbsp;&nbsp;</span>Категоризация данных</a></span></li><li><span><a href=\"#Шаг-3.-Исследуйте-данные-и-ответьте-на-вопросы\" data-toc-modified-id=\"Шаг-3.-Исследуйте-данные-и-ответьте-на-вопросы-3.7\"><span class=\"toc-item-num\">3.7&nbsp;&nbsp;</span>Шаг 3. Исследуйте данные и ответьте на вопросы</a></span><ul class=\"toc-item\"><li><span><a href=\"#3.1-Есть-ли-зависимость-между-количеством-детей-и-возвратом-кредита-в-срок?\" data-toc-modified-id=\"3.1-Есть-ли-зависимость-между-количеством-детей-и-возвратом-кредита-в-срок?-3.7.1\"><span class=\"toc-item-num\">3.7.1&nbsp;&nbsp;</span>3.1 Есть ли зависимость между количеством детей и возвратом кредита в срок?</a></span></li></ul></li><li><span><a href=\"#Вывод:\" data-toc-modified-id=\"Вывод:-3.8\"><span class=\"toc-item-num\">3.8&nbsp;&nbsp;</span><strong>Вывод:</strong></a></span><ul class=\"toc-item\"><li><span><a href=\"#3.2-Есть-ли-зависимость-между-семейным-положением-и-возвратом-кредита-в-срок?\" data-toc-modified-id=\"3.2-Есть-ли-зависимость-между-семейным-положением-и-возвратом-кредита-в-срок?-3.8.1\"><span class=\"toc-item-num\">3.8.1&nbsp;&nbsp;</span>3.2 Есть ли зависимость между семейным положением и возвратом кредита в срок?</a></span></li></ul></li><li><span><a href=\"#Вывод:\" data-toc-modified-id=\"Вывод:-3.9\"><span class=\"toc-item-num\">3.9&nbsp;&nbsp;</span><strong>Вывод:</strong></a></span><ul class=\"toc-item\"><li><span><a href=\"#3.3-Есть-ли-зависимость-между-уровнем-дохода-и-возвратом-кредита-в-срок?\" data-toc-modified-id=\"3.3-Есть-ли-зависимость-между-уровнем-дохода-и-возвратом-кредита-в-срок?-3.9.1\"><span class=\"toc-item-num\">3.9.1&nbsp;&nbsp;</span>3.3 Есть ли зависимость между уровнем дохода и возвратом кредита в срок?</a></span></li></ul></li><li><span><a href=\"#Вывод:\" data-toc-modified-id=\"Вывод:-3.10\"><span class=\"toc-item-num\">3.10&nbsp;&nbsp;</span><strong>Вывод:</strong></a></span><ul class=\"toc-item\"><li><span><a href=\"#3.4-Как-разные-цели-кредита-влияют-на-его-возврат-в-срок?\" data-toc-modified-id=\"3.4-Как-разные-цели-кредита-влияют-на-его-возврат-в-срок?-3.10.1\"><span class=\"toc-item-num\">3.10.1&nbsp;&nbsp;</span>3.4 Как разные цели кредита влияют на его возврат в срок?</a></span></li></ul></li><li><span><a href=\"#Вывод:\" data-toc-modified-id=\"Вывод:-3.11\"><span class=\"toc-item-num\">3.11&nbsp;&nbsp;</span><strong>Вывод:</strong></a></span><ul class=\"toc-item\"><li><span><a href=\"#3.5-Приведите-возможные-причины-появления-пропусков-в-исходных-данных.\" data-toc-modified-id=\"3.5-Приведите-возможные-причины-появления-пропусков-в-исходных-данных.-3.11.1\"><span class=\"toc-item-num\">3.11.1&nbsp;&nbsp;</span>3.5 Приведите возможные причины появления пропусков в исходных данных.</a></span></li><li><span><a href=\"#3.6-Объясните,-почему-заполнить-пропуски-медианным-значением-—-лучшее-решение-для-количественных-переменных.\" data-toc-modified-id=\"3.6-Объясните,-почему-заполнить-пропуски-медианным-значением-—-лучшее-решение-для-количественных-переменных.-3.11.2\"><span class=\"toc-item-num\">3.11.2&nbsp;&nbsp;</span>3.6 Объясните, почему заполнить пропуски медианным значением — лучшее решение для количественных переменных.</a></span></li></ul></li><li><span><a href=\"#Шаг-4:-общий-вывод.\" data-toc-modified-id=\"Шаг-4:-общий-вывод.-3.12\"><span class=\"toc-item-num\">3.12&nbsp;&nbsp;</span>Шаг 4: общий вывод.</a></span></li></ul></li></ul></div>"
   ]
  },
  {
   "cell_type": "markdown",
   "id": "faf5464b",
   "metadata": {
    "id": "c81daeeb"
   },
   "source": [
    "# Исследование риска выдачи кредита (надежности заемщиков)\n"
   ]
  },
  {
   "cell_type": "markdown",
   "id": "b2fcd811",
   "metadata": {},
   "source": [
    "## Описание проекта\n",
    "<br> **Заказчик** — кредитный отдел банка.                                                \n",
    "<br> **Цель:**  проверить, влияет ли семейное положение и количество детей клиента на факт погашения кредита в срок. Результаты  необходимы для построения модели кредитного скоринга — специальной системы, которая оценивает способность потенциального заёмщика вернуть кредит банку.<br/>\n",
    "<br> **Входные данные** от банка — статистика о платёжеспособности клиентов.<br/>\n",
    "<br> **Описание данных:**\n",
    "<br>`children` — количество детей в семье\n",
    "<br>`days_employed` — общий трудовой стаж в днях\n",
    "<br>`dob_years` — возраст клиента в годах\n",
    "<br>`education` — уровень образования клиента\n",
    "<br>`education_id` — идентификатор уровня образования\n",
    "<br> — семейное положение\n",
    "<br>`family_status_id` — идентификатор семейного положения\n",
    "<br> `gender` — пол клиента\n",
    "<br>`income_type` — тип занятости\n",
    "<br>`debt` — имел ли задолженность по возврату кредитов\n",
    "<br>`total_income` — ежемесячный доход\n",
    "<br>`purpose` — цель получения кредита\n",
    "\n",
    "<br> **План работ:** \n",
    "<br>1. Исследовать данные на наличие пропусков, выбрасов, аномальных значений, дубликатов\n",
    "<br>2. Очистить, обработать данные так, чтобы можно было проводитьт анализ\n",
    "<br>3. Провести категоризацию данных\n",
    "<br>4. Выявить необходимые зависимости\n",
    "<br>5. Сделать выводы и дать рекомендации заказчику\n"
   ]
  },
  {
   "cell_type": "markdown",
   "id": "60afdeb6",
   "metadata": {
    "id": "744d7639"
   },
   "source": [
    "## Анализ общей информации о данных"
   ]
  },
  {
   "cell_type": "code",
   "execution_count": 5,
   "id": "cfbaec8d",
   "metadata": {
    "id": "e7a14c31"
   },
   "outputs": [],
   "source": [
    "import pandas as pd\n",
    "import plotly as plt\n",
    "import matplotlib.pyplot as plt\n",
    "from IPython.display import display"
   ]
  },
  {
   "cell_type": "code",
   "execution_count": 156,
   "id": "4cbab82a",
   "metadata": {},
   "outputs": [],
   "source": [
    "# Загрузка данных\n",
    "try:\n",
    "    data = pd.read_csv('/datasets/data.csv')\n",
    "except:\n",
    "    data = pd.read_csv('https://code.s3.yandex.net/datasets/data.csv')"
   ]
  },
  {
   "cell_type": "code",
   "execution_count": 3,
   "id": "2dad4ead",
   "metadata": {
    "id": "2a7cab99",
    "outputId": "1a8f3ef2-d323-4ec2-ddf7-89670b5944c4"
   },
   "outputs": [
    {
     "data": {
      "text/html": [
       "<div>\n",
       "<style scoped>\n",
       "    .dataframe tbody tr th:only-of-type {\n",
       "        vertical-align: middle;\n",
       "    }\n",
       "\n",
       "    .dataframe tbody tr th {\n",
       "        vertical-align: top;\n",
       "    }\n",
       "\n",
       "    .dataframe thead th {\n",
       "        text-align: right;\n",
       "    }\n",
       "</style>\n",
       "<table border=\"1\" class=\"dataframe\">\n",
       "  <thead>\n",
       "    <tr style=\"text-align: right;\">\n",
       "      <th></th>\n",
       "      <th>children</th>\n",
       "      <th>days_employed</th>\n",
       "      <th>dob_years</th>\n",
       "      <th>education</th>\n",
       "      <th>education_id</th>\n",
       "      <th>family_status</th>\n",
       "      <th>family_status_id</th>\n",
       "      <th>gender</th>\n",
       "      <th>income_type</th>\n",
       "      <th>debt</th>\n",
       "      <th>total_income</th>\n",
       "      <th>purpose</th>\n",
       "    </tr>\n",
       "  </thead>\n",
       "  <tbody>\n",
       "    <tr>\n",
       "      <th>0</th>\n",
       "      <td>1</td>\n",
       "      <td>-8437.673028</td>\n",
       "      <td>42</td>\n",
       "      <td>высшее</td>\n",
       "      <td>0</td>\n",
       "      <td>женат / замужем</td>\n",
       "      <td>0</td>\n",
       "      <td>F</td>\n",
       "      <td>сотрудник</td>\n",
       "      <td>0</td>\n",
       "      <td>253875.639453</td>\n",
       "      <td>покупка жилья</td>\n",
       "    </tr>\n",
       "    <tr>\n",
       "      <th>1</th>\n",
       "      <td>1</td>\n",
       "      <td>-4024.803754</td>\n",
       "      <td>36</td>\n",
       "      <td>среднее</td>\n",
       "      <td>1</td>\n",
       "      <td>женат / замужем</td>\n",
       "      <td>0</td>\n",
       "      <td>F</td>\n",
       "      <td>сотрудник</td>\n",
       "      <td>0</td>\n",
       "      <td>112080.014102</td>\n",
       "      <td>приобретение автомобиля</td>\n",
       "    </tr>\n",
       "    <tr>\n",
       "      <th>2</th>\n",
       "      <td>0</td>\n",
       "      <td>-5623.422610</td>\n",
       "      <td>33</td>\n",
       "      <td>Среднее</td>\n",
       "      <td>1</td>\n",
       "      <td>женат / замужем</td>\n",
       "      <td>0</td>\n",
       "      <td>M</td>\n",
       "      <td>сотрудник</td>\n",
       "      <td>0</td>\n",
       "      <td>145885.952297</td>\n",
       "      <td>покупка жилья</td>\n",
       "    </tr>\n",
       "    <tr>\n",
       "      <th>3</th>\n",
       "      <td>3</td>\n",
       "      <td>-4124.747207</td>\n",
       "      <td>32</td>\n",
       "      <td>среднее</td>\n",
       "      <td>1</td>\n",
       "      <td>женат / замужем</td>\n",
       "      <td>0</td>\n",
       "      <td>M</td>\n",
       "      <td>сотрудник</td>\n",
       "      <td>0</td>\n",
       "      <td>267628.550329</td>\n",
       "      <td>дополнительное образование</td>\n",
       "    </tr>\n",
       "    <tr>\n",
       "      <th>4</th>\n",
       "      <td>0</td>\n",
       "      <td>340266.072047</td>\n",
       "      <td>53</td>\n",
       "      <td>среднее</td>\n",
       "      <td>1</td>\n",
       "      <td>гражданский брак</td>\n",
       "      <td>1</td>\n",
       "      <td>F</td>\n",
       "      <td>пенсионер</td>\n",
       "      <td>0</td>\n",
       "      <td>158616.077870</td>\n",
       "      <td>сыграть свадьбу</td>\n",
       "    </tr>\n",
       "    <tr>\n",
       "      <th>5</th>\n",
       "      <td>0</td>\n",
       "      <td>-926.185831</td>\n",
       "      <td>27</td>\n",
       "      <td>высшее</td>\n",
       "      <td>0</td>\n",
       "      <td>гражданский брак</td>\n",
       "      <td>1</td>\n",
       "      <td>M</td>\n",
       "      <td>компаньон</td>\n",
       "      <td>0</td>\n",
       "      <td>255763.565419</td>\n",
       "      <td>покупка жилья</td>\n",
       "    </tr>\n",
       "    <tr>\n",
       "      <th>6</th>\n",
       "      <td>0</td>\n",
       "      <td>-2879.202052</td>\n",
       "      <td>43</td>\n",
       "      <td>высшее</td>\n",
       "      <td>0</td>\n",
       "      <td>женат / замужем</td>\n",
       "      <td>0</td>\n",
       "      <td>F</td>\n",
       "      <td>компаньон</td>\n",
       "      <td>0</td>\n",
       "      <td>240525.971920</td>\n",
       "      <td>операции с жильем</td>\n",
       "    </tr>\n",
       "    <tr>\n",
       "      <th>7</th>\n",
       "      <td>0</td>\n",
       "      <td>-152.779569</td>\n",
       "      <td>50</td>\n",
       "      <td>СРЕДНЕЕ</td>\n",
       "      <td>1</td>\n",
       "      <td>женат / замужем</td>\n",
       "      <td>0</td>\n",
       "      <td>M</td>\n",
       "      <td>сотрудник</td>\n",
       "      <td>0</td>\n",
       "      <td>135823.934197</td>\n",
       "      <td>образование</td>\n",
       "    </tr>\n",
       "    <tr>\n",
       "      <th>8</th>\n",
       "      <td>2</td>\n",
       "      <td>-6929.865299</td>\n",
       "      <td>35</td>\n",
       "      <td>ВЫСШЕЕ</td>\n",
       "      <td>0</td>\n",
       "      <td>гражданский брак</td>\n",
       "      <td>1</td>\n",
       "      <td>F</td>\n",
       "      <td>сотрудник</td>\n",
       "      <td>0</td>\n",
       "      <td>95856.832424</td>\n",
       "      <td>на проведение свадьбы</td>\n",
       "    </tr>\n",
       "    <tr>\n",
       "      <th>9</th>\n",
       "      <td>0</td>\n",
       "      <td>-2188.756445</td>\n",
       "      <td>41</td>\n",
       "      <td>среднее</td>\n",
       "      <td>1</td>\n",
       "      <td>женат / замужем</td>\n",
       "      <td>0</td>\n",
       "      <td>M</td>\n",
       "      <td>сотрудник</td>\n",
       "      <td>0</td>\n",
       "      <td>144425.938277</td>\n",
       "      <td>покупка жилья для семьи</td>\n",
       "    </tr>\n",
       "    <tr>\n",
       "      <th>10</th>\n",
       "      <td>2</td>\n",
       "      <td>-4171.483647</td>\n",
       "      <td>36</td>\n",
       "      <td>высшее</td>\n",
       "      <td>0</td>\n",
       "      <td>женат / замужем</td>\n",
       "      <td>0</td>\n",
       "      <td>M</td>\n",
       "      <td>компаньон</td>\n",
       "      <td>0</td>\n",
       "      <td>113943.491460</td>\n",
       "      <td>покупка недвижимости</td>\n",
       "    </tr>\n",
       "    <tr>\n",
       "      <th>11</th>\n",
       "      <td>0</td>\n",
       "      <td>-792.701887</td>\n",
       "      <td>40</td>\n",
       "      <td>среднее</td>\n",
       "      <td>1</td>\n",
       "      <td>женат / замужем</td>\n",
       "      <td>0</td>\n",
       "      <td>F</td>\n",
       "      <td>сотрудник</td>\n",
       "      <td>0</td>\n",
       "      <td>77069.234271</td>\n",
       "      <td>покупка коммерческой недвижимости</td>\n",
       "    </tr>\n",
       "    <tr>\n",
       "      <th>12</th>\n",
       "      <td>0</td>\n",
       "      <td>NaN</td>\n",
       "      <td>65</td>\n",
       "      <td>среднее</td>\n",
       "      <td>1</td>\n",
       "      <td>гражданский брак</td>\n",
       "      <td>1</td>\n",
       "      <td>M</td>\n",
       "      <td>пенсионер</td>\n",
       "      <td>0</td>\n",
       "      <td>NaN</td>\n",
       "      <td>сыграть свадьбу</td>\n",
       "    </tr>\n",
       "    <tr>\n",
       "      <th>13</th>\n",
       "      <td>0</td>\n",
       "      <td>-1846.641941</td>\n",
       "      <td>54</td>\n",
       "      <td>неоконченное высшее</td>\n",
       "      <td>2</td>\n",
       "      <td>женат / замужем</td>\n",
       "      <td>0</td>\n",
       "      <td>F</td>\n",
       "      <td>сотрудник</td>\n",
       "      <td>0</td>\n",
       "      <td>130458.228857</td>\n",
       "      <td>приобретение автомобиля</td>\n",
       "    </tr>\n",
       "    <tr>\n",
       "      <th>14</th>\n",
       "      <td>0</td>\n",
       "      <td>-1844.956182</td>\n",
       "      <td>56</td>\n",
       "      <td>высшее</td>\n",
       "      <td>0</td>\n",
       "      <td>гражданский брак</td>\n",
       "      <td>1</td>\n",
       "      <td>F</td>\n",
       "      <td>компаньон</td>\n",
       "      <td>1</td>\n",
       "      <td>165127.911772</td>\n",
       "      <td>покупка жилой недвижимости</td>\n",
       "    </tr>\n",
       "    <tr>\n",
       "      <th>15</th>\n",
       "      <td>1</td>\n",
       "      <td>-972.364419</td>\n",
       "      <td>26</td>\n",
       "      <td>среднее</td>\n",
       "      <td>1</td>\n",
       "      <td>женат / замужем</td>\n",
       "      <td>0</td>\n",
       "      <td>F</td>\n",
       "      <td>сотрудник</td>\n",
       "      <td>0</td>\n",
       "      <td>116820.904450</td>\n",
       "      <td>строительство собственной недвижимости</td>\n",
       "    </tr>\n",
       "    <tr>\n",
       "      <th>16</th>\n",
       "      <td>0</td>\n",
       "      <td>-1719.934226</td>\n",
       "      <td>35</td>\n",
       "      <td>среднее</td>\n",
       "      <td>1</td>\n",
       "      <td>женат / замужем</td>\n",
       "      <td>0</td>\n",
       "      <td>F</td>\n",
       "      <td>сотрудник</td>\n",
       "      <td>0</td>\n",
       "      <td>289202.704229</td>\n",
       "      <td>недвижимость</td>\n",
       "    </tr>\n",
       "    <tr>\n",
       "      <th>17</th>\n",
       "      <td>0</td>\n",
       "      <td>-2369.999720</td>\n",
       "      <td>33</td>\n",
       "      <td>высшее</td>\n",
       "      <td>0</td>\n",
       "      <td>гражданский брак</td>\n",
       "      <td>1</td>\n",
       "      <td>M</td>\n",
       "      <td>сотрудник</td>\n",
       "      <td>0</td>\n",
       "      <td>90410.586745</td>\n",
       "      <td>строительство недвижимости</td>\n",
       "    </tr>\n",
       "    <tr>\n",
       "      <th>18</th>\n",
       "      <td>0</td>\n",
       "      <td>400281.136913</td>\n",
       "      <td>53</td>\n",
       "      <td>среднее</td>\n",
       "      <td>1</td>\n",
       "      <td>вдовец / вдова</td>\n",
       "      <td>2</td>\n",
       "      <td>F</td>\n",
       "      <td>пенсионер</td>\n",
       "      <td>0</td>\n",
       "      <td>56823.777243</td>\n",
       "      <td>на покупку подержанного автомобиля</td>\n",
       "    </tr>\n",
       "    <tr>\n",
       "      <th>19</th>\n",
       "      <td>0</td>\n",
       "      <td>-10038.818549</td>\n",
       "      <td>48</td>\n",
       "      <td>СРЕДНЕЕ</td>\n",
       "      <td>1</td>\n",
       "      <td>в разводе</td>\n",
       "      <td>3</td>\n",
       "      <td>F</td>\n",
       "      <td>сотрудник</td>\n",
       "      <td>0</td>\n",
       "      <td>242831.107982</td>\n",
       "      <td>на покупку своего автомобиля</td>\n",
       "    </tr>\n",
       "  </tbody>\n",
       "</table>\n",
       "</div>"
      ],
      "text/plain": [
       "    children  days_employed  dob_years            education  education_id  \\\n",
       "0          1   -8437.673028         42               высшее             0   \n",
       "1          1   -4024.803754         36              среднее             1   \n",
       "2          0   -5623.422610         33              Среднее             1   \n",
       "3          3   -4124.747207         32              среднее             1   \n",
       "4          0  340266.072047         53              среднее             1   \n",
       "5          0    -926.185831         27               высшее             0   \n",
       "6          0   -2879.202052         43               высшее             0   \n",
       "7          0    -152.779569         50              СРЕДНЕЕ             1   \n",
       "8          2   -6929.865299         35               ВЫСШЕЕ             0   \n",
       "9          0   -2188.756445         41              среднее             1   \n",
       "10         2   -4171.483647         36               высшее             0   \n",
       "11         0    -792.701887         40              среднее             1   \n",
       "12         0            NaN         65              среднее             1   \n",
       "13         0   -1846.641941         54  неоконченное высшее             2   \n",
       "14         0   -1844.956182         56               высшее             0   \n",
       "15         1    -972.364419         26              среднее             1   \n",
       "16         0   -1719.934226         35              среднее             1   \n",
       "17         0   -2369.999720         33               высшее             0   \n",
       "18         0  400281.136913         53              среднее             1   \n",
       "19         0  -10038.818549         48              СРЕДНЕЕ             1   \n",
       "\n",
       "       family_status  family_status_id gender income_type  debt  \\\n",
       "0    женат / замужем                 0      F   сотрудник     0   \n",
       "1    женат / замужем                 0      F   сотрудник     0   \n",
       "2    женат / замужем                 0      M   сотрудник     0   \n",
       "3    женат / замужем                 0      M   сотрудник     0   \n",
       "4   гражданский брак                 1      F   пенсионер     0   \n",
       "5   гражданский брак                 1      M   компаньон     0   \n",
       "6    женат / замужем                 0      F   компаньон     0   \n",
       "7    женат / замужем                 0      M   сотрудник     0   \n",
       "8   гражданский брак                 1      F   сотрудник     0   \n",
       "9    женат / замужем                 0      M   сотрудник     0   \n",
       "10   женат / замужем                 0      M   компаньон     0   \n",
       "11   женат / замужем                 0      F   сотрудник     0   \n",
       "12  гражданский брак                 1      M   пенсионер     0   \n",
       "13   женат / замужем                 0      F   сотрудник     0   \n",
       "14  гражданский брак                 1      F   компаньон     1   \n",
       "15   женат / замужем                 0      F   сотрудник     0   \n",
       "16   женат / замужем                 0      F   сотрудник     0   \n",
       "17  гражданский брак                 1      M   сотрудник     0   \n",
       "18    вдовец / вдова                 2      F   пенсионер     0   \n",
       "19         в разводе                 3      F   сотрудник     0   \n",
       "\n",
       "     total_income                                 purpose  \n",
       "0   253875.639453                           покупка жилья  \n",
       "1   112080.014102                 приобретение автомобиля  \n",
       "2   145885.952297                           покупка жилья  \n",
       "3   267628.550329              дополнительное образование  \n",
       "4   158616.077870                         сыграть свадьбу  \n",
       "5   255763.565419                           покупка жилья  \n",
       "6   240525.971920                       операции с жильем  \n",
       "7   135823.934197                             образование  \n",
       "8    95856.832424                   на проведение свадьбы  \n",
       "9   144425.938277                 покупка жилья для семьи  \n",
       "10  113943.491460                    покупка недвижимости  \n",
       "11   77069.234271       покупка коммерческой недвижимости  \n",
       "12            NaN                         сыграть свадьбу  \n",
       "13  130458.228857                 приобретение автомобиля  \n",
       "14  165127.911772              покупка жилой недвижимости  \n",
       "15  116820.904450  строительство собственной недвижимости  \n",
       "16  289202.704229                            недвижимость  \n",
       "17   90410.586745              строительство недвижимости  \n",
       "18   56823.777243      на покупку подержанного автомобиля  \n",
       "19  242831.107982            на покупку своего автомобиля  "
      ]
     },
     "execution_count": 3,
     "metadata": {},
     "output_type": "execute_result"
    }
   ],
   "source": [
    "# Выводим чать файла\n",
    "data.head(20)"
   ]
  },
  {
   "cell_type": "markdown",
   "id": "f6dbf7ec",
   "metadata": {},
   "source": [
    "<b>   Из выведенной таблицы видно, что :</b> <br>\n",
    "<br> <  1. информация представлена необходимым понятным набором данных \n",
    "<br> <  2. содержит категориальные и количественные данные \n",
    "<br> <  3. присутствуют пропуски, отрицательные значения, английские и русские символы, неявные дубликаты в виде заглавных и <br> строчных букв, дробные и целочисленные значения, широкий диапазон значений в колонках `days_employed` и `total_income`\n",
    "<br> <  4. заголовки колонок оформлены корректно, их названия отражают содержание данных в колонке "
   ]
  },
  {
   "cell_type": "code",
   "execution_count": 3,
   "id": "ec8d5bd4",
   "metadata": {
    "id": "2b757bca",
    "outputId": "15376089-8dad-46c9-b520-c05248d43158"
   },
   "outputs": [
    {
     "name": "stdout",
     "output_type": "stream",
     "text": [
      "<class 'pandas.core.frame.DataFrame'>\n",
      "RangeIndex: 21525 entries, 0 to 21524\n",
      "Data columns (total 12 columns):\n",
      " #   Column            Non-Null Count  Dtype  \n",
      "---  ------            --------------  -----  \n",
      " 0   children          21525 non-null  int64  \n",
      " 1   days_employed     19351 non-null  float64\n",
      " 2   dob_years         21525 non-null  int64  \n",
      " 3   education         21525 non-null  object \n",
      " 4   education_id      21525 non-null  int64  \n",
      " 5   family_status     21525 non-null  object \n",
      " 6   family_status_id  21525 non-null  int64  \n",
      " 7   gender            21525 non-null  object \n",
      " 8   income_type       21525 non-null  object \n",
      " 9   debt              21525 non-null  int64  \n",
      " 10  total_income      19351 non-null  float64\n",
      " 11  purpose           21525 non-null  object \n",
      "dtypes: float64(2), int64(5), object(5)\n",
      "memory usage: 2.0+ MB\n"
     ]
    }
   ],
   "source": [
    "# Выводим основную информацию о датафрейме\n",
    "data.info()"
   ]
  },
  {
   "cell_type": "markdown",
   "id": "3b032188",
   "metadata": {},
   "source": [
    "<b>   В полученной информации о датафрейме можно отметить, что :</b> <br>\n",
    "<br> <  1. в таблице 21526 строк, 12 колонок\n",
    "<br> <  2. данные трех разных типов, корректно определены \n",
    "<br> <  3. присутствуют пропуски только в колонках `ays_employed` и `total_income`"
   ]
  },
  {
   "cell_type": "markdown",
   "id": "30118571",
   "metadata": {
    "id": "333ec665"
   },
   "source": [
    "## Предобработка данных"
   ]
  },
  {
   "cell_type": "markdown",
   "id": "469e8744",
   "metadata": {
    "id": "02d92d53"
   },
   "source": [
    "### Удаление пропусков"
   ]
  },
  {
   "cell_type": "code",
   "execution_count": 4,
   "id": "a42bb53a",
   "metadata": {
    "id": "7f9b2309",
    "outputId": "81f4d817-781c-465c-ed15-91ce4446810d"
   },
   "outputs": [
    {
     "data": {
      "text/plain": [
       "children               0\n",
       "days_employed       2174\n",
       "dob_years              0\n",
       "education              0\n",
       "education_id           0\n",
       "family_status          0\n",
       "family_status_id       0\n",
       "gender                 0\n",
       "income_type            0\n",
       "debt                   0\n",
       "total_income        2174\n",
       "purpose                0\n",
       "dtype: int64"
      ]
     },
     "execution_count": 4,
     "metadata": {},
     "output_type": "execute_result"
    }
   ],
   "source": [
    "# Выводим количество пропущенных значений для каждого столбца\n",
    "data.isna().sum()"
   ]
  },
  {
   "cell_type": "code",
   "execution_count": 7,
   "id": "6dab3a96",
   "metadata": {},
   "outputs": [
    {
     "data": {
      "text/plain": [
       "children            0.000000\n",
       "days_employed       0.100999\n",
       "dob_years           0.000000\n",
       "education           0.000000\n",
       "education_id        0.000000\n",
       "family_status       0.000000\n",
       "family_status_id    0.000000\n",
       "gender              0.000000\n",
       "income_type         0.000000\n",
       "debt                0.000000\n",
       "total_income        0.100999\n",
       "purpose             0.000000\n",
       "dtype: float64"
      ]
     },
     "execution_count": 7,
     "metadata": {},
     "output_type": "execute_result"
    }
   ],
   "source": [
    "# Посчитаем долю пропусков в каждом столбце, чтобы понимать, возможно ли далее использовавть данные с пропусками\n",
    "data.isna().mean()"
   ]
  },
  {
   "cell_type": "markdown",
   "id": "d5caa677",
   "metadata": {},
   "source": [
    "Выведены количество пропущенных значений для каждого столбца.  \n",
    "Одинаковое количество пропусков в исходных данных содержат 2 столбца \"общий трудовой стаж в днях\" `days_employed`  и ежемесячный доход `total_income`, по 2174 пропуска. \n",
    "Можно предположить, что у заемщика отсутствовали необходимые документы - трудовая книжка и справка о доходах.  \n",
    "\n",
    "Пропуски могли появиться при формировании данных о пенсионерах, студентах или находящихся в декрете, так как они не получают заработную плату, а пенсию, стипендию или пособие могли не заполнить при анкетировании или обработке сценариев в коде, т.к. не было пояснений, что включать в ежемесячный доход. Данные могли не заполняться клиентами намеренно, или пропуски могли возникнуть при загрузке/объединении даных.  \n",
    "\n",
    "Пропусков в данных не очень много: по 10%. Пропущены числовые значения, статистики которых можно посчитать. Ежемесячный доход может пригодится для дальнейшего анализа надежности клиента, поэтому далее пропуски будем заполнять статистиками. Медианой заполнять более корректно, т.к. среднее может быть сильно смещено из-за выбросов.  \n",
    "    \n",
    "`total_income` — хранит данные о доходах. На сумму дохода сильнее всего влияет тип занятости, поэтому заполнить пропуски в этом столбце нужно медианным значением по каждому типу из столбца `income_type`. Например, у человека с типом занятости `сотрудник` пропуск в столбце `total_income` должен быть заполнен медианным доходом среди всех записей с тем же типом."
   ]
  },
  {
   "cell_type": "code",
   "execution_count": 159,
   "id": "80bb4b21",
   "metadata": {},
   "outputs": [
    {
     "data": {
      "text/plain": [
       "{'безработный': 131339.7516762103,\n",
       " 'в декрете': 53829.13072905995,\n",
       " 'госслужащий': 150447.9352830068,\n",
       " 'компаньон': 172357.95096577113,\n",
       " 'пенсионер': 118514.48641164352,\n",
       " 'предприниматель': 499163.1449470857,\n",
       " 'сотрудник': 142594.39684740017,\n",
       " 'студент': 98201.62531401133}"
      ]
     },
     "execution_count": 159,
     "metadata": {},
     "output_type": "execute_result"
    }
   ],
   "source": [
    "dct_total_income = data.groupby('income_type')['total_income'].median().to_dict()\n",
    "dct_total_income"
   ]
  },
  {
   "cell_type": "code",
   "execution_count": 160,
   "id": "445884a5",
   "metadata": {},
   "outputs": [],
   "source": [
    "# Заполним пропуски в total_income соответствующими значениями словарю income_type\n",
    "data['total_income'] = data['total_income'].fillna(data['income_type'].map(dct_total_income))"
   ]
  },
  {
   "cell_type": "code",
   "execution_count": 163,
   "id": "b128ca07",
   "metadata": {},
   "outputs": [
    {
     "data": {
      "text/plain": [
       "0"
      ]
     },
     "execution_count": 163,
     "metadata": {},
     "output_type": "execute_result"
    }
   ],
   "source": [
    "# Проверим, отсутствуют ли пропуски в `total_income`\n",
    "data['total_income'].isna().sum()"
   ]
  },
  {
   "cell_type": "markdown",
   "id": "057d9f5b",
   "metadata": {},
   "source": [
    "Выведенная информация дает понять, что замена пропусков в столбце прошла успешно: пропуски в нем отсутствуют и пропуск в 12й строке поменял значение на медианное значение необходимой категории 118514.486412."
   ]
  },
  {
   "cell_type": "markdown",
   "id": "ddfba8a2",
   "metadata": {
    "id": "89da5ece"
   },
   "source": [
    "### Обработка аномальных значений"
   ]
  },
  {
   "cell_type": "markdown",
   "id": "2fe89b2e",
   "metadata": {
    "id": "57964554"
   },
   "source": [
    "В столбце `days_employed` встречается отрицательное количество дней трудового стажа, это артефакты (аномалии) — значения, которые не отражают действительность и появились по какой-то ошибке. Заменим все отрицательные значения положительными с помощью метода `abs()`."
   ]
  },
  {
   "cell_type": "code",
   "execution_count": 134,
   "id": "a2a0a7b7",
   "metadata": {
    "id": "f6f055bf"
   },
   "outputs": [],
   "source": [
    "data['days_employed'] = data['days_employed'].abs()"
   ]
  },
  {
   "cell_type": "code",
   "execution_count": 135,
   "id": "85aef353",
   "metadata": {},
   "outputs": [
    {
     "data": {
      "text/plain": [
       "0"
      ]
     },
     "execution_count": 135,
     "metadata": {},
     "output_type": "execute_result"
    }
   ],
   "source": [
    "# Проверяем результат замены\n",
    "(data['days_employed'] < 0).sum()"
   ]
  },
  {
   "cell_type": "markdown",
   "id": "406bf785",
   "metadata": {
    "id": "6107dd2f"
   },
   "source": [
    "Для каждого типа занятости выведем медианное значение трудового стажа `days_employed` в днях."
   ]
  },
  {
   "cell_type": "code",
   "execution_count": 63,
   "id": "97dd26fe",
   "metadata": {
    "id": "85a5faf6",
    "outputId": "801ef80e-522b-4668-f34e-565af7432bcf"
   },
   "outputs": [
    {
     "data": {
      "text/plain": [
       "income_type\n",
       "безработный        366413.652744\n",
       "в декрете            3296.759962\n",
       "госслужащий          2689.368353\n",
       "компаньон            1547.382223\n",
       "пенсионер          365213.306266\n",
       "предприниматель       520.848083\n",
       "сотрудник            1574.202821\n",
       "студент               578.751554\n",
       "Name: days_employed, dtype: float64"
      ]
     },
     "execution_count": 63,
     "metadata": {},
     "output_type": "execute_result"
    }
   ],
   "source": [
    "data.groupby('income_type')['days_employed'].agg('median')"
   ]
  },
  {
   "cell_type": "markdown",
   "id": "4479c3af",
   "metadata": {
    "id": "38d1a030"
   },
   "source": [
    "У двух типов (безработные и пенсионеры) получатся аномально большие значения. Исправить такие значения сложно, поэтому оставим их как есть. Тем более этот столбец не понадобится для исследования."
   ]
  },
  {
   "cell_type": "markdown",
   "id": "56fd36ec",
   "metadata": {
    "id": "d8a9f147"
   },
   "source": [
    "Выведем перечень уникальных значений столбца `children`."
   ]
  },
  {
   "cell_type": "code",
   "execution_count": 9,
   "id": "c72b5d26",
   "metadata": {
    "id": "ef5056eb",
    "outputId": "6975b15c-7f95-4697-d16d-a0c79b657b03"
   },
   "outputs": [
    {
     "data": {
      "text/plain": [
       "array([ 1,  0,  3,  2, -1,  4, 20,  5])"
      ]
     },
     "execution_count": 9,
     "metadata": {},
     "output_type": "execute_result"
    }
   ],
   "source": [
    "data['children'].unique()"
   ]
  },
  {
   "cell_type": "markdown",
   "id": "7dc58327",
   "metadata": {},
   "source": [
    "Очевидно, что столбце количество детей `children` есть два аномальных значения: -1 и 20. \n",
    " Строки с этими данными можно удалить: 2 клиента из 21525 не критично повлияют на результат исследования."
   ]
  },
  {
   "cell_type": "code",
   "execution_count": 64,
   "id": "df7045ac",
   "metadata": {
    "id": "3ff9801d"
   },
   "outputs": [],
   "source": [
    "data = data[(data['children'] != -1) & (data['children'] != 20)]"
   ]
  },
  {
   "cell_type": "code",
   "execution_count": 11,
   "id": "025be14e",
   "metadata": {
    "id": "ad4fa8b7",
    "outputId": "b2097101-d49d-44d9-901b-32a65c9463d1"
   },
   "outputs": [
    {
     "data": {
      "text/plain": [
       "array([1, 0, 3, 2, 4, 5])"
      ]
     },
     "execution_count": 11,
     "metadata": {},
     "output_type": "execute_result"
    }
   ],
   "source": [
    "# Проверим результат удаления\n",
    "data['children'].unique()"
   ]
  },
  {
   "cell_type": "markdown",
   "id": "16c3ac77",
   "metadata": {
    "id": "75440b63"
   },
   "source": [
    "### Удаление пропусков (продолжение)"
   ]
  },
  {
   "cell_type": "markdown",
   "id": "cdaab1f6",
   "metadata": {
    "id": "f4ea573f"
   },
   "source": [
    "Заполним пропуски в столбце `days_employed` медианными значениями по каждому типу занятости `income_type`."
   ]
  },
  {
   "cell_type": "code",
   "execution_count": 152,
   "id": "cfb68a88",
   "metadata": {},
   "outputs": [
    {
     "data": {
      "text/plain": [
       "{'безработный': 366413.65274420456,\n",
       " 'в декрете': 3296.7599620220594,\n",
       " 'госслужащий': 2689.3683533043886,\n",
       " 'компаньон': 1547.3822226779334,\n",
       " 'пенсионер': 365213.3062657312,\n",
       " 'предприниматель': 520.8480834953765,\n",
       " 'сотрудник': 1574.2028211070854,\n",
       " 'студент': 578.7515535382181}"
      ]
     },
     "execution_count": 152,
     "metadata": {},
     "output_type": "execute_result"
    }
   ],
   "source": [
    "# Создадим словарь медианных значений days_employed по каждому типу занятости income_type\n",
    "dct_days_employed = data.groupby('income_type')['days_employed'].agg('median').to_dict()\n",
    "dct_days_employed"
   ]
  },
  {
   "cell_type": "code",
   "execution_count": 165,
   "id": "35600f43",
   "metadata": {},
   "outputs": [
    {
     "data": {
      "text/plain": [
       "12"
      ]
     },
     "metadata": {},
     "output_type": "display_data"
    },
    {
     "data": {
      "text/plain": [
       "days_employed          NaN\n",
       "income_type      пенсионер\n",
       "Name: 12, dtype: object"
      ]
     },
     "metadata": {},
     "output_type": "display_data"
    }
   ],
   "source": [
    "# Для проверки выберем конкретное пустое значение и посмотрим, какому типу занятости оно соответствует,\n",
    "# чтобы понять, заменится ли оно далее верным медианным значением\n",
    "na_rows = data.loc[data['days_employed'].isna(), ['days_employed', 'income_type']]\n",
    "if not na_rows.empty:\n",
    "    check_idx_na = na_rows.index[0] # выберем первое пустое значение для проверки\n",
    "    display(check_idx_na, data.loc[check_idx_na, ['days_employed', 'income_type']])\n",
    "else: \n",
    "      print('NaN is filled')  "
   ]
  },
  {
   "cell_type": "code",
   "execution_count": 167,
   "id": "3976674e",
   "metadata": {},
   "outputs": [],
   "source": [
    "# Проводим замену\n",
    "data['days_employed'] = data['days_employed'].fillna(data['income_type'].map(dct_days_employed))"
   ]
  },
  {
   "cell_type": "code",
   "execution_count": 168,
   "id": "26d472d2",
   "metadata": {},
   "outputs": [
    {
     "name": "stdout",
     "output_type": "stream",
     "text": [
      "days_employed    365213.306266\n",
      "income_type          пенсионер\n",
      "Name: 12, dtype: object\n"
     ]
    }
   ],
   "source": [
    "# Проверим корректность заполнения \n",
    "if not na_rows.empty:\n",
    "    print(data.loc[check_idx_na, ['days_employed', 'income_type']])\n",
    "else: \n",
    "    print('NaN is filled')"
   ]
  },
  {
   "cell_type": "code",
   "execution_count": 169,
   "id": "ee2129bf",
   "metadata": {},
   "outputs": [
    {
     "data": {
      "text/plain": [
       "0"
      ]
     },
     "execution_count": 169,
     "metadata": {},
     "output_type": "execute_result"
    }
   ],
   "source": [
    "# Проверим, все ли пропуски заполнились\n",
    "data['days_employed'].isna().sum()"
   ]
  },
  {
   "cell_type": "markdown",
   "id": "b1f27e30",
   "metadata": {
    "id": "2753f40d"
   },
   "source": [
    "Убедимся, что все пропуски в данных заполнены."
   ]
  },
  {
   "cell_type": "code",
   "execution_count": 142,
   "id": "25a220ef",
   "metadata": {
    "id": "55f78bc2",
    "outputId": "8da1e4e1-358e-4e87-98c9-f261bce0a7b2"
   },
   "outputs": [
    {
     "data": {
      "text/plain": [
       "children            0\n",
       "days_employed       0\n",
       "dob_years           0\n",
       "education           0\n",
       "education_id        0\n",
       "family_status       0\n",
       "family_status_id    0\n",
       "gender              0\n",
       "income_type         0\n",
       "debt                0\n",
       "total_income        0\n",
       "purpose             0\n",
       "dtype: int64"
      ]
     },
     "execution_count": 142,
     "metadata": {},
     "output_type": "execute_result"
    }
   ],
   "source": [
    "data.isna().sum()"
   ]
  },
  {
   "cell_type": "markdown",
   "id": "0dd92012",
   "metadata": {
    "id": "ddc81e43"
   },
   "source": [
    "### Изменение типов данных"
   ]
  },
  {
   "cell_type": "markdown",
   "id": "191a440a",
   "metadata": {
    "id": "42d19d24"
   },
   "source": [
    "Заменим вещественный тип данных в столбце `total_income` на целочисленный с помощью метода `astype()`.\n",
    "Избавимся от копеек."
   ]
  },
  {
   "cell_type": "code",
   "execution_count": 244,
   "id": "62bec4e6",
   "metadata": {
    "id": "920b65ad"
   },
   "outputs": [],
   "source": [
    "data['total_income'] = data['total_income'].astype(int)"
   ]
  },
  {
   "cell_type": "markdown",
   "id": "0e6cf015",
   "metadata": {
    "id": "80c420ba"
   },
   "source": [
    "### Обработка дубликатов"
   ]
  },
  {
   "cell_type": "markdown",
   "id": "26c08f8b",
   "metadata": {},
   "source": [
    "Обработаем неявные дубликаты в столбце `education`. В этом столбце есть одни и те же значения, но записанные по-разному: с использованием заглавных и строчных букв. Приведем их к нижнему регистру. Проверим остальные столбцы."
   ]
  },
  {
   "cell_type": "code",
   "execution_count": 170,
   "id": "66169a42",
   "metadata": {
    "deletable": false
   },
   "outputs": [],
   "source": [
    "data['education'] = data['education'].str.lower()"
   ]
  },
  {
   "cell_type": "markdown",
   "id": "b199bcc2",
   "metadata": {},
   "source": [
    "<div class=\"alert-info\">\n",
    "<br> <b>Комментарий студента</b><br />\n",
    "В колонке образование `education` исправили неявные дубликаты, далее найдемм и удалим явные дубликаты."
   ]
  },
  {
   "cell_type": "markdown",
   "id": "fe7b65f8",
   "metadata": {
    "id": "dc587695"
   },
   "source": [
    "Выведем количество строк-дубликатов в данных. Если такие строки присутствуют, удалим их."
   ]
  },
  {
   "cell_type": "code",
   "execution_count": 171,
   "id": "640da746",
   "metadata": {
    "id": "3ee445e4",
    "outputId": "9684deba-1934-42d1-99e1-cda61740f822"
   },
   "outputs": [
    {
     "data": {
      "text/plain": [
       "71"
      ]
     },
     "execution_count": 171,
     "metadata": {},
     "output_type": "execute_result"
    }
   ],
   "source": [
    "data.duplicated().sum()"
   ]
  },
  {
   "cell_type": "code",
   "execution_count": 172,
   "id": "084eda3c",
   "metadata": {
    "id": "8575fe05"
   },
   "outputs": [],
   "source": [
    "data = data.drop_duplicates()"
   ]
  },
  {
   "cell_type": "markdown",
   "id": "cc50dad3",
   "metadata": {},
   "source": [
    "От явных и частично от неявных дубликатов избавились, это необходимые условия для корректной категоризациии и группировки клиентов банка"
   ]
  },
  {
   "cell_type": "markdown",
   "id": "f4e144a2",
   "metadata": {
    "id": "9904cf55"
   },
   "source": [
    "### Категоризация данных"
   ]
  },
  {
   "cell_type": "markdown",
   "id": "75d20c63",
   "metadata": {
    "id": "72fcc8a2"
   },
   "source": [
    "На основании диапазонов, указанных ниже, создадим в датафрейме `data` столбец `total_income_category` с категориями:\n",
    "\n",
    "- 0–30000 — `'E'`;\n",
    "- 30001–50000 — `'D'`;\n",
    "- 50001–200000 — `'C'`;\n",
    "- 200001–1000000 — `'B'`;\n",
    "- 1000001 и выше — `'A'`.\n",
    "\n",
    "\n",
    "Например, кредитополучателю с доходом 25000 назначим категорию `'E'`, а клиенту, получающему 235000, — `'B'`. Напишем собственную функцию с именем `categorize_income()` и методом `apply()`."
   ]
  },
  {
   "cell_type": "code",
   "execution_count": 214,
   "id": "562b2777",
   "metadata": {
    "id": "e1771346"
   },
   "outputs": [],
   "source": [
    "# Функция для создания категорий доходов клиентов\n",
    "def categorize_income(income):\n",
    "    try:\n",
    "        if 0 <= income <= 30000:\n",
    "            return 'E'\n",
    "        elif 30001 <= income <= 50000:\n",
    "            return 'D'\n",
    "        elif 50001 <= income <= 200000:\n",
    "            return 'C'\n",
    "        elif 200001 <= income <= 1000000:\n",
    "            return 'B'\n",
    "        elif income >= 1000001:\n",
    "            return 'A'\n",
    "    except:\n",
    "        pass"
   ]
  },
  {
   "cell_type": "code",
   "execution_count": 215,
   "id": "d07b8e43",
   "metadata": {
    "id": "d5f3586d"
   },
   "outputs": [],
   "source": [
    "data['total_income_category'] = data['total_income'].apply(categorize_income)"
   ]
  },
  {
   "cell_type": "markdown",
   "id": "36dcdd69",
   "metadata": {},
   "source": [
    "Всем клиентам банка присвоили одну из 5 категорий по уровню ежемесячного дохода, это позволит выявить зависимости, связанные с благонадежностью заемщиков. "
   ]
  },
  {
   "cell_type": "markdown",
   "id": "8dd5a303",
   "metadata": {
    "id": "dde49b5c"
   },
   "source": [
    "Выведем перечень уникальных целей взятия кредита из столбца `purpose`."
   ]
  },
  {
   "cell_type": "code",
   "execution_count": 216,
   "id": "b58953ed",
   "metadata": {
    "id": "f67ce9b3",
    "outputId": "673c12d9-7d7e-4ae0-9812-c622c89dd244"
   },
   "outputs": [
    {
     "data": {
      "text/plain": [
       "array(['покупка жилья', 'приобретение автомобиля',\n",
       "       'дополнительное образование', 'сыграть свадьбу',\n",
       "       'операции с жильем', 'образование', 'на проведение свадьбы',\n",
       "       'покупка жилья для семьи', 'покупка недвижимости',\n",
       "       'покупка коммерческой недвижимости', 'покупка жилой недвижимости',\n",
       "       'строительство собственной недвижимости', 'недвижимость',\n",
       "       'строительство недвижимости', 'на покупку подержанного автомобиля',\n",
       "       'на покупку своего автомобиля',\n",
       "       'операции с коммерческой недвижимостью',\n",
       "       'строительство жилой недвижимости', 'жилье',\n",
       "       'операции со своей недвижимостью', 'автомобили',\n",
       "       'заняться образованием', 'сделка с подержанным автомобилем',\n",
       "       'получение образования', 'автомобиль', 'свадьба',\n",
       "       'получение дополнительного образования', 'покупка своего жилья',\n",
       "       'операции с недвижимостью', 'получение высшего образования',\n",
       "       'свой автомобиль', 'сделка с автомобилем',\n",
       "       'профильное образование', 'высшее образование',\n",
       "       'покупка жилья для сдачи', 'на покупку автомобиля', 'ремонт жилью',\n",
       "       'заняться высшим образованием'], dtype=object)"
      ]
     },
     "execution_count": 216,
     "metadata": {},
     "output_type": "execute_result"
    }
   ],
   "source": [
    "data['purpose'].unique()"
   ]
  },
  {
   "cell_type": "markdown",
   "id": "19cce31b",
   "metadata": {},
   "source": [
    "Чтобы можно было оценить влияние ввозращаемости кредита от целей его получения, необходимо выделить категории целей. Очевидно, что цели в анкете не были в виде предложенных вариантов, их нужно было указывать в свободной форме, поэтому наблюдаем много разных уникальных значений в столбце `purpose`, которые все же пересекаются по смыслу и их можно распределить по нескольким основным категориям.  \n",
    "\n",
    "А сотрудникам банка можно рекомендовать внести в анкету фиксированные варианты наиболее частых целей получения кредита, оставив строку свободной формы чуть в менее заметном виде и дополнить вариантом \"Другая цель\"."
   ]
  },
  {
   "cell_type": "markdown",
   "id": "dea8b004",
   "metadata": {
    "id": "85d0aef0"
   },
   "source": [
    "Создадим функцию с именем `categorize_purpose()`, которая на основании данных из столбца `purpose` сформирует новый столбец `purpose_category`, в который войдут следующие категории:  \n",
    "\n",
    "- `'операции с автомобилем'`,\n",
    "- `'операции с недвижимостью'`,\n",
    "- `'проведение свадьбы'`,\n",
    "- `'получение образования'`.  \n",
    "\n",
    "\n",
    "Например, если в столбце `purpose` находится подстрока `'на покупку автомобиля'`, то в столбце `purpose_category` должна появиться строка `'операции с автомобилем'`.  \n",
    "\n",
    "\n",
    "\n",
    "Изучим данные в столбце `purpose` и определим, какие подстроки помогут правильно определить категорию."
   ]
  },
  {
   "cell_type": "code",
   "execution_count": 217,
   "id": "0668b452",
   "metadata": {
    "id": "e149fab4"
   },
   "outputs": [],
   "source": [
    "# Функция для создания категорий целей кредита\n",
    "def categorize_purpose(row):\n",
    "    try:\n",
    "        if 'автом' in row:\n",
    "            return 'операции с автомобилем'\n",
    "        elif 'жил' in row or 'недвиж' in row:\n",
    "            return 'операции с недвижимостью'\n",
    "        elif 'свад' in row:\n",
    "            return 'проведение свадьбы'\n",
    "        elif 'образов' in row:\n",
    "            return 'получение образования'\n",
    "    except:\n",
    "        return 'нет категории'"
   ]
  },
  {
   "cell_type": "code",
   "execution_count": 218,
   "id": "19376ea6",
   "metadata": {
    "id": "bf36e69b"
   },
   "outputs": [],
   "source": [
    "data['purpose_category'] = data['purpose'].apply(categorize_purpose)"
   ]
  },
  {
   "cell_type": "markdown",
   "id": "118944a3",
   "metadata": {},
   "source": [
    "Проведенные категоризация целей получения кредита и уровня ежемесячного дохода поможет сотрудникам банка более четко и быстро оценить риск выдачи кредита клиенту, ранжировать их на благонадежных и безответственных, чтобы снизить риски банка по невозвращению кредитов."
   ]
  },
  {
   "cell_type": "markdown",
   "id": "f6465bf3",
   "metadata": {
    "id": "09b242bf"
   },
   "source": [
    "### Шаг 3. Исследуем данные и ответим на вопросы"
   ]
  },
  {
   "cell_type": "markdown",
   "id": "765b4d0f",
   "metadata": {
    "id": "c5d66278"
   },
   "source": [
    "#### 3.1 Есть ли зависимость между количеством детей и возвратом кредита в срок?"
   ]
  },
  {
   "cell_type": "code",
   "execution_count": 256,
   "id": "1c135055",
   "metadata": {},
   "outputs": [],
   "source": [
    "# функция для создания сводной таблицы по категориям и отображению графика зависимости доли должников от выбранной категории\n",
    "def correlat_data(category):\n",
    "    data_range = data.pivot_table(index=category, values='debt', aggfunc=['count', 'sum', 'mean'])\n",
    "    data_range.columns = ['Количество заемщиков, шт', 'Количество должников, шт', 'Доля должников']\n",
    "    data_range = data_range.reset_index()\n",
    "    display(data_range)\n",
    "    data_range.plot(x=category.name, y='Доля должников', grid=True, rot=20)\n",
    "    plt.xlabel(f'{category.name}')\n",
    "    return  \n"
   ]
  },
  {
   "cell_type": "code",
   "execution_count": 257,
   "id": "1a6cf592",
   "metadata": {},
   "outputs": [
    {
     "name": "stdout",
     "output_type": "stream",
     "text": [
      "\n",
      "               \u001b[1mЗависимость доли должников от количества детей у заемщика\u001b[0m\n"
     ]
    },
    {
     "data": {
      "text/html": [
       "<div>\n",
       "<style scoped>\n",
       "    .dataframe tbody tr th:only-of-type {\n",
       "        vertical-align: middle;\n",
       "    }\n",
       "\n",
       "    .dataframe tbody tr th {\n",
       "        vertical-align: top;\n",
       "    }\n",
       "\n",
       "    .dataframe thead th {\n",
       "        text-align: right;\n",
       "    }\n",
       "</style>\n",
       "<table border=\"1\" class=\"dataframe\">\n",
       "  <thead>\n",
       "    <tr style=\"text-align: right;\">\n",
       "      <th></th>\n",
       "      <th>Количество детей</th>\n",
       "      <th>Количество заемщиков, шт</th>\n",
       "      <th>Количество должников, шт</th>\n",
       "      <th>Доля должников</th>\n",
       "    </tr>\n",
       "  </thead>\n",
       "  <tbody>\n",
       "    <tr>\n",
       "      <th>0</th>\n",
       "      <td>-1</td>\n",
       "      <td>47</td>\n",
       "      <td>1</td>\n",
       "      <td>0.021277</td>\n",
       "    </tr>\n",
       "    <tr>\n",
       "      <th>1</th>\n",
       "      <td>0</td>\n",
       "      <td>14091</td>\n",
       "      <td>1063</td>\n",
       "      <td>0.075438</td>\n",
       "    </tr>\n",
       "    <tr>\n",
       "      <th>2</th>\n",
       "      <td>1</td>\n",
       "      <td>4808</td>\n",
       "      <td>444</td>\n",
       "      <td>0.092346</td>\n",
       "    </tr>\n",
       "    <tr>\n",
       "      <th>3</th>\n",
       "      <td>2</td>\n",
       "      <td>2052</td>\n",
       "      <td>194</td>\n",
       "      <td>0.094542</td>\n",
       "    </tr>\n",
       "    <tr>\n",
       "      <th>4</th>\n",
       "      <td>3</td>\n",
       "      <td>330</td>\n",
       "      <td>27</td>\n",
       "      <td>0.081818</td>\n",
       "    </tr>\n",
       "    <tr>\n",
       "      <th>5</th>\n",
       "      <td>4</td>\n",
       "      <td>41</td>\n",
       "      <td>4</td>\n",
       "      <td>0.097561</td>\n",
       "    </tr>\n",
       "    <tr>\n",
       "      <th>6</th>\n",
       "      <td>5</td>\n",
       "      <td>9</td>\n",
       "      <td>0</td>\n",
       "      <td>0.000000</td>\n",
       "    </tr>\n",
       "    <tr>\n",
       "      <th>7</th>\n",
       "      <td>20</td>\n",
       "      <td>76</td>\n",
       "      <td>8</td>\n",
       "      <td>0.105263</td>\n",
       "    </tr>\n",
       "  </tbody>\n",
       "</table>\n",
       "</div>"
      ],
      "text/plain": [
       "   Количество детей  Количество заемщиков, шт  Количество должников, шт  \\\n",
       "0                -1                        47                         1   \n",
       "1                 0                     14091                      1063   \n",
       "2                 1                      4808                       444   \n",
       "3                 2                      2052                       194   \n",
       "4                 3                       330                        27   \n",
       "5                 4                        41                         4   \n",
       "6                 5                         9                         0   \n",
       "7                20                        76                         8   \n",
       "\n",
       "   Доля должников  \n",
       "0        0.021277  \n",
       "1        0.075438  \n",
       "2        0.092346  \n",
       "3        0.094542  \n",
       "4        0.081818  \n",
       "5        0.097561  \n",
       "6        0.000000  \n",
       "7        0.105263  "
      ]
     },
     "metadata": {},
     "output_type": "display_data"
    },
    {
     "data": {
      "image/png": "[encoded data removed]",
      "text/plain": [
       "<Figure size 432x288 with 1 Axes>"
      ]
     },
     "metadata": {
      "needs_background": "light"
     },
     "output_type": "display_data"
    }
   ],
   "source": [
    "print('\\n', '             ','\\033[1m' + 'Зависимость доли должников от количества детей у заемщика' + '\\033[0m')\n",
    "# Сводная таблица и график, отображающие долю должников, сгруппированных по количеству детей у заемщика\n",
    "correlat_data(data['children'].rename('Количество детей'))\n",
    "\n"
   ]
  },
  {
   "cell_type": "markdown",
   "id": "bd05c243",
   "metadata": {
    "id": "3a6b99ec"
   },
   "source": [
    "### **Вывод:**   \n",
    "<br> **Явной зависимости доли должников от количества детей заемщика не наблюдаем.**\n",
    "<br>**Выборки по количеству детей заемщика несбалансированы: заемщиков с 3,4 и 5 детьми очень мало.**\n",
    "<br> **Поэтому наблюдаемое резкое снижение доли должников у заемщиков с 5 детьми не позволяет сделать вывод о их большой благонадежности.**\n",
    "<br> **По самым многочисленным выборкам - от 0 до 2 детей - можно определить, что доля должников у заемщиков без детей будет меньше, чем у тех, кто имеет одного или 2 ребенка.<br/>**"
   ]
  },
  {
   "cell_type": "markdown",
   "id": "8f801aeb",
   "metadata": {
    "id": "97be82ca"
   },
   "source": [
    "#### 3.2 Есть ли зависимость между семейным положением и возвратом кредита в срок?"
   ]
  },
  {
   "cell_type": "code",
   "execution_count": 258,
   "id": "2a12cf55",
   "metadata": {
    "id": "dc3f7ee8"
   },
   "outputs": [
    {
     "name": "stdout",
     "output_type": "stream",
     "text": [
      "\n",
      "               \u001b[1mЗависимость доли должников от семейного положения заемщика\u001b[0m\n"
     ]
    },
    {
     "data": {
      "text/html": [
       "<div>\n",
       "<style scoped>\n",
       "    .dataframe tbody tr th:only-of-type {\n",
       "        vertical-align: middle;\n",
       "    }\n",
       "\n",
       "    .dataframe tbody tr th {\n",
       "        vertical-align: top;\n",
       "    }\n",
       "\n",
       "    .dataframe thead th {\n",
       "        text-align: right;\n",
       "    }\n",
       "</style>\n",
       "<table border=\"1\" class=\"dataframe\">\n",
       "  <thead>\n",
       "    <tr style=\"text-align: right;\">\n",
       "      <th></th>\n",
       "      <th>Cемейное положение</th>\n",
       "      <th>Количество заемщиков, шт</th>\n",
       "      <th>Количество должников, шт</th>\n",
       "      <th>Доля должников</th>\n",
       "    </tr>\n",
       "  </thead>\n",
       "  <tbody>\n",
       "    <tr>\n",
       "      <th>0</th>\n",
       "      <td>Не женат / не замужем</td>\n",
       "      <td>2810</td>\n",
       "      <td>274</td>\n",
       "      <td>0.097509</td>\n",
       "    </tr>\n",
       "    <tr>\n",
       "      <th>1</th>\n",
       "      <td>в разводе</td>\n",
       "      <td>1195</td>\n",
       "      <td>85</td>\n",
       "      <td>0.071130</td>\n",
       "    </tr>\n",
       "    <tr>\n",
       "      <th>2</th>\n",
       "      <td>вдовец / вдова</td>\n",
       "      <td>959</td>\n",
       "      <td>63</td>\n",
       "      <td>0.065693</td>\n",
       "    </tr>\n",
       "    <tr>\n",
       "      <th>3</th>\n",
       "      <td>гражданский брак</td>\n",
       "      <td>4151</td>\n",
       "      <td>388</td>\n",
       "      <td>0.093471</td>\n",
       "    </tr>\n",
       "    <tr>\n",
       "      <th>4</th>\n",
       "      <td>женат / замужем</td>\n",
       "      <td>12339</td>\n",
       "      <td>931</td>\n",
       "      <td>0.075452</td>\n",
       "    </tr>\n",
       "  </tbody>\n",
       "</table>\n",
       "</div>"
      ],
      "text/plain": [
       "      Cемейное положение  Количество заемщиков, шт  Количество должников, шт  \\\n",
       "0  Не женат / не замужем                      2810                       274   \n",
       "1              в разводе                      1195                        85   \n",
       "2         вдовец / вдова                       959                        63   \n",
       "3       гражданский брак                      4151                       388   \n",
       "4        женат / замужем                     12339                       931   \n",
       "\n",
       "   Доля должников  \n",
       "0        0.097509  \n",
       "1        0.071130  \n",
       "2        0.065693  \n",
       "3        0.093471  \n",
       "4        0.075452  "
      ]
     },
     "metadata": {},
     "output_type": "display_data"
    },
    {
     "data": {
      "image/png": "[encoded data removed]",
      "text/plain": [
       "<Figure size 432x288 with 1 Axes>"
      ]
     },
     "metadata": {
      "needs_background": "light"
     },
     "output_type": "display_data"
    }
   ],
   "source": [
    "print('\\n', '             ','\\033[1m' + 'Зависимость доли должников от семейного положения заемщика' + '\\033[0m')\n",
    "# Сводная таблица и график, отображающие долю должников, сгруппированных семейному положению\n",
    "correlat_data(data['family_status'].rename('Cемейное положение'))"
   ]
  },
  {
   "cell_type": "markdown",
   "id": "7c94b7cf",
   "metadata": {
    "id": "1cef7837"
   },
   "source": [
    "### **Вывод:**   \n",
    "**Семейное положение заемщика влияет на возвращаемость кредита.**  \n",
    "<br> **Наибольшие риски представляют заемщики, находящихся в гражданском браке, а также не состоящие в браке за исключением овдовевших или разведенных. Это, скорее всего, связано с юным возрастом находящихся в таком семейном положении заемщиков.** \n",
    "<br> **Состоящие или состоявшие в официальном браке заемщики лучше возвращают кредиты в срок**"
   ]
  },
  {
   "cell_type": "markdown",
   "id": "ca585f0d",
   "metadata": {
    "id": "1e8b2fca"
   },
   "source": [
    "#### 3.3 Есть ли зависимость между уровнем дохода и возвратом кредита в срок?"
   ]
  },
  {
   "cell_type": "code",
   "execution_count": 259,
   "id": "36aff6e8",
   "metadata": {
    "id": "cd7e3720"
   },
   "outputs": [
    {
     "name": "stdout",
     "output_type": "stream",
     "text": [
      "\n",
      "               \u001b[1mЗависимость доли должников от категории дохода заемщика\u001b[0m\n"
     ]
    },
    {
     "data": {
      "text/html": [
       "<div>\n",
       "<style scoped>\n",
       "    .dataframe tbody tr th:only-of-type {\n",
       "        vertical-align: middle;\n",
       "    }\n",
       "\n",
       "    .dataframe tbody tr th {\n",
       "        vertical-align: top;\n",
       "    }\n",
       "\n",
       "    .dataframe thead th {\n",
       "        text-align: right;\n",
       "    }\n",
       "</style>\n",
       "<table border=\"1\" class=\"dataframe\">\n",
       "  <thead>\n",
       "    <tr style=\"text-align: right;\">\n",
       "      <th></th>\n",
       "      <th>Категория дохода</th>\n",
       "      <th>Количество заемщиков, шт</th>\n",
       "      <th>Количество должников, шт</th>\n",
       "      <th>Доля должников</th>\n",
       "    </tr>\n",
       "  </thead>\n",
       "  <tbody>\n",
       "    <tr>\n",
       "      <th>0</th>\n",
       "      <td>A</td>\n",
       "      <td>25</td>\n",
       "      <td>2</td>\n",
       "      <td>0.080000</td>\n",
       "    </tr>\n",
       "    <tr>\n",
       "      <th>1</th>\n",
       "      <td>B</td>\n",
       "      <td>5042</td>\n",
       "      <td>356</td>\n",
       "      <td>0.070607</td>\n",
       "    </tr>\n",
       "    <tr>\n",
       "      <th>2</th>\n",
       "      <td>C</td>\n",
       "      <td>16015</td>\n",
       "      <td>1360</td>\n",
       "      <td>0.084920</td>\n",
       "    </tr>\n",
       "    <tr>\n",
       "      <th>3</th>\n",
       "      <td>D</td>\n",
       "      <td>350</td>\n",
       "      <td>21</td>\n",
       "      <td>0.060000</td>\n",
       "    </tr>\n",
       "    <tr>\n",
       "      <th>4</th>\n",
       "      <td>E</td>\n",
       "      <td>22</td>\n",
       "      <td>2</td>\n",
       "      <td>0.090909</td>\n",
       "    </tr>\n",
       "  </tbody>\n",
       "</table>\n",
       "</div>"
      ],
      "text/plain": [
       "  Категория дохода  Количество заемщиков, шт  Количество должников, шт  \\\n",
       "0                A                        25                         2   \n",
       "1                B                      5042                       356   \n",
       "2                C                     16015                      1360   \n",
       "3                D                       350                        21   \n",
       "4                E                        22                         2   \n",
       "\n",
       "   Доля должников  \n",
       "0        0.080000  \n",
       "1        0.070607  \n",
       "2        0.084920  \n",
       "3        0.060000  \n",
       "4        0.090909  "
      ]
     },
     "metadata": {},
     "output_type": "display_data"
    },
    {
     "data": {
      "image/png": "[encoded data removed]",
      "text/plain": [
       "<Figure size 432x288 with 1 Axes>"
      ]
     },
     "metadata": {
      "needs_background": "light"
     },
     "output_type": "display_data"
    }
   ],
   "source": [
    "print('\\n', '             ','\\033[1m' + 'Зависимость доли должников от категории дохода заемщика' + '\\033[0m')\n",
    "# Сводная таблица и график, отображающие долю должников, сгруппированных по уровню дохода\n",
    "correlat_data(data['total_income_category'].rename('Категория дохода')) "
   ]
  },
  {
   "cell_type": "markdown",
   "id": "23fcb04f",
   "metadata": {
    "id": "e8593def"
   },
   "source": [
    "### **Вывод:** \n",
    "<br> **Явной зависимости доли должников от категории заемщиков по ежемесячным доходам не выявлено.**  \n",
    "\n",
    "**Слишком маленькие выборки в категориях A, D и E не позволяет сделать вывод о какой-либо зависимости.**  \n",
    "\n",
    "**Сравнивая 2 самые большие выборки В и С, наблюдаем разницу в возвращении кредитов заемщиками с большим ежемесячным**\n",
    "**доходом на 1,5 %.**  \n",
    "\n",
    "**Таким образом, если опираться только на категории B и C, можно заключить, что доля должников тем меньше, чем больше уровень дохода заемщика, и рекомендовать отдавать предпочтение в выдаче кредита заемщикам, доход которых в месяц состовляет более 200 000 рублей, то есть клиентам категории B.**"
   ]
  },
  {
   "cell_type": "markdown",
   "id": "b6143f82",
   "metadata": {
    "id": "99ecbd1f"
   },
   "source": [
    "#### 3.4 Как разные цели кредита влияют на его возврат в срок?"
   ]
  },
  {
   "cell_type": "code",
   "execution_count": 260,
   "id": "6babff21",
   "metadata": {
    "id": "2b687290"
   },
   "outputs": [
    {
     "name": "stdout",
     "output_type": "stream",
     "text": [
      "\n",
      "                    \u001b[1mЗависимость доли должников от категории цели получения кредита заемщика\u001b[0m\n"
     ]
    },
    {
     "data": {
      "text/html": [
       "<div>\n",
       "<style scoped>\n",
       "    .dataframe tbody tr th:only-of-type {\n",
       "        vertical-align: middle;\n",
       "    }\n",
       "\n",
       "    .dataframe tbody tr th {\n",
       "        vertical-align: top;\n",
       "    }\n",
       "\n",
       "    .dataframe thead th {\n",
       "        text-align: right;\n",
       "    }\n",
       "</style>\n",
       "<table border=\"1\" class=\"dataframe\">\n",
       "  <thead>\n",
       "    <tr style=\"text-align: right;\">\n",
       "      <th></th>\n",
       "      <th>Цель получения кредита</th>\n",
       "      <th>Количество заемщиков, шт</th>\n",
       "      <th>Количество должников, шт</th>\n",
       "      <th>Доля должников</th>\n",
       "    </tr>\n",
       "  </thead>\n",
       "  <tbody>\n",
       "    <tr>\n",
       "      <th>0</th>\n",
       "      <td>операции с автомобилем</td>\n",
       "      <td>4306</td>\n",
       "      <td>403</td>\n",
       "      <td>0.093590</td>\n",
       "    </tr>\n",
       "    <tr>\n",
       "      <th>1</th>\n",
       "      <td>операции с недвижимостью</td>\n",
       "      <td>10811</td>\n",
       "      <td>782</td>\n",
       "      <td>0.072334</td>\n",
       "    </tr>\n",
       "    <tr>\n",
       "      <th>2</th>\n",
       "      <td>получение образования</td>\n",
       "      <td>4013</td>\n",
       "      <td>370</td>\n",
       "      <td>0.092200</td>\n",
       "    </tr>\n",
       "    <tr>\n",
       "      <th>3</th>\n",
       "      <td>проведение свадьбы</td>\n",
       "      <td>2324</td>\n",
       "      <td>186</td>\n",
       "      <td>0.080034</td>\n",
       "    </tr>\n",
       "  </tbody>\n",
       "</table>\n",
       "</div>"
      ],
      "text/plain": [
       "     Цель получения кредита  Количество заемщиков, шт  \\\n",
       "0    операции с автомобилем                      4306   \n",
       "1  операции с недвижимостью                     10811   \n",
       "2     получение образования                      4013   \n",
       "3        проведение свадьбы                      2324   \n",
       "\n",
       "   Количество должников, шт  Доля должников  \n",
       "0                       403        0.093590  \n",
       "1                       782        0.072334  \n",
       "2                       370        0.092200  \n",
       "3                       186        0.080034  "
      ]
     },
     "metadata": {},
     "output_type": "display_data"
    },
    {
     "data": {
      "image/png": "[encoded data removed]",
      "text/plain": [
       "<Figure size 432x288 with 1 Axes>"
      ]
     },
     "metadata": {
      "needs_background": "light"
     },
     "output_type": "display_data"
    }
   ],
   "source": [
    "print('\\n', '                  ','\\033[1m' + 'Зависимость доли должников от категории цели получения кредита заемщика' + '\\033[0m')\n",
    "# Сводная таблица и график, отображающие долю должников, сгруппированных по цели получения кредита \n",
    "correlat_data(data['purpose_category'].rename('Цель получения кредита')) "
   ]
  },
  {
   "cell_type": "markdown",
   "id": "c19984eb",
   "metadata": {
    "id": "b4bb2ce6"
   },
   "source": [
    "### **Вывод:** \n",
    "<br>  **Наибольшая доля должников среди заемщиков, бравших кредит \"на операции с автомобилем\" и \"получение образования\".  \n",
    "Наименьшая - в категориях \"операции с недвижимостью\" и \"проведение свадьбы\".\n",
    "<br> Можно предположить, что на высокую долю возвратов для последних 2х целей влияет то, что:  \n",
    "<br>  1.  брать кредит на такие цели будет более осознанный, ответственный заемщик в силу возраста  \n",
    "<br>  2.  банк более тщательно выбирает клиентов для выдачи крупных сумм, например, ограничиваясь меньшим процентом вычи ипотеки более молодой аудитории**\n"
   ]
  },
  {
   "cell_type": "markdown",
   "id": "79f0e5ce",
   "metadata": {
    "id": "09c3ac4c"
   },
   "source": [
    "#### 3.5 Приведем возможные причины появления пропусков в исходных данных."
   ]
  },
  {
   "cell_type": "markdown",
   "id": "a06b9d81",
   "metadata": {
    "id": "9da2ceda"
   },
   "source": [
    "*Ответ:*  \n",
    "** Одинаковое количество пропусков в исходных данных содержат столбцы \"общий трудовой стаж в днях\" (days_employed 2174 пропуска) и ежемесячный доход (total_income 2174 пропуска). Пропусков в данных не очень много: по 10%.  Можно предположить, что у заемщика отсутствовали необходимые документы - трудовая книжка и справка о доходах.  \n",
    "\n",
    "Пропуски могли появиться при формировании данных о пенсионерах, студентах или находящихся в декрете, так как они не получают заработную плату, а пенсию, стипендию или пособие могли не заполнить при анкетировании или обработке сценариев в коде, т.к. не было пояснений, что нужно включать в ежемесячный доход (как клиенту, так и программисту). Данные могли не заполняться клиентами намеренно, или пропуски могли возникнуть при загрузке/объединении данных.  "
   ]
  },
  {
   "cell_type": "markdown",
   "id": "21cbe8ed",
   "metadata": {
    "id": "7b0487d6"
   },
   "source": [
    "#### 3.6 Объясним, почему заполнить пропуски медианным значением — лучшее решение для количественных переменных."
   ]
  },
  {
   "cell_type": "markdown",
   "id": "a4c621a7",
   "metadata": {
    "id": "7ecf2b8e"
   },
   "source": [
    "*Ответ:* Медианой заполнять более корректно, т.к. среднее может быть сильно смещено из-за выбросов. Например, в столбце \"общий трудовой стаж в днях\" (days_employe) максимальное значение составило 401755 дней или более 1000 лет. Эта ошибка смещает среднее значение стажа на уровень 67148 дней (более 180 лет). К тому же, оно больше приемлемого значения медианы, равного 1996 дням (5,4 года), более, чем в 30 раз.   \n",
    "\n",
    "Таким образом, использовать среднее значение было бы ошибочным решением. Медианное значение подходит для замены пропусков в данных с большими выбросами. Наглядный пример на графике ниже."
   ]
  },
  {
   "cell_type": "code",
   "execution_count": 261,
   "id": "1e349a50",
   "metadata": {},
   "outputs": [
    {
     "data": {
      "image/png": "[encoded data removed]",
      "text/plain": [
       "<Figure size 1080x360 with 1 Axes>"
      ]
     },
     "metadata": {
      "needs_background": "light"
     },
     "output_type": "display_data"
    }
   ],
   "source": [
    "plt.figure(figsize = (15,5))\n",
    "ax = data['days_employed'].hist(bins = 40)\n",
    "ax.axvline(x = data['days_employed'].mean(), color = 'r', linestyle = 'dashed', label = 'mean')\n",
    "ax.axvline(x = data['days_employed'].median(), color = 'y', linestyle = 'dashed', label = 'median')\n",
    "plt.legend()\n",
    "plt.title('Гистограмма по столбцу days_employed с медианой и средним')\n",
    "plt.show()"
   ]
  },
  {
   "cell_type": "markdown",
   "id": "3ac63cf1",
   "metadata": {
    "id": "6db5255a"
   },
   "source": [
    "### Шаг 4: общий вывод."
   ]
  },
  {
   "cell_type": "markdown",
   "id": "8196928d",
   "metadata": {
    "id": "bad65432"
   },
   "source": [
    "В данном проекте мы работали с данными статистики о платёжеспособности клиентов, кторые предоставил заказчик - кредитный отдел банка.\n",
    "<br>Стояла задача проверить, влияет ли семейное положение и количество детей клиента на факт погашения кредита в срок. Результаты отчета необходимы банку для построения модели кредитного скоринга.  \n",
    "<br>В ходе исследования входных данных были выявлено, что:\n",
    "содержание и количество данных позволяют провести анализ, однако в них присуствуют пропуски, выбросы, аномальные значения - отрицательные значения, дубликаты в некоторых значимых для целей анализа признаках, таких, как: \n",
    "<br>`children` — количество детей в семье\n",
    "<br>`days_employed` — общий трудовой стаж в днях\n",
    "<br>`total_income` — ежемесячный доход\n",
    "<br>`purpose` — цель получения кредита\n",
    "<br>`education` — уровень образования клиента\n",
    "\n",
    "<br> Поэтому перед анализом данные были обработаны: \n",
    "<br>Пропуски в столбцах общий трудовой стаж в днях `days_employed` и ежемесячный доход `total_income` были заменены на их медианные значения, посчитанные по каждому типу из столбца тип занятости `income_type`. Медиана была выбрана вместо среднего значения, т.к. она менее чувствительна к возможным выбросам.\n",
    "<br> Преобразован тип данных столбца 'total_income': дробные числа были приведены к целым.\n",
    "<br> Выбросы в значениях столбца количество детей в семье `children` имели 2 клиента и были удалены из данных. \n",
    "<br> Аномальные значения (отрицательные) столбца стажа `days_employed` приведены к положительным значениям.\n",
    "<br> Явные дубликаты также удалены из данных, а неявные дубликаты в колонке уровень образования клиента `education` исправлены приведением всех символов к строковому типу.\n",
    "\n",
    "Одинаковое количество пропусков в исходных данных содержат столбцы \"общий трудовой стаж в днях\" и ежемесячный доход. Можно предположить, что у заемщика отсутствовали необходимые документы - трудовая книжка и справка о доходах.\n",
    "\n",
    "\n",
    "<br> Данные столбцов `total_income` и `purpose` категоризированы и созданы 2 дополнительных столбца в исходной таблице соответственно: `total_income_category` и `purpose_category`.\n",
    "<br>Выделили 5 категорий по уровню дохода `total_income`:\n",
    "- 0–30000 — `'E'`;\n",
    "- 30001–50000 — `'D'`;\n",
    "- 50001–200000 — `'C'`;\n",
    "- 200001–1000000 — `'B'`;\n",
    "- 1000001 и выше — `'A'`.\n",
    "\n",
    "<br> Выделили 4 категории по цели получения кредита `purpose`:\n",
    "- `'операции с автомобилем'`,\n",
    "- `'операции с недвижимостью'`,\n",
    "- `'проведение свадьбы'`,\n",
    "- `'получение образования'`.\n",
    "\n",
    "<br>**Проведенный анализ данных позволяет сделать следующие выводы.**\n",
    "\n",
    "<br> **Количество детей заемщика явно не влияет на факт погашения им кредита в срок. Выборки по количеству детей заемщика несбалансированы: заемщиков с 3, 4 и 5 детьми очень мало. Можно лишь отметить, что, сравнивая заемщиков без детей и заемщиков с 1 или 2 детьми, предпочтительнее выдать кредит бездетному заемщику: доля должников среди них меньше.**\n",
    "\n",
    "<br> **Семейное положение заемщика влияет на возвращаемость кредита. Наибольшие риски представляют заемщики, находящихся в гражданском браке. Состоящие или состоявшие в официальном браке заемщики лучше возвращают кредиты в срок**\n",
    "\n",
    "<br> **Явной зависимости доли должников от категории заемщиков по ежемесячным доходам не выявлено.**\n",
    "<br> **Сравнивая 2 самые большие выборки В и С, наблюдаем разницу в возвращении кредитов заемщиками с большим ежемесячным\n",
    "доходом на 1,5 %. Таким образом, если опираться только на категории B и C, можно заключить, что доля должников тем меньше, чем больше уровень дохода заемщика, и рекомендовать отдавать предпочтение в выдаче кредита заемщикам, доход которых в месяц состовляет более 200 000 рублей, то есть клиентам категории B, чем заемщикам категории С.**\n",
    "\n",
    "<br> **Цель получения кредита влияет на возвращаемость кредита. Самыми проблемными выглядят автокредиты и кредиты на <br> образование. Менее рисковано выдавать кредиты на операции с недвижимостью и на проведение свадьбы.**\n",
    "\n",
    "<br> **Наиболее благонадежный заемщик: состоящий или состоявший в официальном браке клиент для операций с недвижимостью.**\n",
    "\n",
    "<br> **Банку можно порекомендовать более тщательно продумать сбор данных, проверять качество заполнения, загрузки информации , чтобы не было аномальных значений, пропусков из-за отсутствия документов, невведенных данных или технической ошибки. Возможно, создать группу проверки качества сбора информаци; все ячейки, кроме ФИО, в программе для ввода данных сделать заведомо строчного шрифта, а там, где должны быть только положительные числа, запрещать вводить отрицательные значения.** \n",
    "<br> **Также желательно усовершенствовать анкету: внести фиксированные варианты наиболее частых целей получения кредита, оставив строку свободной формы чуть в менее заметном виде и дополнить вариантом \"Другая цель\".**"
   ]
  },
  {
   "cell_type": "code",
   "execution_count": null,
   "id": "7df224c7",
   "metadata": {},
   "outputs": [],
   "source": []
  }
 ],
 "metadata": {
  "ExecuteTimeLog": [
   {
    "duration": 449,
    "start_time": "2022-10-15T22:22:44.596Z"
   },
   {
    "duration": 22,
    "start_time": "2022-10-15T22:22:50.183Z"
   },
   {
    "duration": 10,
    "start_time": "2022-10-15T22:22:58.085Z"
   },
   {
    "duration": 39,
    "start_time": "2022-10-15T22:23:09.303Z"
   },
   {
    "duration": 4,
    "start_time": "2022-10-15T22:23:16.252Z"
   },
   {
    "duration": 9,
    "start_time": "2022-10-15T22:23:20.827Z"
   },
   {
    "duration": 5,
    "start_time": "2022-10-15T22:23:31.253Z"
   },
   {
    "duration": 7,
    "start_time": "2022-10-15T22:23:34.048Z"
   },
   {
    "duration": 4,
    "start_time": "2022-10-15T22:23:39.709Z"
   },
   {
    "duration": 37,
    "start_time": "2022-10-15T22:23:43.013Z"
   },
   {
    "duration": 14,
    "start_time": "2022-10-15T22:23:54.330Z"
   },
   {
    "duration": 4,
    "start_time": "2022-10-15T22:24:00.405Z"
   },
   {
    "duration": 11,
    "start_time": "2022-10-15T22:24:08.373Z"
   },
   {
    "duration": 18,
    "start_time": "2022-10-15T22:24:12.270Z"
   },
   {
    "duration": 17,
    "start_time": "2022-10-15T22:24:14.701Z"
   },
   {
    "duration": 4,
    "start_time": "2022-10-15T22:24:31.263Z"
   },
   {
    "duration": 10,
    "start_time": "2022-10-15T22:24:37.982Z"
   },
   {
    "duration": 6,
    "start_time": "2022-10-15T22:24:39.404Z"
   },
   {
    "duration": 3,
    "start_time": "2022-10-15T22:24:48.208Z"
   },
   {
    "duration": 8,
    "start_time": "2022-10-15T22:24:56.271Z"
   },
   {
    "duration": 26,
    "start_time": "2022-10-15T22:40:50.388Z"
   },
   {
    "duration": 27,
    "start_time": "2022-10-15T22:43:58.689Z"
   },
   {
    "duration": 25,
    "start_time": "2022-10-15T22:48:15.628Z"
   },
   {
    "duration": 37,
    "start_time": "2022-10-15T22:48:38.865Z"
   },
   {
    "duration": 26,
    "start_time": "2022-10-15T22:49:06.441Z"
   },
   {
    "duration": 4,
    "start_time": "2022-10-15T22:50:59.286Z"
   },
   {
    "duration": 23,
    "start_time": "2022-10-15T22:51:01.683Z"
   },
   {
    "duration": 683,
    "start_time": "2022-10-15T22:59:12.148Z"
   },
   {
    "duration": 25,
    "start_time": "2022-10-15T22:59:27.872Z"
   },
   {
    "duration": 25,
    "start_time": "2022-10-15T22:59:50.994Z"
   },
   {
    "duration": 700,
    "start_time": "2022-10-15T23:03:20.879Z"
   },
   {
    "duration": 28,
    "start_time": "2022-10-15T23:03:25.758Z"
   },
   {
    "duration": 4,
    "start_time": "2022-10-15T23:05:10.878Z"
   },
   {
    "duration": 33,
    "start_time": "2022-10-15T23:05:16.637Z"
   },
   {
    "duration": 5,
    "start_time": "2022-10-15T23:05:37.735Z"
   },
   {
    "duration": 31,
    "start_time": "2022-10-15T23:05:38.169Z"
   },
   {
    "duration": 54,
    "start_time": "2022-10-15T23:06:38.735Z"
   },
   {
    "duration": 3,
    "start_time": "2022-10-15T23:07:06.120Z"
   },
   {
    "duration": 28,
    "start_time": "2022-10-15T23:07:08.701Z"
   },
   {
    "duration": 3,
    "start_time": "2022-10-15T23:07:44.716Z"
   },
   {
    "duration": 24,
    "start_time": "2022-10-15T23:07:49.495Z"
   },
   {
    "duration": 3,
    "start_time": "2022-10-15T23:08:38.551Z"
   },
   {
    "duration": 25,
    "start_time": "2022-10-15T23:08:43.055Z"
   },
   {
    "duration": 27,
    "start_time": "2022-10-15T23:09:40.509Z"
   },
   {
    "duration": 3,
    "start_time": "2022-10-15T23:09:47.504Z"
   },
   {
    "duration": 23,
    "start_time": "2022-10-15T23:09:47.966Z"
   },
   {
    "duration": 27,
    "start_time": "2022-10-15T23:09:49.316Z"
   },
   {
    "duration": 31,
    "start_time": "2022-10-15T23:10:52.246Z"
   },
   {
    "duration": 28,
    "start_time": "2022-10-15T23:11:00.838Z"
   },
   {
    "duration": 3,
    "start_time": "2022-10-15T23:11:24.649Z"
   },
   {
    "duration": 24,
    "start_time": "2022-10-15T23:11:26.245Z"
   },
   {
    "duration": 4,
    "start_time": "2022-10-15T23:11:43.040Z"
   },
   {
    "duration": 4,
    "start_time": "2022-10-15T23:11:46.864Z"
   },
   {
    "duration": 24,
    "start_time": "2022-10-15T23:11:49.413Z"
   },
   {
    "duration": 3,
    "start_time": "2022-10-15T23:12:02.394Z"
   },
   {
    "duration": 24,
    "start_time": "2022-10-15T23:12:04.647Z"
   },
   {
    "duration": 4,
    "start_time": "2022-10-15T23:23:54.161Z"
   },
   {
    "duration": 23,
    "start_time": "2022-10-15T23:23:54.718Z"
   },
   {
    "duration": 27,
    "start_time": "2022-10-15T23:23:55.389Z"
   },
   {
    "duration": 30,
    "start_time": "2022-10-15T23:23:55.908Z"
   },
   {
    "duration": 28,
    "start_time": "2022-10-15T23:23:56.837Z"
   },
   {
    "duration": 991,
    "start_time": "2022-10-15T23:28:46.192Z"
   },
   {
    "duration": 778,
    "start_time": "2022-10-15T23:29:44.224Z"
   },
   {
    "duration": 22,
    "start_time": "2022-10-15T23:39:02.788Z"
   },
   {
    "duration": 20,
    "start_time": "2022-10-15T23:39:08.648Z"
   },
   {
    "duration": 3,
    "start_time": "2022-10-15T23:39:14.335Z"
   },
   {
    "duration": 32,
    "start_time": "2022-10-15T23:39:27.639Z"
   },
   {
    "duration": 3,
    "start_time": "2022-10-15T23:41:56.799Z"
   },
   {
    "duration": 29,
    "start_time": "2022-10-15T23:41:58.199Z"
   },
   {
    "duration": 4,
    "start_time": "2022-10-15T23:42:07.319Z"
   },
   {
    "duration": 257,
    "start_time": "2022-10-15T23:42:08.062Z"
   },
   {
    "duration": 3,
    "start_time": "2022-10-15T23:43:34.650Z"
   },
   {
    "duration": 780,
    "start_time": "2022-10-15T23:43:35.398Z"
   },
   {
    "duration": 3,
    "start_time": "2022-10-15T23:43:43.937Z"
   },
   {
    "duration": 3,
    "start_time": "2022-10-15T23:43:49.097Z"
   },
   {
    "duration": 4,
    "start_time": "2022-10-15T23:43:51.343Z"
   },
   {
    "duration": 6,
    "start_time": "2022-10-15T23:45:04.635Z"
   },
   {
    "duration": 3,
    "start_time": "2022-10-15T23:46:32.369Z"
   },
   {
    "duration": 4,
    "start_time": "2022-10-15T23:46:52.560Z"
   },
   {
    "duration": 29,
    "start_time": "2022-10-15T23:47:01.361Z"
   },
   {
    "duration": 53,
    "start_time": "2022-10-15T23:50:11.766Z"
   },
   {
    "duration": 49,
    "start_time": "2022-10-15T23:50:36.961Z"
   },
   {
    "duration": 4,
    "start_time": "2022-10-15T23:50:49.609Z"
   },
   {
    "duration": 24,
    "start_time": "2022-10-15T23:50:55.072Z"
   },
   {
    "duration": 17,
    "start_time": "2022-10-15T23:51:11.035Z"
   },
   {
    "duration": 4,
    "start_time": "2022-10-15T23:51:21.844Z"
   },
   {
    "duration": 17,
    "start_time": "2022-10-15T23:51:22.804Z"
   },
   {
    "duration": 73,
    "start_time": "2022-10-15T23:52:16.909Z"
   },
   {
    "duration": 4,
    "start_time": "2022-10-15T23:52:24.315Z"
   },
   {
    "duration": 18,
    "start_time": "2022-10-15T23:52:27.494Z"
   },
   {
    "duration": 9,
    "start_time": "2022-10-15T23:52:51.721Z"
   },
   {
    "duration": 27,
    "start_time": "2022-10-15T23:52:52.645Z"
   },
   {
    "duration": 68,
    "start_time": "2022-10-15T23:53:27.611Z"
   },
   {
    "duration": 4,
    "start_time": "2022-10-15T23:53:32.633Z"
   },
   {
    "duration": 30,
    "start_time": "2022-10-15T23:53:33.646Z"
   },
   {
    "duration": 3,
    "start_time": "2022-10-15T23:53:56.255Z"
   },
   {
    "duration": 19,
    "start_time": "2022-10-15T23:53:58.798Z"
   },
   {
    "duration": 23,
    "start_time": "2022-10-15T23:54:12.133Z"
   },
   {
    "duration": 3,
    "start_time": "2022-10-15T23:54:18.304Z"
   },
   {
    "duration": 30,
    "start_time": "2022-10-15T23:54:19.086Z"
   },
   {
    "duration": 4,
    "start_time": "2022-10-15T23:54:23.990Z"
   },
   {
    "duration": 33,
    "start_time": "2022-10-15T23:54:25.823Z"
   },
   {
    "duration": 5,
    "start_time": "2022-10-15T23:55:11.880Z"
   },
   {
    "duration": 4,
    "start_time": "2022-10-15T23:55:16.545Z"
   },
   {
    "duration": 40,
    "start_time": "2022-10-15T23:55:18.986Z"
   },
   {
    "duration": 3,
    "start_time": "2022-10-15T23:56:44.497Z"
   },
   {
    "duration": 3,
    "start_time": "2022-10-15T23:56:50.857Z"
   },
   {
    "duration": 4,
    "start_time": "2022-10-15T23:56:57.623Z"
   },
   {
    "duration": 4,
    "start_time": "2022-10-15T23:57:22.578Z"
   },
   {
    "duration": 3,
    "start_time": "2022-10-15T23:57:28.161Z"
   },
   {
    "duration": 3,
    "start_time": "2022-10-15T23:58:12.449Z"
   },
   {
    "duration": 3,
    "start_time": "2022-10-15T23:58:19.872Z"
   },
   {
    "duration": 30,
    "start_time": "2022-10-15T23:58:22.365Z"
   },
   {
    "duration": 30,
    "start_time": "2022-10-15T23:58:38.439Z"
   },
   {
    "duration": 3,
    "start_time": "2022-10-15T23:58:40.216Z"
   },
   {
    "duration": 29,
    "start_time": "2022-10-15T23:58:40.502Z"
   },
   {
    "duration": 3,
    "start_time": "2022-10-15T23:59:04.458Z"
   },
   {
    "duration": 31,
    "start_time": "2022-10-15T23:59:05.462Z"
   },
   {
    "duration": 3,
    "start_time": "2022-10-15T23:59:19.608Z"
   },
   {
    "duration": 32,
    "start_time": "2022-10-15T23:59:21.093Z"
   },
   {
    "duration": 4,
    "start_time": "2022-10-15T23:59:52.601Z"
   },
   {
    "duration": 128,
    "start_time": "2022-10-15T23:59:53.865Z"
   },
   {
    "duration": 4,
    "start_time": "2022-10-16T00:00:48.360Z"
   },
   {
    "duration": 137,
    "start_time": "2022-10-16T00:00:50.877Z"
   },
   {
    "duration": 4,
    "start_time": "2022-10-16T00:01:03.977Z"
   },
   {
    "duration": 142,
    "start_time": "2022-10-16T00:01:04.654Z"
   },
   {
    "duration": 4,
    "start_time": "2022-10-16T00:01:10.975Z"
   },
   {
    "duration": 179,
    "start_time": "2022-10-16T00:01:12.176Z"
   },
   {
    "duration": 4,
    "start_time": "2022-10-16T00:01:20.943Z"
   },
   {
    "duration": 131,
    "start_time": "2022-10-16T00:01:21.613Z"
   },
   {
    "duration": 5,
    "start_time": "2022-10-16T00:01:25.496Z"
   },
   {
    "duration": 129,
    "start_time": "2022-10-16T00:01:26.149Z"
   },
   {
    "duration": 3,
    "start_time": "2022-10-16T00:02:08.826Z"
   },
   {
    "duration": 23,
    "start_time": "2022-10-16T00:02:09.384Z"
   },
   {
    "duration": 3,
    "start_time": "2022-10-16T00:02:29.423Z"
   },
   {
    "duration": 21,
    "start_time": "2022-10-16T00:02:29.976Z"
   },
   {
    "duration": 3,
    "start_time": "2022-10-16T00:02:48.138Z"
   },
   {
    "duration": 21,
    "start_time": "2022-10-16T00:02:48.751Z"
   },
   {
    "duration": 56,
    "start_time": "2022-10-16T00:03:04.405Z"
   },
   {
    "duration": 15,
    "start_time": "2022-10-16T00:03:04.900Z"
   },
   {
    "duration": 13,
    "start_time": "2022-10-16T00:03:05.285Z"
   },
   {
    "duration": 9,
    "start_time": "2022-10-16T00:03:05.989Z"
   },
   {
    "duration": 32,
    "start_time": "2022-10-16T00:03:06.325Z"
   },
   {
    "duration": 3,
    "start_time": "2022-10-16T00:03:06.851Z"
   },
   {
    "duration": 8,
    "start_time": "2022-10-16T00:03:07.963Z"
   },
   {
    "duration": 4,
    "start_time": "2022-10-16T00:03:08.507Z"
   },
   {
    "duration": 8,
    "start_time": "2022-10-16T00:03:08.881Z"
   },
   {
    "duration": 4,
    "start_time": "2022-10-16T00:03:09.218Z"
   },
   {
    "duration": 32,
    "start_time": "2022-10-16T00:03:09.772Z"
   },
   {
    "duration": 10,
    "start_time": "2022-10-16T00:03:10.154Z"
   },
   {
    "duration": 4,
    "start_time": "2022-10-16T00:03:10.713Z"
   },
   {
    "duration": 12,
    "start_time": "2022-10-16T00:03:11.290Z"
   },
   {
    "duration": 18,
    "start_time": "2022-10-16T00:03:11.659Z"
   },
   {
    "duration": 25,
    "start_time": "2022-10-16T00:03:11.845Z"
   },
   {
    "duration": 4,
    "start_time": "2022-10-16T00:03:12.444Z"
   },
   {
    "duration": 10,
    "start_time": "2022-10-16T00:03:12.681Z"
   },
   {
    "duration": 6,
    "start_time": "2022-10-16T00:03:13.069Z"
   },
   {
    "duration": 4,
    "start_time": "2022-10-16T00:03:13.390Z"
   },
   {
    "duration": 8,
    "start_time": "2022-10-16T00:03:13.553Z"
   },
   {
    "duration": 3,
    "start_time": "2022-10-16T00:03:21.622Z"
   },
   {
    "duration": 37,
    "start_time": "2022-10-16T00:03:22.851Z"
   },
   {
    "duration": 3,
    "start_time": "2022-10-16T00:03:40.391Z"
   },
   {
    "duration": 135,
    "start_time": "2022-10-16T00:03:41.293Z"
   },
   {
    "duration": 4,
    "start_time": "2022-10-16T00:04:08.482Z"
   },
   {
    "duration": 164,
    "start_time": "2022-10-16T00:04:09.022Z"
   },
   {
    "duration": 3,
    "start_time": "2022-10-16T00:04:25.897Z"
   },
   {
    "duration": 3,
    "start_time": "2022-10-16T00:05:00.211Z"
   },
   {
    "duration": 23,
    "start_time": "2022-10-16T00:05:01.961Z"
   },
   {
    "duration": 3,
    "start_time": "2022-10-16T00:05:18.402Z"
   },
   {
    "duration": 129,
    "start_time": "2022-10-16T00:05:19.632Z"
   },
   {
    "duration": 3,
    "start_time": "2022-10-16T00:05:33.873Z"
   },
   {
    "duration": 22,
    "start_time": "2022-10-16T00:05:34.677Z"
   },
   {
    "duration": 4,
    "start_time": "2022-10-16T00:06:20.880Z"
   },
   {
    "duration": 130,
    "start_time": "2022-10-16T00:06:22.005Z"
   },
   {
    "duration": 4,
    "start_time": "2022-10-16T00:06:49.556Z"
   },
   {
    "duration": 135,
    "start_time": "2022-10-16T00:06:50.341Z"
   },
   {
    "duration": 3,
    "start_time": "2022-10-16T00:07:41.370Z"
   },
   {
    "duration": 141,
    "start_time": "2022-10-16T00:07:44.957Z"
   },
   {
    "duration": 4,
    "start_time": "2022-10-16T00:07:53.784Z"
   },
   {
    "duration": 159,
    "start_time": "2022-10-16T00:07:55.598Z"
   },
   {
    "duration": 146,
    "start_time": "2022-10-16T00:13:12.906Z"
   },
   {
    "duration": 200,
    "start_time": "2022-10-16T00:13:26.302Z"
   },
   {
    "duration": 136,
    "start_time": "2022-10-16T00:14:01.565Z"
   },
   {
    "duration": 6,
    "start_time": "2022-10-16T00:19:36.843Z"
   },
   {
    "duration": 6,
    "start_time": "2022-10-16T00:21:31.070Z"
   },
   {
    "duration": 46,
    "start_time": "2022-10-16T00:23:20.639Z"
   },
   {
    "duration": 15135,
    "start_time": "2022-10-16T00:23:25.695Z"
   },
   {
    "duration": 152,
    "start_time": "2022-10-16T00:28:30.615Z"
   },
   {
    "duration": 135,
    "start_time": "2022-10-16T00:31:46.437Z"
   },
   {
    "duration": 152,
    "start_time": "2022-10-16T01:01:39.641Z"
   },
   {
    "duration": 145,
    "start_time": "2022-10-16T01:05:35.400Z"
   },
   {
    "duration": 5,
    "start_time": "2022-10-16T01:11:48.151Z"
   },
   {
    "duration": 142,
    "start_time": "2022-10-16T01:24:20.384Z"
   },
   {
    "duration": 1147,
    "start_time": "2022-10-16T10:49:43.665Z"
   },
   {
    "duration": 19,
    "start_time": "2022-10-16T10:49:44.814Z"
   },
   {
    "duration": 15,
    "start_time": "2022-10-16T10:49:44.835Z"
   },
   {
    "duration": 9,
    "start_time": "2022-10-16T10:49:44.852Z"
   },
   {
    "duration": 43,
    "start_time": "2022-10-16T10:49:44.864Z"
   },
   {
    "duration": 3,
    "start_time": "2022-10-16T10:49:44.908Z"
   },
   {
    "duration": 10,
    "start_time": "2022-10-16T10:49:44.913Z"
   },
   {
    "duration": 4,
    "start_time": "2022-10-16T10:49:44.924Z"
   },
   {
    "duration": 7,
    "start_time": "2022-10-16T10:49:44.930Z"
   },
   {
    "duration": 4,
    "start_time": "2022-10-16T10:49:44.939Z"
   },
   {
    "duration": 63,
    "start_time": "2022-10-16T10:49:44.945Z"
   },
   {
    "duration": 10,
    "start_time": "2022-10-16T10:49:45.010Z"
   },
   {
    "duration": 4,
    "start_time": "2022-10-16T10:49:45.021Z"
   },
   {
    "duration": 15,
    "start_time": "2022-10-16T10:49:45.028Z"
   },
   {
    "duration": 22,
    "start_time": "2022-10-16T10:49:45.044Z"
   },
   {
    "duration": 38,
    "start_time": "2022-10-16T10:49:45.067Z"
   },
   {
    "duration": 4,
    "start_time": "2022-10-16T10:49:45.106Z"
   },
   {
    "duration": 13,
    "start_time": "2022-10-16T10:49:45.111Z"
   },
   {
    "duration": 13,
    "start_time": "2022-10-16T10:49:45.126Z"
   },
   {
    "duration": 4,
    "start_time": "2022-10-16T10:49:45.141Z"
   },
   {
    "duration": 15,
    "start_time": "2022-10-16T10:49:45.147Z"
   },
   {
    "duration": 6,
    "start_time": "2022-10-16T10:49:45.164Z"
   },
   {
    "duration": 180,
    "start_time": "2022-10-16T10:49:45.172Z"
   },
   {
    "duration": 172,
    "start_time": "2022-10-16T10:49:45.354Z"
   },
   {
    "duration": 153,
    "start_time": "2022-10-16T10:49:45.528Z"
   },
   {
    "duration": 164,
    "start_time": "2022-10-16T10:49:45.683Z"
   },
   {
    "duration": 488,
    "start_time": "2022-10-16T11:01:28.392Z"
   },
   {
    "duration": 842,
    "start_time": "2022-10-16T12:02:04.488Z"
   },
   {
    "duration": 6,
    "start_time": "2022-10-16T15:38:15.401Z"
   },
   {
    "duration": 71,
    "start_time": "2022-10-16T17:07:56.474Z"
   },
   {
    "duration": 7,
    "start_time": "2022-10-16T17:13:33.644Z"
   },
   {
    "duration": 7,
    "start_time": "2022-10-16T17:16:39.416Z"
   },
   {
    "duration": 8,
    "start_time": "2022-10-16T17:16:59.170Z"
   },
   {
    "duration": 7,
    "start_time": "2022-10-16T17:17:06.791Z"
   },
   {
    "duration": 6,
    "start_time": "2022-10-16T17:18:20.527Z"
   },
   {
    "duration": 658,
    "start_time": "2022-10-16T17:18:45.210Z"
   },
   {
    "duration": 59,
    "start_time": "2022-10-16T17:18:45.870Z"
   },
   {
    "duration": 19,
    "start_time": "2022-10-16T17:18:45.930Z"
   },
   {
    "duration": 15,
    "start_time": "2022-10-16T17:18:45.951Z"
   },
   {
    "duration": 10,
    "start_time": "2022-10-16T17:18:45.968Z"
   },
   {
    "duration": 7,
    "start_time": "2022-10-16T17:18:48.491Z"
   },
   {
    "duration": 32,
    "start_time": "2022-10-16T17:18:48.500Z"
   },
   {
    "duration": 4,
    "start_time": "2022-10-16T17:18:48.624Z"
   },
   {
    "duration": 11,
    "start_time": "2022-10-16T17:18:48.629Z"
   },
   {
    "duration": 4,
    "start_time": "2022-10-16T17:18:48.641Z"
   },
   {
    "duration": 10,
    "start_time": "2022-10-16T17:18:48.647Z"
   },
   {
    "duration": 4,
    "start_time": "2022-10-16T17:18:48.658Z"
   },
   {
    "duration": 36,
    "start_time": "2022-10-16T17:18:48.663Z"
   },
   {
    "duration": 33,
    "start_time": "2022-10-16T17:18:48.701Z"
   },
   {
    "duration": 4,
    "start_time": "2022-10-16T17:18:48.737Z"
   },
   {
    "duration": 14,
    "start_time": "2022-10-16T17:18:48.743Z"
   },
   {
    "duration": 20,
    "start_time": "2022-10-16T17:18:48.759Z"
   },
   {
    "duration": 20,
    "start_time": "2022-10-16T17:18:48.781Z"
   },
   {
    "duration": 3,
    "start_time": "2022-10-16T17:18:48.803Z"
   },
   {
    "duration": 9,
    "start_time": "2022-10-16T17:18:48.834Z"
   },
   {
    "duration": 8,
    "start_time": "2022-10-16T17:18:48.845Z"
   },
   {
    "duration": 3,
    "start_time": "2022-10-16T17:18:48.854Z"
   },
   {
    "duration": 11,
    "start_time": "2022-10-16T17:18:48.858Z"
   },
   {
    "duration": 5,
    "start_time": "2022-10-16T17:18:48.870Z"
   },
   {
    "duration": 185,
    "start_time": "2022-10-16T17:18:48.877Z"
   },
   {
    "duration": 171,
    "start_time": "2022-10-16T17:18:49.064Z"
   },
   {
    "duration": 153,
    "start_time": "2022-10-16T17:18:49.236Z"
   },
   {
    "duration": 157,
    "start_time": "2022-10-16T17:18:49.390Z"
   },
   {
    "duration": 418,
    "start_time": "2022-10-16T17:18:49.549Z"
   },
   {
    "duration": 11,
    "start_time": "2022-10-16T17:23:20.342Z"
   },
   {
    "duration": 64,
    "start_time": "2022-10-16T17:28:35.858Z"
   },
   {
    "duration": 43,
    "start_time": "2022-10-16T17:29:25.959Z"
   },
   {
    "duration": 44,
    "start_time": "2022-10-16T17:29:32.849Z"
   },
   {
    "duration": 7,
    "start_time": "2022-10-16T17:30:01.474Z"
   },
   {
    "duration": 62,
    "start_time": "2022-10-16T17:30:15.661Z"
   },
   {
    "duration": 2,
    "start_time": "2022-10-16T17:32:46.824Z"
   },
   {
    "duration": 72,
    "start_time": "2022-10-16T17:32:55.850Z"
   },
   {
    "duration": 16,
    "start_time": "2022-10-16T17:33:14.633Z"
   },
   {
    "duration": 41,
    "start_time": "2022-10-16T17:34:36.240Z"
   },
   {
    "duration": 18,
    "start_time": "2022-10-16T17:34:38.152Z"
   },
   {
    "duration": 8,
    "start_time": "2022-10-16T17:35:24.681Z"
   },
   {
    "duration": 6,
    "start_time": "2022-10-16T17:35:49.191Z"
   },
   {
    "duration": 16,
    "start_time": "2022-10-16T17:40:35.619Z"
   },
   {
    "duration": 11,
    "start_time": "2022-10-16T17:42:06.884Z"
   },
   {
    "duration": 6,
    "start_time": "2022-10-16T17:42:15.030Z"
   },
   {
    "duration": 627,
    "start_time": "2022-10-16T17:43:32.033Z"
   },
   {
    "duration": 61,
    "start_time": "2022-10-16T17:43:32.662Z"
   },
   {
    "duration": 19,
    "start_time": "2022-10-16T17:43:32.945Z"
   },
   {
    "duration": 17,
    "start_time": "2022-10-16T17:43:42.496Z"
   },
   {
    "duration": 10,
    "start_time": "2022-10-16T17:43:50.358Z"
   },
   {
    "duration": 33,
    "start_time": "2022-10-16T17:44:00.515Z"
   },
   {
    "duration": 10,
    "start_time": "2022-10-16T17:44:04.344Z"
   },
   {
    "duration": 9,
    "start_time": "2022-10-16T17:49:03.994Z"
   },
   {
    "duration": 624,
    "start_time": "2022-10-16T17:49:57.222Z"
   },
   {
    "duration": 59,
    "start_time": "2022-10-16T17:49:57.848Z"
   },
   {
    "duration": 20,
    "start_time": "2022-10-16T17:49:58.353Z"
   },
   {
    "duration": 15,
    "start_time": "2022-10-16T17:50:02.562Z"
   },
   {
    "duration": 10,
    "start_time": "2022-10-16T17:50:10.049Z"
   },
   {
    "duration": 34,
    "start_time": "2022-10-16T17:50:17.799Z"
   },
   {
    "duration": 10,
    "start_time": "2022-10-16T17:50:24.220Z"
   },
   {
    "duration": 8,
    "start_time": "2022-10-16T17:50:28.339Z"
   },
   {
    "duration": 12,
    "start_time": "2022-10-16T17:57:02.065Z"
   },
   {
    "duration": 49,
    "start_time": "2022-10-16T17:57:20.341Z"
   },
   {
    "duration": 831,
    "start_time": "2022-10-16T17:57:42.063Z"
   },
   {
    "duration": 3,
    "start_time": "2022-10-16T17:57:52.695Z"
   },
   {
    "duration": 797,
    "start_time": "2022-10-16T17:57:56.762Z"
   },
   {
    "duration": 4,
    "start_time": "2022-10-16T17:58:18.806Z"
   },
   {
    "duration": 14,
    "start_time": "2022-10-16T17:59:16.519Z"
   },
   {
    "duration": 14,
    "start_time": "2022-10-16T17:59:35.847Z"
   },
   {
    "duration": 57,
    "start_time": "2022-10-16T18:02:24.810Z"
   },
   {
    "duration": 7,
    "start_time": "2022-10-16T18:10:09.590Z"
   },
   {
    "duration": 868,
    "start_time": "2022-10-16T18:11:09.273Z"
   },
   {
    "duration": 364,
    "start_time": "2022-10-16T18:11:23.218Z"
   },
   {
    "duration": 4,
    "start_time": "2022-10-16T18:12:52.410Z"
   },
   {
    "duration": 53,
    "start_time": "2022-10-16T18:14:05.716Z"
   },
   {
    "duration": 58,
    "start_time": "2022-10-16T18:16:12.216Z"
   },
   {
    "duration": 89,
    "start_time": "2022-10-16T18:24:09.777Z"
   },
   {
    "duration": 44,
    "start_time": "2022-10-16T18:26:27.072Z"
   },
   {
    "duration": 17,
    "start_time": "2022-10-16T18:33:32.389Z"
   },
   {
    "duration": 60,
    "start_time": "2022-10-16T19:12:25.088Z"
   },
   {
    "duration": 42,
    "start_time": "2022-10-16T19:12:42.774Z"
   },
   {
    "duration": 9,
    "start_time": "2022-10-16T19:41:18.502Z"
   },
   {
    "duration": 662,
    "start_time": "2022-10-16T19:42:15.206Z"
   },
   {
    "duration": 63,
    "start_time": "2022-10-16T19:42:15.870Z"
   },
   {
    "duration": 19,
    "start_time": "2022-10-16T19:42:15.934Z"
   },
   {
    "duration": 14,
    "start_time": "2022-10-16T19:42:15.955Z"
   },
   {
    "duration": 9,
    "start_time": "2022-10-16T19:42:15.970Z"
   },
   {
    "duration": 54,
    "start_time": "2022-10-16T19:42:15.980Z"
   },
   {
    "duration": 4,
    "start_time": "2022-10-16T19:42:16.035Z"
   },
   {
    "duration": 12,
    "start_time": "2022-10-16T19:42:16.041Z"
   },
   {
    "duration": 4,
    "start_time": "2022-10-16T19:42:16.055Z"
   },
   {
    "duration": 9,
    "start_time": "2022-10-16T19:42:16.062Z"
   },
   {
    "duration": 5,
    "start_time": "2022-10-16T19:42:16.072Z"
   },
   {
    "duration": 62,
    "start_time": "2022-10-16T19:42:16.078Z"
   },
   {
    "duration": 9,
    "start_time": "2022-10-16T19:42:16.142Z"
   },
   {
    "duration": 9,
    "start_time": "2022-10-16T19:42:16.152Z"
   },
   {
    "duration": 21,
    "start_time": "2022-10-16T19:42:16.163Z"
   },
   {
    "duration": 21,
    "start_time": "2022-10-16T19:42:16.185Z"
   },
   {
    "duration": 30,
    "start_time": "2022-10-16T19:42:16.207Z"
   },
   {
    "duration": 3,
    "start_time": "2022-10-16T19:42:16.239Z"
   },
   {
    "duration": 13,
    "start_time": "2022-10-16T19:42:16.245Z"
   },
   {
    "duration": 11,
    "start_time": "2022-10-16T19:42:16.260Z"
   },
   {
    "duration": 6,
    "start_time": "2022-10-16T19:42:16.273Z"
   },
   {
    "duration": 14,
    "start_time": "2022-10-16T19:42:16.281Z"
   },
   {
    "duration": 8,
    "start_time": "2022-10-16T19:42:16.297Z"
   },
   {
    "duration": 210,
    "start_time": "2022-10-16T19:42:16.308Z"
   },
   {
    "duration": 752,
    "start_time": "2022-10-16T19:42:16.519Z"
   },
   {
    "duration": 0,
    "start_time": "2022-10-16T19:42:17.273Z"
   },
   {
    "duration": 0,
    "start_time": "2022-10-16T19:42:17.274Z"
   },
   {
    "duration": 0,
    "start_time": "2022-10-16T19:42:17.276Z"
   },
   {
    "duration": 615,
    "start_time": "2022-10-16T19:45:53.281Z"
   },
   {
    "duration": 8,
    "start_time": "2022-10-16T19:46:58.119Z"
   },
   {
    "duration": 3,
    "start_time": "2022-10-16T20:10:40.007Z"
   },
   {
    "duration": 8,
    "start_time": "2022-10-16T20:10:41.282Z"
   },
   {
    "duration": 886,
    "start_time": "2022-10-16T20:10:42.768Z"
   },
   {
    "duration": 160,
    "start_time": "2022-10-16T20:10:43.833Z"
   },
   {
    "duration": 150,
    "start_time": "2022-10-16T20:10:44.558Z"
   },
   {
    "duration": 347,
    "start_time": "2022-10-16T20:10:52.533Z"
   },
   {
    "duration": 3,
    "start_time": "2022-10-16T20:12:29.345Z"
   },
   {
    "duration": 183,
    "start_time": "2022-10-16T20:12:30.207Z"
   },
   {
    "duration": 160,
    "start_time": "2022-10-16T20:12:31.167Z"
   },
   {
    "duration": 145,
    "start_time": "2022-10-16T20:12:32.349Z"
   },
   {
    "duration": 158,
    "start_time": "2022-10-16T20:12:33.033Z"
   },
   {
    "duration": 4,
    "start_time": "2022-10-16T20:12:55.860Z"
   },
   {
    "duration": 139,
    "start_time": "2022-10-16T20:12:56.445Z"
   },
   {
    "duration": 170,
    "start_time": "2022-10-16T20:12:57.284Z"
   },
   {
    "duration": 150,
    "start_time": "2022-10-16T20:12:58.219Z"
   },
   {
    "duration": 148,
    "start_time": "2022-10-16T20:12:58.854Z"
   },
   {
    "duration": 3,
    "start_time": "2022-10-16T20:13:17.286Z"
   },
   {
    "duration": 132,
    "start_time": "2022-10-16T20:13:17.822Z"
   },
   {
    "duration": 168,
    "start_time": "2022-10-16T20:13:18.712Z"
   },
   {
    "duration": 145,
    "start_time": "2022-10-16T20:13:19.778Z"
   },
   {
    "duration": 208,
    "start_time": "2022-10-16T20:13:20.517Z"
   },
   {
    "duration": 4,
    "start_time": "2022-10-16T20:13:44.671Z"
   },
   {
    "duration": 136,
    "start_time": "2022-10-16T20:13:45.306Z"
   },
   {
    "duration": 184,
    "start_time": "2022-10-16T20:13:46.248Z"
   },
   {
    "duration": 142,
    "start_time": "2022-10-16T20:13:47.118Z"
   },
   {
    "duration": 159,
    "start_time": "2022-10-16T20:13:47.822Z"
   },
   {
    "duration": 3,
    "start_time": "2022-10-16T20:14:20.911Z"
   },
   {
    "duration": 138,
    "start_time": "2022-10-16T20:14:21.677Z"
   },
   {
    "duration": 154,
    "start_time": "2022-10-16T20:14:22.656Z"
   },
   {
    "duration": 4,
    "start_time": "2022-10-16T20:14:37.462Z"
   },
   {
    "duration": 134,
    "start_time": "2022-10-16T20:14:37.978Z"
   },
   {
    "duration": 157,
    "start_time": "2022-10-16T20:14:38.885Z"
   },
   {
    "duration": 152,
    "start_time": "2022-10-16T20:14:39.642Z"
   },
   {
    "duration": 149,
    "start_time": "2022-10-16T20:14:41.661Z"
   },
   {
    "duration": 47,
    "start_time": "2022-10-16T20:15:25.517Z"
   },
   {
    "duration": 63,
    "start_time": "2022-10-16T20:39:51.088Z"
   },
   {
    "duration": 50,
    "start_time": "2022-10-16T20:43:39.165Z"
   },
   {
    "duration": 227,
    "start_time": "2022-10-16T21:43:56.273Z"
   },
   {
    "duration": 62,
    "start_time": "2022-10-16T21:44:19.868Z"
   },
   {
    "duration": 159,
    "start_time": "2022-10-16T21:44:36.251Z"
   },
   {
    "duration": 9,
    "start_time": "2022-10-16T21:44:54.179Z"
   },
   {
    "duration": 9,
    "start_time": "2022-10-16T21:45:05.356Z"
   },
   {
    "duration": 4,
    "start_time": "2022-10-16T21:45:44.794Z"
   },
   {
    "duration": 46,
    "start_time": "2022-10-16T21:45:57.405Z"
   },
   {
    "duration": 5,
    "start_time": "2022-10-16T21:46:32.162Z"
   },
   {
    "duration": 4,
    "start_time": "2022-10-16T21:46:35.803Z"
   },
   {
    "duration": 85,
    "start_time": "2022-10-16T21:46:39.145Z"
   },
   {
    "duration": 101,
    "start_time": "2022-10-16T21:46:44.975Z"
   },
   {
    "duration": 47,
    "start_time": "2022-10-16T21:46:53.903Z"
   },
   {
    "duration": 58,
    "start_time": "2022-10-16T21:46:59.514Z"
   },
   {
    "duration": 4,
    "start_time": "2022-10-16T21:47:08.545Z"
   },
   {
    "duration": 54,
    "start_time": "2022-10-16T21:47:12.287Z"
   },
   {
    "duration": 67,
    "start_time": "2022-10-16T21:47:21.748Z"
   },
   {
    "duration": 3,
    "start_time": "2022-10-16T21:47:29.594Z"
   },
   {
    "duration": 48,
    "start_time": "2022-10-16T21:47:30.930Z"
   },
   {
    "duration": 617,
    "start_time": "2022-10-16T21:48:13.223Z"
   },
   {
    "duration": 58,
    "start_time": "2022-10-16T21:48:13.841Z"
   },
   {
    "duration": 18,
    "start_time": "2022-10-16T21:48:13.901Z"
   },
   {
    "duration": 21,
    "start_time": "2022-10-16T21:48:13.920Z"
   },
   {
    "duration": 9,
    "start_time": "2022-10-16T21:48:13.942Z"
   },
   {
    "duration": 34,
    "start_time": "2022-10-16T21:48:13.952Z"
   },
   {
    "duration": 3,
    "start_time": "2022-10-16T21:48:13.989Z"
   },
   {
    "duration": 13,
    "start_time": "2022-10-16T21:48:13.994Z"
   },
   {
    "duration": 4,
    "start_time": "2022-10-16T21:48:14.008Z"
   },
   {
    "duration": 7,
    "start_time": "2022-10-16T21:48:14.033Z"
   },
   {
    "duration": 5,
    "start_time": "2022-10-16T21:48:14.041Z"
   },
   {
    "duration": 34,
    "start_time": "2022-10-16T21:48:14.048Z"
   },
   {
    "duration": 11,
    "start_time": "2022-10-16T21:48:14.084Z"
   },
   {
    "duration": 36,
    "start_time": "2022-10-16T21:48:14.097Z"
   },
   {
    "duration": 12,
    "start_time": "2022-10-16T21:48:14.135Z"
   },
   {
    "duration": 26,
    "start_time": "2022-10-16T21:48:14.149Z"
   },
   {
    "duration": 15,
    "start_time": "2022-10-16T21:48:14.177Z"
   },
   {
    "duration": 3,
    "start_time": "2022-10-16T21:48:14.194Z"
   },
   {
    "duration": 14,
    "start_time": "2022-10-16T21:48:14.198Z"
   },
   {
    "duration": 23,
    "start_time": "2022-10-16T21:48:14.213Z"
   },
   {
    "duration": 3,
    "start_time": "2022-10-16T21:48:14.237Z"
   },
   {
    "duration": 13,
    "start_time": "2022-10-16T21:48:14.242Z"
   },
   {
    "duration": 7,
    "start_time": "2022-10-16T21:48:14.257Z"
   },
   {
    "duration": 66,
    "start_time": "2022-10-16T21:48:14.266Z"
   },
   {
    "duration": 0,
    "start_time": "2022-10-16T21:48:14.334Z"
   },
   {
    "duration": 0,
    "start_time": "2022-10-16T21:48:14.335Z"
   },
   {
    "duration": 166,
    "start_time": "2022-10-16T21:48:14.401Z"
   },
   {
    "duration": 326,
    "start_time": "2022-10-16T21:48:14.569Z"
   },
   {
    "duration": 148,
    "start_time": "2022-10-16T21:48:33.271Z"
   },
   {
    "duration": 4,
    "start_time": "2022-10-16T21:50:37.793Z"
   },
   {
    "duration": 189,
    "start_time": "2022-10-16T21:50:39.470Z"
   },
   {
    "duration": 184,
    "start_time": "2022-10-16T21:50:40.692Z"
   },
   {
    "duration": 152,
    "start_time": "2022-10-16T21:50:41.701Z"
   },
   {
    "duration": 148,
    "start_time": "2022-10-16T21:50:49.449Z"
   },
   {
    "duration": 138,
    "start_time": "2022-10-16T22:31:54.845Z"
   },
   {
    "duration": 140,
    "start_time": "2022-10-16T22:32:31.242Z"
   },
   {
    "duration": 148,
    "start_time": "2022-10-16T22:35:39.602Z"
   },
   {
    "duration": 148,
    "start_time": "2022-10-16T22:36:00.083Z"
   },
   {
    "duration": 135,
    "start_time": "2022-10-16T22:36:14.253Z"
   },
   {
    "duration": 159,
    "start_time": "2022-10-16T22:37:25.886Z"
   },
   {
    "duration": 156,
    "start_time": "2022-10-16T22:38:02.483Z"
   },
   {
    "duration": 208,
    "start_time": "2022-10-16T22:38:15.258Z"
   },
   {
    "duration": 157,
    "start_time": "2022-10-16T22:40:22.136Z"
   },
   {
    "duration": 155,
    "start_time": "2022-10-16T22:42:43.026Z"
   },
   {
    "duration": 144,
    "start_time": "2022-10-16T22:42:48.571Z"
   },
   {
    "duration": 146,
    "start_time": "2022-10-16T22:42:55.911Z"
   },
   {
    "duration": 146,
    "start_time": "2022-10-16T22:46:28.902Z"
   },
   {
    "duration": 46,
    "start_time": "2022-10-16T23:58:52.887Z"
   },
   {
    "duration": 84,
    "start_time": "2022-10-17T00:06:16.745Z"
   },
   {
    "duration": 604,
    "start_time": "2022-10-17T00:49:23.426Z"
   },
   {
    "duration": 58,
    "start_time": "2022-10-17T00:49:24.033Z"
   },
   {
    "duration": 17,
    "start_time": "2022-10-17T00:49:24.093Z"
   },
   {
    "duration": 22,
    "start_time": "2022-10-17T00:49:24.112Z"
   },
   {
    "duration": 8,
    "start_time": "2022-10-17T00:49:24.136Z"
   },
   {
    "duration": 31,
    "start_time": "2022-10-17T00:49:24.146Z"
   },
   {
    "duration": 3,
    "start_time": "2022-10-17T00:49:24.179Z"
   },
   {
    "duration": 10,
    "start_time": "2022-10-17T00:49:24.183Z"
   },
   {
    "duration": 4,
    "start_time": "2022-10-17T00:49:24.195Z"
   },
   {
    "duration": 31,
    "start_time": "2022-10-17T00:49:24.202Z"
   },
   {
    "duration": 4,
    "start_time": "2022-10-17T00:49:24.235Z"
   },
   {
    "duration": 36,
    "start_time": "2022-10-17T00:49:24.241Z"
   },
   {
    "duration": 9,
    "start_time": "2022-10-17T00:49:24.279Z"
   },
   {
    "duration": 4,
    "start_time": "2022-10-17T00:49:24.290Z"
   },
   {
    "duration": 38,
    "start_time": "2022-10-17T00:49:24.295Z"
   },
   {
    "duration": 18,
    "start_time": "2022-10-17T00:49:24.335Z"
   },
   {
    "duration": 15,
    "start_time": "2022-10-17T00:49:24.355Z"
   },
   {
    "duration": 3,
    "start_time": "2022-10-17T00:49:24.372Z"
   },
   {
    "duration": 10,
    "start_time": "2022-10-17T00:49:24.377Z"
   },
   {
    "duration": 6,
    "start_time": "2022-10-17T00:49:24.389Z"
   },
   {
    "duration": 4,
    "start_time": "2022-10-17T00:49:24.396Z"
   },
   {
    "duration": 9,
    "start_time": "2022-10-17T00:49:24.433Z"
   },
   {
    "duration": 7,
    "start_time": "2022-10-17T00:49:24.443Z"
   },
   {
    "duration": 159,
    "start_time": "2022-10-17T00:49:24.452Z"
   },
   {
    "duration": 165,
    "start_time": "2022-10-17T00:49:24.613Z"
   },
   {
    "duration": 155,
    "start_time": "2022-10-17T00:49:24.780Z"
   },
   {
    "duration": 151,
    "start_time": "2022-10-17T00:49:24.937Z"
   },
   {
    "duration": 376,
    "start_time": "2022-10-17T00:49:25.090Z"
   },
   {
    "duration": 52,
    "start_time": "2022-10-17T00:59:49.261Z"
   },
   {
    "duration": 567,
    "start_time": "2022-10-17T01:05:36.282Z"
   },
   {
    "duration": 59,
    "start_time": "2022-10-17T01:05:36.850Z"
   },
   {
    "duration": 17,
    "start_time": "2022-10-17T01:05:36.911Z"
   },
   {
    "duration": 15,
    "start_time": "2022-10-17T01:05:36.930Z"
   },
   {
    "duration": 10,
    "start_time": "2022-10-17T01:05:36.946Z"
   },
   {
    "duration": 33,
    "start_time": "2022-10-17T01:05:36.957Z"
   },
   {
    "duration": 3,
    "start_time": "2022-10-17T01:05:36.992Z"
   },
   {
    "duration": 17,
    "start_time": "2022-10-17T01:05:36.997Z"
   },
   {
    "duration": 5,
    "start_time": "2022-10-17T01:05:37.033Z"
   },
   {
    "duration": 8,
    "start_time": "2022-10-17T01:05:37.041Z"
   },
   {
    "duration": 4,
    "start_time": "2022-10-17T01:05:37.051Z"
   },
   {
    "duration": 34,
    "start_time": "2022-10-17T01:05:37.057Z"
   },
   {
    "duration": 10,
    "start_time": "2022-10-17T01:05:37.092Z"
   },
   {
    "duration": 3,
    "start_time": "2022-10-17T01:05:37.103Z"
   },
   {
    "duration": 12,
    "start_time": "2022-10-17T01:05:37.133Z"
   },
   {
    "duration": 22,
    "start_time": "2022-10-17T01:05:37.146Z"
   },
   {
    "duration": 15,
    "start_time": "2022-10-17T01:05:37.169Z"
   },
   {
    "duration": 3,
    "start_time": "2022-10-17T01:05:37.186Z"
   },
   {
    "duration": 12,
    "start_time": "2022-10-17T01:05:37.190Z"
   },
   {
    "duration": 30,
    "start_time": "2022-10-17T01:05:37.203Z"
   },
   {
    "duration": 3,
    "start_time": "2022-10-17T01:05:37.235Z"
   },
   {
    "duration": 10,
    "start_time": "2022-10-17T01:05:37.239Z"
   },
   {
    "duration": 3,
    "start_time": "2022-10-17T01:05:37.251Z"
   },
   {
    "duration": 176,
    "start_time": "2022-10-17T01:05:37.255Z"
   },
   {
    "duration": 168,
    "start_time": "2022-10-17T01:05:37.433Z"
   },
   {
    "duration": 150,
    "start_time": "2022-10-17T01:05:37.603Z"
   },
   {
    "duration": 156,
    "start_time": "2022-10-17T01:05:37.755Z"
   },
   {
    "duration": 376,
    "start_time": "2022-10-17T01:05:37.914Z"
   },
   {
    "duration": 570,
    "start_time": "2022-10-17T01:10:05.192Z"
   },
   {
    "duration": 62,
    "start_time": "2022-10-17T01:10:05.764Z"
   },
   {
    "duration": 19,
    "start_time": "2022-10-17T01:10:05.828Z"
   },
   {
    "duration": 16,
    "start_time": "2022-10-17T01:10:05.848Z"
   },
   {
    "duration": 9,
    "start_time": "2022-10-17T01:10:05.866Z"
   },
   {
    "duration": 56,
    "start_time": "2022-10-17T01:10:05.877Z"
   },
   {
    "duration": 3,
    "start_time": "2022-10-17T01:10:05.935Z"
   },
   {
    "duration": 13,
    "start_time": "2022-10-17T01:10:05.940Z"
   },
   {
    "duration": 4,
    "start_time": "2022-10-17T01:10:05.954Z"
   },
   {
    "duration": 8,
    "start_time": "2022-10-17T01:10:05.960Z"
   },
   {
    "duration": 4,
    "start_time": "2022-10-17T01:10:05.969Z"
   },
   {
    "duration": 36,
    "start_time": "2022-10-17T01:10:05.974Z"
   },
   {
    "duration": 26,
    "start_time": "2022-10-17T01:10:06.011Z"
   },
   {
    "duration": 3,
    "start_time": "2022-10-17T01:10:06.039Z"
   },
   {
    "duration": 12,
    "start_time": "2022-10-17T01:10:06.044Z"
   },
   {
    "duration": 19,
    "start_time": "2022-10-17T01:10:06.058Z"
   },
   {
    "duration": 16,
    "start_time": "2022-10-17T01:10:06.079Z"
   },
   {
    "duration": 3,
    "start_time": "2022-10-17T01:10:06.097Z"
   },
   {
    "duration": 40,
    "start_time": "2022-10-17T01:10:06.101Z"
   },
   {
    "duration": 10,
    "start_time": "2022-10-17T01:10:06.142Z"
   },
   {
    "duration": 5,
    "start_time": "2022-10-17T01:10:06.153Z"
   },
   {
    "duration": 12,
    "start_time": "2022-10-17T01:10:06.160Z"
   },
   {
    "duration": 4,
    "start_time": "2022-10-17T01:10:06.173Z"
   },
   {
    "duration": 191,
    "start_time": "2022-10-17T01:10:06.178Z"
   },
   {
    "duration": 174,
    "start_time": "2022-10-17T01:10:06.370Z"
   },
   {
    "duration": 155,
    "start_time": "2022-10-17T01:10:06.545Z"
   },
   {
    "duration": 157,
    "start_time": "2022-10-17T01:10:06.701Z"
   },
   {
    "duration": 396,
    "start_time": "2022-10-17T01:10:06.860Z"
   },
   {
    "duration": 622,
    "start_time": "2022-10-17T01:12:25.030Z"
   },
   {
    "duration": 58,
    "start_time": "2022-10-17T01:12:25.654Z"
   },
   {
    "duration": 18,
    "start_time": "2022-10-17T01:12:25.713Z"
   },
   {
    "duration": 22,
    "start_time": "2022-10-17T01:12:25.734Z"
   },
   {
    "duration": 9,
    "start_time": "2022-10-17T01:12:25.757Z"
   },
   {
    "duration": 31,
    "start_time": "2022-10-17T01:12:25.768Z"
   },
   {
    "duration": 4,
    "start_time": "2022-10-17T01:12:25.800Z"
   },
   {
    "duration": 17,
    "start_time": "2022-10-17T01:12:25.805Z"
   },
   {
    "duration": 4,
    "start_time": "2022-10-17T01:12:25.833Z"
   },
   {
    "duration": 8,
    "start_time": "2022-10-17T01:12:25.839Z"
   },
   {
    "duration": 8,
    "start_time": "2022-10-17T01:12:25.849Z"
   },
   {
    "duration": 37,
    "start_time": "2022-10-17T01:12:25.858Z"
   },
   {
    "duration": 10,
    "start_time": "2022-10-17T01:12:25.897Z"
   },
   {
    "duration": 4,
    "start_time": "2022-10-17T01:12:25.909Z"
   },
   {
    "duration": 28,
    "start_time": "2022-10-17T01:12:25.914Z"
   },
   {
    "duration": 18,
    "start_time": "2022-10-17T01:12:25.944Z"
   },
   {
    "duration": 16,
    "start_time": "2022-10-17T01:12:25.964Z"
   },
   {
    "duration": 4,
    "start_time": "2022-10-17T01:12:25.981Z"
   },
   {
    "duration": 14,
    "start_time": "2022-10-17T01:12:25.986Z"
   },
   {
    "duration": 19,
    "start_time": "2022-10-17T01:12:26.001Z"
   },
   {
    "duration": 12,
    "start_time": "2022-10-17T01:12:26.022Z"
   },
   {
    "duration": 10,
    "start_time": "2022-10-17T01:12:26.036Z"
   },
   {
    "duration": 4,
    "start_time": "2022-10-17T01:12:26.047Z"
   },
   {
    "duration": 181,
    "start_time": "2022-10-17T01:12:26.052Z"
   },
   {
    "duration": 189,
    "start_time": "2022-10-17T01:12:26.236Z"
   },
   {
    "duration": 153,
    "start_time": "2022-10-17T01:12:26.432Z"
   },
   {
    "duration": 161,
    "start_time": "2022-10-17T01:12:26.586Z"
   },
   {
    "duration": 415,
    "start_time": "2022-10-17T01:12:26.750Z"
   },
   {
    "duration": 770,
    "start_time": "2022-10-17T04:25:34.224Z"
   },
   {
    "duration": 119,
    "start_time": "2022-10-17T04:25:34.998Z"
   },
   {
    "duration": 23,
    "start_time": "2022-10-17T04:25:35.120Z"
   },
   {
    "duration": 18,
    "start_time": "2022-10-17T04:25:35.144Z"
   },
   {
    "duration": 29,
    "start_time": "2022-10-17T04:25:35.165Z"
   },
   {
    "duration": 71,
    "start_time": "2022-10-17T04:25:35.198Z"
   },
   {
    "duration": 4,
    "start_time": "2022-10-17T04:25:35.271Z"
   },
   {
    "duration": 21,
    "start_time": "2022-10-17T04:25:35.277Z"
   },
   {
    "duration": 35,
    "start_time": "2022-10-17T04:25:35.301Z"
   },
   {
    "duration": 10,
    "start_time": "2022-10-17T04:25:35.338Z"
   },
   {
    "duration": 6,
    "start_time": "2022-10-17T04:25:35.350Z"
   },
   {
    "duration": 52,
    "start_time": "2022-10-17T04:25:35.358Z"
   },
   {
    "duration": 17,
    "start_time": "2022-10-17T04:25:35.412Z"
   },
   {
    "duration": 4,
    "start_time": "2022-10-17T04:25:35.433Z"
   },
   {
    "duration": 22,
    "start_time": "2022-10-17T04:25:35.439Z"
   },
   {
    "duration": 28,
    "start_time": "2022-10-17T04:25:35.462Z"
   },
   {
    "duration": 32,
    "start_time": "2022-10-17T04:25:35.492Z"
   },
   {
    "duration": 14,
    "start_time": "2022-10-17T04:25:35.526Z"
   },
   {
    "duration": 13,
    "start_time": "2022-10-17T04:25:35.542Z"
   },
   {
    "duration": 13,
    "start_time": "2022-10-17T04:25:35.557Z"
   },
   {
    "duration": 17,
    "start_time": "2022-10-17T04:25:35.572Z"
   },
   {
    "duration": 14,
    "start_time": "2022-10-17T04:25:35.591Z"
   },
   {
    "duration": 26,
    "start_time": "2022-10-17T04:25:35.607Z"
   },
   {
    "duration": 213,
    "start_time": "2022-10-17T04:25:35.635Z"
   },
   {
    "duration": 220,
    "start_time": "2022-10-17T04:25:35.850Z"
   },
   {
    "duration": 239,
    "start_time": "2022-10-17T04:25:36.072Z"
   },
   {
    "duration": 224,
    "start_time": "2022-10-17T04:25:36.313Z"
   },
   {
    "duration": 444,
    "start_time": "2022-10-17T04:25:36.539Z"
   },
   {
    "duration": 82,
    "start_time": "2022-10-17T04:34:48.195Z"
   },
   {
    "duration": 95,
    "start_time": "2022-10-17T04:37:09.173Z"
   },
   {
    "duration": 73,
    "start_time": "2022-10-17T04:37:50.018Z"
   },
   {
    "duration": 80,
    "start_time": "2022-10-17T04:39:12.909Z"
   },
   {
    "duration": 89,
    "start_time": "2022-10-17T04:40:43.916Z"
   },
   {
    "duration": 81,
    "start_time": "2022-10-17T04:42:59.499Z"
   }
  ],
  "celltoolbar": "Edit Metadata",
  "colab": {
   "name": "dpp_template_part2.ipynb",
   "provenance": []
  },
  "kernelspec": {
   "display_name": "Python 3",
   "language": "python",
   "name": "python3"
  },
  "language_info": {
   "codemirror_mode": {
    "name": "ipython",
    "version": 3
   },
   "file_extension": ".py",
   "mimetype": "text/x-python",
   "name": "python",
   "nbconvert_exporter": "python",
   "pygments_lexer": "ipython3",
   "version": "3.8.8"
  },
  "toc": {
   "base_numbering": 1,
   "nav_menu": {
    "height": "642px",
    "width": "452.208px"
   },
   "number_sections": true,
   "sideBar": true,
   "skip_h1_title": true,
   "title_cell": "Table of Contents",
   "title_sidebar": "Contents",
   "toc_cell": true,
   "toc_position": {},
   "toc_section_display": true,
   "toc_window_display": false
  }
 },
 "nbformat": 4,
 "nbformat_minor": 5
}
