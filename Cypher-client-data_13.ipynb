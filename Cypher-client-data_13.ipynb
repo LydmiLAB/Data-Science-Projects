{
 "cells": [
  {
   "cell_type": "markdown",
   "metadata": {
    "toc": true
   },
   "source": [
    "<h1>Содержание<span class=\"tocSkip\"></span></h1>\n",
    "<div class=\"toc\"><ul class=\"toc-item\"><li><span><a href=\"#1-Загрузка-и-изучение-данных\" data-toc-modified-id=\"1-Загрузка-и-изучение-данных-1\"><span class=\"toc-item-num\">1&nbsp;&nbsp;</span>1 Загрузка и изучение данных</a></span><ul class=\"toc-item\"><li><span><a href=\"#Вывод-1\" data-toc-modified-id=\"Вывод-1-1.1\"><span class=\"toc-item-num\">1.1&nbsp;&nbsp;</span>Вывод 1</a></span></li></ul></li><li><span><a href=\"#2.-Умножение-матриц\" data-toc-modified-id=\"2.-Умножение-матриц-2\"><span class=\"toc-item-num\">2&nbsp;&nbsp;</span>2. Умножение матриц</a></span><ul class=\"toc-item\"><li><span><a href=\"#Вывод-2\" data-toc-modified-id=\"Вывод-2-2.1\"><span class=\"toc-item-num\">2.1&nbsp;&nbsp;</span>Вывод 2</a></span></li></ul></li><li><span><a href=\"#3-Алгоритм-преобразования-данных\" data-toc-modified-id=\"3-Алгоритм-преобразования-данных-3\"><span class=\"toc-item-num\">3&nbsp;&nbsp;</span>3 Алгоритм преобразования данных</a></span><ul class=\"toc-item\"><li><span><a href=\"#Вывод-3\" data-toc-modified-id=\"Вывод-3-3.1\"><span class=\"toc-item-num\">3.1&nbsp;&nbsp;</span>Вывод 3</a></span></li></ul></li><li><span><a href=\"#4-Проверка-алгоритма\" data-toc-modified-id=\"4-Проверка-алгоритма-4\"><span class=\"toc-item-num\">4&nbsp;&nbsp;</span>4 Проверка алгоритма</a></span><ul class=\"toc-item\"><li><span><a href=\"#4.1-Подготовим-данные\" data-toc-modified-id=\"4.1-Подготовим-данные-4.1\"><span class=\"toc-item-num\">4.1&nbsp;&nbsp;</span>4.1 Подготовим данные</a></span></li><li><span><a href=\"#4.2-Сравнение-качества-линейной-регрессии-до-и-после-шифрования-(применим-метрику-R2).\" data-toc-modified-id=\"4.2-Сравнение-качества-линейной-регрессии-до-и-после-шифрования-(применим-метрику-R2).-4.2\"><span class=\"toc-item-num\">4.2&nbsp;&nbsp;</span>4.2 Сравнение качества линейной регрессии до и после шифрования (применим метрику R2).</a></span></li><li><span><a href=\"#Вывод-4\" data-toc-modified-id=\"Вывод-4-4.3\"><span class=\"toc-item-num\">4.3&nbsp;&nbsp;</span>Вывод 4</a></span></li></ul></li><li><span><a href=\"#Общий-вывод\" data-toc-modified-id=\"Общий-вывод-5\"><span class=\"toc-item-num\">5&nbsp;&nbsp;</span>Общий вывод</a></span></li><li><span><a href=\"#Чек-лист-проверки\" data-toc-modified-id=\"Чек-лист-проверки-6\"><span class=\"toc-item-num\">6&nbsp;&nbsp;</span>Чек-лист проверки</a></span></li></ul></div>"
   ]
  },
  {
   "cell_type": "markdown",
   "metadata": {},
   "source": [
    "# Защита персональных данных клиентов"
   ]
  },
  {
   "cell_type": "markdown",
   "metadata": {},
   "source": [
    "Вам нужно защитить данные клиентов страховой компании «Хоть потоп». Разработайте такой метод преобразования данных, чтобы по ним было сложно восстановить персональную информацию. Обоснуйте корректность его работы.\n",
    "\n",
    "Нужно защитить данные, чтобы при преобразовании качество моделей машинного обучения не ухудшилось. Подбирать наилучшую модель не требуется.  \n",
    "\n",
    "**Описание данных:**\n",
    "\n",
    "**Признаки**: пол, возраст и зарплата застрахованного, количество членов его семьи.   \n",
    "**Целевой признак**: количество страховых выплат клиенту за последние 5 лет."
   ]
  },
  {
   "cell_type": "code",
   "execution_count": 1,
   "metadata": {},
   "outputs": [],
   "source": [
    "import pandas as pd\n",
    "import numpy as np\n",
    "\n",
    "from sklearn.linear_model import LinearRegression\n",
    "from sklearn.model_selection import train_test_split\n",
    "from sklearn.preprocessing import MinMaxScaler\n",
    "from sklearn.pipeline import Pipeline\n",
    "from sklearn.metrics import r2_score\n",
    "\n",
    "import matplotlib.pyplot as plt\n",
    "import seaborn as sns\n",
    "\n",
    "import math\n",
    "\n",
    "import os"
   ]
  },
  {
   "cell_type": "code",
   "execution_count": 2,
   "metadata": {},
   "outputs": [],
   "source": [
    "RS=42"
   ]
  },
  {
   "cell_type": "markdown",
   "metadata": {},
   "source": [
    "## 1 Загрузка и изучение данных"
   ]
  },
  {
   "cell_type": "code",
   "execution_count": 3,
   "metadata": {},
   "outputs": [],
   "source": [
    "# Загружаем данные\n",
    "pth1 = '/datasets/insurance.csv'\n",
    "pth2 = 'insurance.csv'\n",
    "\n",
    "if os.path.exists(pth1):\n",
    "    df = pd.read_csv(pth1)\n",
    "    \n",
    "elif os.path.exists(pth2):\n",
    "    df = pd.read_csv(pth2)\n",
    "    \n",
    "else:\n",
    "    print('Ошибка загрузки данных, проверьте правильность пути, наличие файла')"
   ]
  },
  {
   "cell_type": "code",
   "execution_count": 4,
   "metadata": {},
   "outputs": [
    {
     "data": {
      "text/html": [
       "<div>\n",
       "<style scoped>\n",
       "    .dataframe tbody tr th:only-of-type {\n",
       "        vertical-align: middle;\n",
       "    }\n",
       "\n",
       "    .dataframe tbody tr th {\n",
       "        vertical-align: top;\n",
       "    }\n",
       "\n",
       "    .dataframe thead th {\n",
       "        text-align: right;\n",
       "    }\n",
       "</style>\n",
       "<table border=\"1\" class=\"dataframe\">\n",
       "  <thead>\n",
       "    <tr style=\"text-align: right;\">\n",
       "      <th></th>\n",
       "      <th>Пол</th>\n",
       "      <th>Возраст</th>\n",
       "      <th>Зарплата</th>\n",
       "      <th>Члены семьи</th>\n",
       "      <th>Страховые выплаты</th>\n",
       "    </tr>\n",
       "  </thead>\n",
       "  <tbody>\n",
       "    <tr>\n",
       "      <th>0</th>\n",
       "      <td>1</td>\n",
       "      <td>41.0</td>\n",
       "      <td>49600.0</td>\n",
       "      <td>1</td>\n",
       "      <td>0</td>\n",
       "    </tr>\n",
       "    <tr>\n",
       "      <th>1</th>\n",
       "      <td>0</td>\n",
       "      <td>46.0</td>\n",
       "      <td>38000.0</td>\n",
       "      <td>1</td>\n",
       "      <td>1</td>\n",
       "    </tr>\n",
       "    <tr>\n",
       "      <th>2</th>\n",
       "      <td>0</td>\n",
       "      <td>29.0</td>\n",
       "      <td>21000.0</td>\n",
       "      <td>0</td>\n",
       "      <td>0</td>\n",
       "    </tr>\n",
       "    <tr>\n",
       "      <th>3</th>\n",
       "      <td>0</td>\n",
       "      <td>21.0</td>\n",
       "      <td>41700.0</td>\n",
       "      <td>2</td>\n",
       "      <td>0</td>\n",
       "    </tr>\n",
       "    <tr>\n",
       "      <th>4</th>\n",
       "      <td>1</td>\n",
       "      <td>28.0</td>\n",
       "      <td>26100.0</td>\n",
       "      <td>0</td>\n",
       "      <td>0</td>\n",
       "    </tr>\n",
       "  </tbody>\n",
       "</table>\n",
       "</div>"
      ],
      "text/plain": [
       "   Пол  Возраст  Зарплата  Члены семьи  Страховые выплаты\n",
       "0    1     41.0   49600.0            1                  0\n",
       "1    0     46.0   38000.0            1                  1\n",
       "2    0     29.0   21000.0            0                  0\n",
       "3    0     21.0   41700.0            2                  0\n",
       "4    1     28.0   26100.0            0                  0"
      ]
     },
     "metadata": {},
     "output_type": "display_data"
    },
    {
     "data": {
      "text/html": [
       "<div>\n",
       "<style scoped>\n",
       "    .dataframe tbody tr th:only-of-type {\n",
       "        vertical-align: middle;\n",
       "    }\n",
       "\n",
       "    .dataframe tbody tr th {\n",
       "        vertical-align: top;\n",
       "    }\n",
       "\n",
       "    .dataframe thead th {\n",
       "        text-align: right;\n",
       "    }\n",
       "</style>\n",
       "<table border=\"1\" class=\"dataframe\">\n",
       "  <thead>\n",
       "    <tr style=\"text-align: right;\">\n",
       "      <th></th>\n",
       "      <th>Пол</th>\n",
       "      <th>Возраст</th>\n",
       "      <th>Зарплата</th>\n",
       "      <th>Члены семьи</th>\n",
       "      <th>Страховые выплаты</th>\n",
       "    </tr>\n",
       "  </thead>\n",
       "  <tbody>\n",
       "    <tr>\n",
       "      <th>4995</th>\n",
       "      <td>0</td>\n",
       "      <td>28.0</td>\n",
       "      <td>35700.0</td>\n",
       "      <td>2</td>\n",
       "      <td>0</td>\n",
       "    </tr>\n",
       "    <tr>\n",
       "      <th>4996</th>\n",
       "      <td>0</td>\n",
       "      <td>34.0</td>\n",
       "      <td>52400.0</td>\n",
       "      <td>1</td>\n",
       "      <td>0</td>\n",
       "    </tr>\n",
       "    <tr>\n",
       "      <th>4997</th>\n",
       "      <td>0</td>\n",
       "      <td>20.0</td>\n",
       "      <td>33900.0</td>\n",
       "      <td>2</td>\n",
       "      <td>0</td>\n",
       "    </tr>\n",
       "    <tr>\n",
       "      <th>4998</th>\n",
       "      <td>1</td>\n",
       "      <td>22.0</td>\n",
       "      <td>32700.0</td>\n",
       "      <td>3</td>\n",
       "      <td>0</td>\n",
       "    </tr>\n",
       "    <tr>\n",
       "      <th>4999</th>\n",
       "      <td>1</td>\n",
       "      <td>28.0</td>\n",
       "      <td>40600.0</td>\n",
       "      <td>1</td>\n",
       "      <td>0</td>\n",
       "    </tr>\n",
       "  </tbody>\n",
       "</table>\n",
       "</div>"
      ],
      "text/plain": [
       "      Пол  Возраст  Зарплата  Члены семьи  Страховые выплаты\n",
       "4995    0     28.0   35700.0            2                  0\n",
       "4996    0     34.0   52400.0            1                  0\n",
       "4997    0     20.0   33900.0            2                  0\n",
       "4998    1     22.0   32700.0            3                  0\n",
       "4999    1     28.0   40600.0            1                  0"
      ]
     },
     "metadata": {},
     "output_type": "display_data"
    }
   ],
   "source": [
    "# Выводим несколько первых и последних строк данных \n",
    "display(df.head(), df.tail())"
   ]
  },
  {
   "cell_type": "code",
   "execution_count": 5,
   "metadata": {},
   "outputs": [
    {
     "name": "stdout",
     "output_type": "stream",
     "text": [
      "<class 'pandas.core.frame.DataFrame'>\n",
      "RangeIndex: 5000 entries, 0 to 4999\n",
      "Data columns (total 5 columns):\n",
      " #   Column             Non-Null Count  Dtype  \n",
      "---  ------             --------------  -----  \n",
      " 0   Пол                5000 non-null   int64  \n",
      " 1   Возраст            5000 non-null   float64\n",
      " 2   Зарплата           5000 non-null   float64\n",
      " 3   Члены семьи        5000 non-null   int64  \n",
      " 4   Страховые выплаты  5000 non-null   int64  \n",
      "dtypes: float64(2), int64(3)\n",
      "memory usage: 195.4 KB\n"
     ]
    }
   ],
   "source": [
    "# Общая информация о данных\n",
    "df.info()"
   ]
  },
  {
   "cell_type": "code",
   "execution_count": 6,
   "metadata": {},
   "outputs": [
    {
     "data": {
      "text/html": [
       "<div>\n",
       "<style scoped>\n",
       "    .dataframe tbody tr th:only-of-type {\n",
       "        vertical-align: middle;\n",
       "    }\n",
       "\n",
       "    .dataframe tbody tr th {\n",
       "        vertical-align: top;\n",
       "    }\n",
       "\n",
       "    .dataframe thead th {\n",
       "        text-align: right;\n",
       "    }\n",
       "</style>\n",
       "<table border=\"1\" class=\"dataframe\">\n",
       "  <thead>\n",
       "    <tr style=\"text-align: right;\">\n",
       "      <th></th>\n",
       "      <th>Пол</th>\n",
       "      <th>Возраст</th>\n",
       "      <th>Зарплата</th>\n",
       "      <th>Члены семьи</th>\n",
       "      <th>Страховые выплаты</th>\n",
       "    </tr>\n",
       "  </thead>\n",
       "  <tbody>\n",
       "    <tr>\n",
       "      <th>count</th>\n",
       "      <td>5000.000000</td>\n",
       "      <td>5000.000000</td>\n",
       "      <td>5000.000000</td>\n",
       "      <td>5000.000000</td>\n",
       "      <td>5000.000000</td>\n",
       "    </tr>\n",
       "    <tr>\n",
       "      <th>mean</th>\n",
       "      <td>0.499000</td>\n",
       "      <td>30.952800</td>\n",
       "      <td>39916.360000</td>\n",
       "      <td>1.194200</td>\n",
       "      <td>0.148000</td>\n",
       "    </tr>\n",
       "    <tr>\n",
       "      <th>std</th>\n",
       "      <td>0.500049</td>\n",
       "      <td>8.440807</td>\n",
       "      <td>9900.083569</td>\n",
       "      <td>1.091387</td>\n",
       "      <td>0.463183</td>\n",
       "    </tr>\n",
       "    <tr>\n",
       "      <th>min</th>\n",
       "      <td>0.000000</td>\n",
       "      <td>18.000000</td>\n",
       "      <td>5300.000000</td>\n",
       "      <td>0.000000</td>\n",
       "      <td>0.000000</td>\n",
       "    </tr>\n",
       "    <tr>\n",
       "      <th>25%</th>\n",
       "      <td>0.000000</td>\n",
       "      <td>24.000000</td>\n",
       "      <td>33300.000000</td>\n",
       "      <td>0.000000</td>\n",
       "      <td>0.000000</td>\n",
       "    </tr>\n",
       "    <tr>\n",
       "      <th>50%</th>\n",
       "      <td>0.000000</td>\n",
       "      <td>30.000000</td>\n",
       "      <td>40200.000000</td>\n",
       "      <td>1.000000</td>\n",
       "      <td>0.000000</td>\n",
       "    </tr>\n",
       "    <tr>\n",
       "      <th>75%</th>\n",
       "      <td>1.000000</td>\n",
       "      <td>37.000000</td>\n",
       "      <td>46600.000000</td>\n",
       "      <td>2.000000</td>\n",
       "      <td>0.000000</td>\n",
       "    </tr>\n",
       "    <tr>\n",
       "      <th>max</th>\n",
       "      <td>1.000000</td>\n",
       "      <td>65.000000</td>\n",
       "      <td>79000.000000</td>\n",
       "      <td>6.000000</td>\n",
       "      <td>5.000000</td>\n",
       "    </tr>\n",
       "  </tbody>\n",
       "</table>\n",
       "</div>"
      ],
      "text/plain": [
       "               Пол      Возраст      Зарплата  Члены семьи  Страховые выплаты\n",
       "count  5000.000000  5000.000000   5000.000000  5000.000000        5000.000000\n",
       "mean      0.499000    30.952800  39916.360000     1.194200           0.148000\n",
       "std       0.500049     8.440807   9900.083569     1.091387           0.463183\n",
       "min       0.000000    18.000000   5300.000000     0.000000           0.000000\n",
       "25%       0.000000    24.000000  33300.000000     0.000000           0.000000\n",
       "50%       0.000000    30.000000  40200.000000     1.000000           0.000000\n",
       "75%       1.000000    37.000000  46600.000000     2.000000           0.000000\n",
       "max       1.000000    65.000000  79000.000000     6.000000           5.000000"
      ]
     },
     "execution_count": 6,
     "metadata": {},
     "output_type": "execute_result"
    }
   ],
   "source": [
    "# Статистики данных\n",
    "df.describe()"
   ]
  },
  {
   "cell_type": "code",
   "execution_count": 7,
   "metadata": {},
   "outputs": [],
   "source": [
    "# Проверим наличие явных дубликатов\n",
    "d = df.duplicated().sum()"
   ]
  },
  {
   "cell_type": "code",
   "execution_count": 8,
   "metadata": {},
   "outputs": [
    {
     "name": "stdout",
     "output_type": "stream",
     "text": [
      " Доля явных дуликатов: 3.06%\n"
     ]
    }
   ],
   "source": [
    "# Доля явных дубликатов\n",
    "d = round(100*d/len(df),2)\n",
    "print(f' Доля явных дуликатов: {d}%')"
   ]
  },
  {
   "cell_type": "code",
   "execution_count": 9,
   "metadata": {},
   "outputs": [
    {
     "data": {
      "image/png": "[encoded data removed]",
      "text/plain": [
       "<Figure size 720x504 with 6 Axes>"
      ]
     },
     "metadata": {
      "needs_background": "light"
     },
     "output_type": "display_data"
    }
   ],
   "source": [
    "df.hist(figsize=(10, 7), alpha=0.5, color='orange', ec='red')\n",
    "plt.show()"
   ]
  },
  {
   "cell_type": "code",
   "execution_count": 10,
   "metadata": {},
   "outputs": [
    {
     "data": {
      "image/png": "[encoded data removed]",
      "text/plain": [
       "<Figure size 360x144 with 1 Axes>"
      ]
     },
     "metadata": {
      "needs_background": "light"
     },
     "output_type": "display_data"
    },
    {
     "data": {
      "image/png": "[encoded data removed]",
      "text/plain": [
       "<Figure size 360x144 with 1 Axes>"
      ]
     },
     "metadata": {
      "needs_background": "light"
     },
     "output_type": "display_data"
    },
    {
     "data": {
      "image/png": "[encoded data removed]",
      "text/plain": [
       "<Figure size 360x144 with 1 Axes>"
      ]
     },
     "metadata": {
      "needs_background": "light"
     },
     "output_type": "display_data"
    },
    {
     "data": {
      "image/png": "[encoded data removed]",
      "text/plain": [
       "<Figure size 360x144 with 1 Axes>"
      ]
     },
     "metadata": {
      "needs_background": "light"
     },
     "output_type": "display_data"
    },
    {
     "data": {
      "image/png": "[encoded data removed]",
      "text/plain": [
       "<Figure size 360x144 with 1 Axes>"
      ]
     },
     "metadata": {
      "needs_background": "light"
     },
     "output_type": "display_data"
    }
   ],
   "source": [
    "# Графики распределений\n",
    "col_names = df.columns.tolist() # список наименований колонок\n",
    "list(map(lambda x: [plt.figure(figsize=(5,2)), \\\n",
    "                    sns.kdeplot(data=df[x], color='red', fill= True , alpha= .3 , linewidth= 0, ec='blue'), \\\n",
    "                    plt.grid(),  \\\n",
    "                    plt.title(f'Распределение {x}', \\\n",
    "                    fontsize=10), plt.show()], col_names))\n",
    "plt.show()"
   ]
  },
  {
   "cell_type": "code",
   "execution_count": 11,
   "metadata": {},
   "outputs": [],
   "source": [
    "# Функция построения boxplot для признаков, на входе - список признаков, каждый в кавычках\n",
    "def boxes_pl(feature):\n",
    "    try:\n",
    "        list(map(lambda x: [df[x].plot.box(figsize=(5,2), grid=True, vert=False),  \\\n",
    "                            plt.title(f'Диаграмма размаха {x}',fontsize=10), \\\n",
    "                            plt.xlabel(f'{x}',fontsize=10), \\\n",
    "                            plt.show()], feature))\n",
    "    except: \n",
    "        print('Ошибка, проверьте, что feature - список признаков, каждый в кавычках')"
   ]
  },
  {
   "cell_type": "code",
   "execution_count": 12,
   "metadata": {},
   "outputs": [],
   "source": [
    "col_names=col_names.remove('Пол')"
   ]
  },
  {
   "cell_type": "code",
   "execution_count": 13,
   "metadata": {},
   "outputs": [
    {
     "name": "stdout",
     "output_type": "stream",
     "text": [
      "Ошибка, проверьте, что feature - список признаков, каждый в кавычках\n"
     ]
    }
   ],
   "source": [
    "# Строим графики 'Ящик с усами' для признаков\n",
    "boxes_pl(col_names)"
   ]
  },
  {
   "cell_type": "code",
   "execution_count": 14,
   "metadata": {},
   "outputs": [
    {
     "data": {
      "image/png": "[encoded data removed]",
      "text/plain": [
       "<Figure size 432x216 with 2 Axes>"
      ]
     },
     "metadata": {
      "needs_background": "light"
     },
     "output_type": "display_data"
    }
   ],
   "source": [
    "# Тепловая карта матрицы корреляции\n",
    "fig = plt.figure(figsize=(6, 3))\n",
    "sns.heatmap(df.corr(), annot=True)\n",
    "plt.title('Корреляционная матрица')\n",
    "plt.show()"
   ]
  },
  {
   "cell_type": "markdown",
   "metadata": {},
   "source": [
    "### Вывод 1  \n",
    "\n",
    "В данных 5000 объектов и 5 признаков их описывающих.  \n",
    "Заголовки колонок и содержание данных корректны.  \n",
    "Признаки в данных количественные (признак Пол имеет тип (int) и значения (0, 1), характерные для количественных признаков, кодировать в таком виде его не имеет смысла, хоть он и относится к качественным по смыслу).   \n",
    "Большинство признаков распределены ненормально, есть выбросы.  \n",
    "Пропусков нет.    \n",
    "Тип данных приемлем для дальнейшего анализа, однако, для удобства заменим вещественный на целый тип данных.\n",
    "Мультиколлинеарных признаков нет.\n",
    "Средняя корреляция с целевым у признака Возраст (0,65).\n",
    "\n",
    "Явных дубликатов 153 шт - это незначительные 3%, которые удалим.  \n",
    "Дубликаты возникли, возможно, при некорректной работе с данными при выгрузках из базы данных, обновлениях и прочее. "
   ]
  },
  {
   "cell_type": "markdown",
   "metadata": {},
   "source": [
    "## 2. Умножение матриц"
   ]
  },
  {
   "cell_type": "markdown",
   "metadata": {},
   "source": [
    "Обозначения:\n",
    "\n",
    "- $X$ — матрица признаков (нулевой столбец состоит из единиц)\n",
    "\n",
    "- $y$ — вектор целевого признака\n",
    "\n",
    "- $P$ — матрица, на которую умножаются признаки\n",
    "\n",
    "- $w$ — вектор весов линейной регрессии (нулевой элемент равен сдвигу)"
   ]
  },
  {
   "cell_type": "markdown",
   "metadata": {},
   "source": [
    "Предсказания:\n",
    "\n",
    "$$\n",
    "a = Xw\n",
    "$$\n",
    "\n",
    "Задача обучения:\n",
    "\n",
    "$$\n",
    "w = \\arg\\min_w MSE(Xw, y)\n",
    "$$\n",
    "\n",
    "Формула обучения:\n",
    "\n",
    "$$\n",
    "w = (X^T X)^{-1} X^T y\n",
    "$$"
   ]
  },
  {
   "cell_type": "markdown",
   "metadata": {},
   "source": [
    "**Ответ:** При умножении матрицы признаков на обратимую матрицу качество линейной регрессии не изменится.\n",
    "\n",
    "**Обоснование:**   \n",
    "Качество модели зависит от предсказания модели (например, R2 для рассматриваемой задачи), в нашем случае это вектор a.  \n",
    "Покажем, что вектор a не изменится, если умножить матрицу признаков справа на обратимую матрицу.  \n",
    "Пусть a' - преобразованный вектор предсказания после умноженя матрицы признаков X на обратимую матрицу P.  \n",
    "Покажем, что а' = а.  \n",
    "\n",
    "После преобразования а' примет вид:  \n",
    "$$\n",
    "а' = X'w'\n",
    "$$  \n",
    "Произведем замену:  \n",
    "$$\n",
    "X' = XP\n",
    "$$  \n",
    "Тогда \n",
    "$$\n",
    "а' = XP[(XP)^T XP]^{-1} (XP)^T y\n",
    "$$  \n",
    "Используя свойства матриц: \n",
    "$$\n",
    "(AB)^T = B^TA^T \n",
    "$$\n",
    "$$\n",
    "(AB)^{-1} = B^{-1}A^{-1}\n",
    "$$\n",
    "$$\n",
    "(A^T)^{-1} = (A^{-1})^T\n",
    "$$\n",
    "$$\n",
    "(AB)C = A(BC)\n",
    "$$\n",
    "$$\n",
    "A^{-1}A = E \n",
    "$$\n",
    "$$\n",
    "AE = EA = A \n",
    "$$\n",
    "(где E - единичная матрица)\n",
    "\n",
    "Преобразуем выражение:  \n",
    "$$\n",
    "а' = XP[(XP)^T XP]^{-1} (XP)^T y = \n",
    "$$  \n",
    "\n",
    "$$\n",
    "= XP[P^T(X^TXP)]^{-1}P^TX^T y = \n",
    "$$\n",
    "\n",
    "$$\n",
    "= XP[(X^TX)P]^{-1}(P^T)^{-1} P^TX^T y = \n",
    "$$  \n",
    "\n",
    "$$\n",
    "= XPP^{-1}(X^TX)^{-1}EX^T y = \n",
    "$$  \n",
    "\n",
    "$$\n",
    "= XEX^TX^{-1}EX^T y = \n",
    "$$\n",
    "\n",
    "$$\n",
    "= X(X^TX)^{-1}X^T y = Xw = a\n",
    "$$ \n",
    "\n",
    "$$\n",
    "=> a' = a\n",
    "$$ "
   ]
  },
  {
   "cell_type": "markdown",
   "metadata": {},
   "source": [
    "### Вывод 2\n",
    "Так как качество модели зависит от вектора предсказаний, сравнили его до и после преобразования матрицы признаков, в котором домножали ее справа на обратимую матрицу.  \n",
    "Доказали, что векторы предсказаний до и после преобразования совпадают, следовательно, при умножении матрицы признаков на обратимую матрицу качество линейной регрессии не изменится."
   ]
  },
  {
   "cell_type": "markdown",
   "metadata": {},
   "source": [
    "## 3 Алгоритм преобразования данных"
   ]
  },
  {
   "cell_type": "markdown",
   "metadata": {},
   "source": [
    "**Алгоритм**\n",
    "\n",
    "1. Создадим обратную матрицу.\n",
    "2. Проверим ее обратимость.\n",
    "3. Умножим ее на матрицу признаков X.\n",
    "4. Посмотрим результат преобразования - изменлись ли признаки.\n",
    "5. Построим модель линейной регрессии и сравним ее качество R2 до и после преобразования матрицы признаков."
   ]
  },
  {
   "cell_type": "markdown",
   "metadata": {},
   "source": [
    "**Обоснование**  \n",
    "\n",
    "Для шифрования данных можем использовать умножение матрицы признаков X размерности **mxn** на обратимую матрицу P соответствующей размерности **nxn** (обратная матрица должна быть квадратной), где **n** - количество признаков в матрице X.  \n",
    "\n",
    "Преобразованная матрица признаков C получится той же размерности, что и исходная X.\n",
    "$$\n",
    "X_(mn)*P_(nn) = С_(mn)\n",
    "$$\n",
    "Ключ для дешифрования данных будет матрица, обратная к P:\n",
    "$$\n",
    "XP = С => \n",
    "$$\n",
    "$$\n",
    "XPP^{-1} = CP^{-1} => \n",
    "$$\n",
    "$$\n",
    "XE = CP^{-1} =>\n",
    "$$\n",
    "$$\n",
    "X = CP^{-1}\n",
    "$$\n",
    "Качество модели, как мы показали выше, не поменяется, а признаки примут другие значения - зашифруются. "
   ]
  },
  {
   "cell_type": "markdown",
   "metadata": {},
   "source": [
    "### Вывод 3  \n",
    "Описали алгоритм преобразования данных.  \n",
    "Он включает в себя генерацию обратимой матрицы, проверку ее обратимости и корректного шифрования признаков, построение линейной регрессии и сравнения метрики R2 до и после преобразования матрицы признаков."
   ]
  },
  {
   "cell_type": "markdown",
   "metadata": {},
   "source": [
    "## 4 Проверка алгоритма"
   ]
  },
  {
   "cell_type": "markdown",
   "metadata": {},
   "source": [
    "### 4.1 Подготовим данные"
   ]
  },
  {
   "cell_type": "code",
   "execution_count": 15,
   "metadata": {},
   "outputs": [],
   "source": [
    "# Удалим явные дубликаты\n",
    "df = df.drop_duplicates(ignore_index=True)"
   ]
  },
  {
   "cell_type": "code",
   "execution_count": 16,
   "metadata": {},
   "outputs": [],
   "source": [
    "# Преобразуем тип данных\n",
    "df = df.astype(int)"
   ]
  },
  {
   "cell_type": "code",
   "execution_count": 16,
   "metadata": {},
   "outputs": [
    {
     "name": "stdout",
     "output_type": "stream",
     "text": [
      "<class 'pandas.core.frame.DataFrame'>\n",
      "RangeIndex: 4847 entries, 0 to 4846\n",
      "Data columns (total 5 columns):\n",
      " #   Column             Non-Null Count  Dtype  \n",
      "---  ------             --------------  -----  \n",
      " 0   Пол                4847 non-null   int64  \n",
      " 1   Возраст            4847 non-null   float64\n",
      " 2   Зарплата           4847 non-null   float64\n",
      " 3   Члены семьи        4847 non-null   int64  \n",
      " 4   Страховые выплаты  4847 non-null   int64  \n",
      "dtypes: float64(2), int64(3)\n",
      "memory usage: 189.5 KB\n",
      "\n",
      " Дубликатов после удаления:0\n"
     ]
    }
   ],
   "source": [
    "# Проверяем удаление\n",
    "df.info() \n",
    "print(f'\\n Дубликатов после удаления:{df.duplicated().sum()}')"
   ]
  },
  {
   "cell_type": "code",
   "execution_count": 17,
   "metadata": {},
   "outputs": [],
   "source": [
    "# Отделим признаки от целевого\n",
    "y = df['Страховые выплаты']\n",
    "X = df.drop('Страховые выплаты', axis=1)"
   ]
  },
  {
   "cell_type": "code",
   "execution_count": 18,
   "metadata": {},
   "outputs": [
    {
     "data": {
      "text/html": [
       "<div>\n",
       "<style scoped>\n",
       "    .dataframe tbody tr th:only-of-type {\n",
       "        vertical-align: middle;\n",
       "    }\n",
       "\n",
       "    .dataframe tbody tr th {\n",
       "        vertical-align: top;\n",
       "    }\n",
       "\n",
       "    .dataframe thead th {\n",
       "        text-align: right;\n",
       "    }\n",
       "</style>\n",
       "<table border=\"1\" class=\"dataframe\">\n",
       "  <thead>\n",
       "    <tr style=\"text-align: right;\">\n",
       "      <th></th>\n",
       "      <th>Страховые выплаты</th>\n",
       "    </tr>\n",
       "  </thead>\n",
       "  <tbody>\n",
       "    <tr>\n",
       "      <th>0</th>\n",
       "      <td>0</td>\n",
       "    </tr>\n",
       "    <tr>\n",
       "      <th>1</th>\n",
       "      <td>1</td>\n",
       "    </tr>\n",
       "  </tbody>\n",
       "</table>\n",
       "</div>"
      ],
      "text/plain": [
       "   Страховые выплаты\n",
       "0                  0\n",
       "1                  1"
      ]
     },
     "metadata": {},
     "output_type": "display_data"
    },
    {
     "data": {
      "text/html": [
       "<div>\n",
       "<style scoped>\n",
       "    .dataframe tbody tr th:only-of-type {\n",
       "        vertical-align: middle;\n",
       "    }\n",
       "\n",
       "    .dataframe tbody tr th {\n",
       "        vertical-align: top;\n",
       "    }\n",
       "\n",
       "    .dataframe thead th {\n",
       "        text-align: right;\n",
       "    }\n",
       "</style>\n",
       "<table border=\"1\" class=\"dataframe\">\n",
       "  <thead>\n",
       "    <tr style=\"text-align: right;\">\n",
       "      <th></th>\n",
       "      <th>Страховые выплаты</th>\n",
       "    </tr>\n",
       "  </thead>\n",
       "  <tbody>\n",
       "    <tr>\n",
       "      <th>4845</th>\n",
       "      <td>0</td>\n",
       "    </tr>\n",
       "    <tr>\n",
       "      <th>4846</th>\n",
       "      <td>0</td>\n",
       "    </tr>\n",
       "  </tbody>\n",
       "</table>\n",
       "</div>"
      ],
      "text/plain": [
       "      Страховые выплаты\n",
       "4845                  0\n",
       "4846                  0"
      ]
     },
     "metadata": {},
     "output_type": "display_data"
    }
   ],
   "source": [
    "# Проверяем целевой признак после выделения из данных\n",
    "display(pd.DataFrame(y.head(2)), pd.DataFrame(y.tail(2)))"
   ]
  },
  {
   "cell_type": "code",
   "execution_count": 19,
   "metadata": {},
   "outputs": [
    {
     "data": {
      "text/html": [
       "<div>\n",
       "<style scoped>\n",
       "    .dataframe tbody tr th:only-of-type {\n",
       "        vertical-align: middle;\n",
       "    }\n",
       "\n",
       "    .dataframe tbody tr th {\n",
       "        vertical-align: top;\n",
       "    }\n",
       "\n",
       "    .dataframe thead th {\n",
       "        text-align: right;\n",
       "    }\n",
       "</style>\n",
       "<table border=\"1\" class=\"dataframe\">\n",
       "  <thead>\n",
       "    <tr style=\"text-align: right;\">\n",
       "      <th></th>\n",
       "      <th>Пол</th>\n",
       "      <th>Возраст</th>\n",
       "      <th>Зарплата</th>\n",
       "      <th>Члены семьи</th>\n",
       "    </tr>\n",
       "  </thead>\n",
       "  <tbody>\n",
       "    <tr>\n",
       "      <th>0</th>\n",
       "      <td>1</td>\n",
       "      <td>41.0</td>\n",
       "      <td>49600.0</td>\n",
       "      <td>1</td>\n",
       "    </tr>\n",
       "    <tr>\n",
       "      <th>1</th>\n",
       "      <td>0</td>\n",
       "      <td>46.0</td>\n",
       "      <td>38000.0</td>\n",
       "      <td>1</td>\n",
       "    </tr>\n",
       "  </tbody>\n",
       "</table>\n",
       "</div>"
      ],
      "text/plain": [
       "   Пол  Возраст  Зарплата  Члены семьи\n",
       "0    1     41.0   49600.0            1\n",
       "1    0     46.0   38000.0            1"
      ]
     },
     "metadata": {},
     "output_type": "display_data"
    },
    {
     "data": {
      "text/html": [
       "<div>\n",
       "<style scoped>\n",
       "    .dataframe tbody tr th:only-of-type {\n",
       "        vertical-align: middle;\n",
       "    }\n",
       "\n",
       "    .dataframe tbody tr th {\n",
       "        vertical-align: top;\n",
       "    }\n",
       "\n",
       "    .dataframe thead th {\n",
       "        text-align: right;\n",
       "    }\n",
       "</style>\n",
       "<table border=\"1\" class=\"dataframe\">\n",
       "  <thead>\n",
       "    <tr style=\"text-align: right;\">\n",
       "      <th></th>\n",
       "      <th>Пол</th>\n",
       "      <th>Возраст</th>\n",
       "      <th>Зарплата</th>\n",
       "      <th>Члены семьи</th>\n",
       "    </tr>\n",
       "  </thead>\n",
       "  <tbody>\n",
       "    <tr>\n",
       "      <th>4845</th>\n",
       "      <td>1</td>\n",
       "      <td>22.0</td>\n",
       "      <td>32700.0</td>\n",
       "      <td>3</td>\n",
       "    </tr>\n",
       "    <tr>\n",
       "      <th>4846</th>\n",
       "      <td>1</td>\n",
       "      <td>28.0</td>\n",
       "      <td>40600.0</td>\n",
       "      <td>1</td>\n",
       "    </tr>\n",
       "  </tbody>\n",
       "</table>\n",
       "</div>"
      ],
      "text/plain": [
       "      Пол  Возраст  Зарплата  Члены семьи\n",
       "4845    1     22.0   32700.0            3\n",
       "4846    1     28.0   40600.0            1"
      ]
     },
     "metadata": {},
     "output_type": "display_data"
    }
   ],
   "source": [
    "display(X.head(2), X.tail(2))"
   ]
  },
  {
   "cell_type": "code",
   "execution_count": 20,
   "metadata": {},
   "outputs": [],
   "source": [
    "# Функция шифрования матрицы признаков, которая генерирует случайную матрицу,\n",
    "# проверяя ее на обратимость, и домножает на нее исходную матрицу признаков.\n",
    "# На входе - исходная матрица признаков.\n",
    "# На выходе - зашифрованная матрица признаков и матрица для дешифрования.\n",
    "def cipher(features):\n",
    "    m = len(features.columns)\n",
    "    try:\n",
    "        P = np.random.normal(size=(m, m)) # генерируем случайную квадратную матрицу нужного размера\n",
    "        key_cipher = np.linalg.inv(P)  # находим обратную матрицу для P - ключ для дешифрования признаков \n",
    "        if (np.linalg.det(key_cipher) != 0):\n",
    "            X_cipher = X.values @ P\n",
    "        else:\n",
    "            print('Оприделитель 0')\n",
    "    except:\n",
    "        print('Ошибка. Возможно, матрица не является обратимой')  #если матрица необратима, будет обнаружена ошибка\n",
    "        \n",
    "    return P, X_cipher, key_cipher"
   ]
  },
  {
   "cell_type": "code",
   "execution_count": 21,
   "metadata": {},
   "outputs": [],
   "source": [
    "# Получаем шифрованные данные\n",
    "P, X_cipher, key_cipher = cipher(X)"
   ]
  },
  {
   "cell_type": "code",
   "execution_count": 22,
   "metadata": {},
   "outputs": [],
   "source": [
    "X_cipher = pd.DataFrame(X_cipher)"
   ]
  },
  {
   "cell_type": "code",
   "execution_count": 23,
   "metadata": {},
   "outputs": [
    {
     "name": "stdout",
     "output_type": "stream",
     "text": [
      " Преобразованная (зашифрованная) матрица признаков X_cipher:\n"
     ]
    },
    {
     "data": {
      "text/html": [
       "<div>\n",
       "<style scoped>\n",
       "    .dataframe tbody tr th:only-of-type {\n",
       "        vertical-align: middle;\n",
       "    }\n",
       "\n",
       "    .dataframe tbody tr th {\n",
       "        vertical-align: top;\n",
       "    }\n",
       "\n",
       "    .dataframe thead th {\n",
       "        text-align: right;\n",
       "    }\n",
       "</style>\n",
       "<table border=\"1\" class=\"dataframe\">\n",
       "  <thead>\n",
       "    <tr style=\"text-align: right;\">\n",
       "      <th></th>\n",
       "      <th>0</th>\n",
       "      <th>1</th>\n",
       "      <th>2</th>\n",
       "      <th>3</th>\n",
       "    </tr>\n",
       "  </thead>\n",
       "  <tbody>\n",
       "    <tr>\n",
       "      <th>0</th>\n",
       "      <td>2876.309347</td>\n",
       "      <td>-74163.366848</td>\n",
       "      <td>-60378.471628</td>\n",
       "      <td>18057.503296</td>\n",
       "    </tr>\n",
       "    <tr>\n",
       "      <th>1</th>\n",
       "      <td>2211.529979</td>\n",
       "      <td>-56816.627962</td>\n",
       "      <td>-46274.985776</td>\n",
       "      <td>13833.826093</td>\n",
       "    </tr>\n",
       "    <tr>\n",
       "      <th>2</th>\n",
       "      <td>1224.991999</td>\n",
       "      <td>-31397.654966</td>\n",
       "      <td>-25576.098877</td>\n",
       "      <td>7645.603306</td>\n",
       "    </tr>\n",
       "    <tr>\n",
       "      <th>3</th>\n",
       "      <td>2407.191956</td>\n",
       "      <td>-62354.405372</td>\n",
       "      <td>-50750.463208</td>\n",
       "      <td>15177.773271</td>\n",
       "    </tr>\n",
       "    <tr>\n",
       "      <th>4</th>\n",
       "      <td>1518.869333</td>\n",
       "      <td>-39023.883570</td>\n",
       "      <td>-31777.016980</td>\n",
       "      <td>9503.915418</td>\n",
       "    </tr>\n",
       "    <tr>\n",
       "      <th>...</th>\n",
       "      <td>...</td>\n",
       "      <td>...</td>\n",
       "      <td>...</td>\n",
       "      <td>...</td>\n",
       "    </tr>\n",
       "    <tr>\n",
       "      <th>4842</th>\n",
       "      <td>2066.926910</td>\n",
       "      <td>-53381.068790</td>\n",
       "      <td>-43459.314138</td>\n",
       "      <td>12994.647681</td>\n",
       "    </tr>\n",
       "    <tr>\n",
       "      <th>4843</th>\n",
       "      <td>3031.222329</td>\n",
       "      <td>-78351.826212</td>\n",
       "      <td>-63778.864481</td>\n",
       "      <td>19073.745939</td>\n",
       "    </tr>\n",
       "    <tr>\n",
       "      <th>4844</th>\n",
       "      <td>1958.416559</td>\n",
       "      <td>-50690.771237</td>\n",
       "      <td>-41261.194108</td>\n",
       "      <td>12338.829559</td>\n",
       "    </tr>\n",
       "    <tr>\n",
       "      <th>4845</th>\n",
       "      <td>1891.247165</td>\n",
       "      <td>-48896.461574</td>\n",
       "      <td>-39803.099945</td>\n",
       "      <td>11903.970018</td>\n",
       "    </tr>\n",
       "    <tr>\n",
       "      <th>4846</th>\n",
       "      <td>2350.948938</td>\n",
       "      <td>-60707.325380</td>\n",
       "      <td>-49416.676759</td>\n",
       "      <td>14780.766352</td>\n",
       "    </tr>\n",
       "  </tbody>\n",
       "</table>\n",
       "<p>4847 rows × 4 columns</p>\n",
       "</div>"
      ],
      "text/plain": [
       "                0             1             2             3\n",
       "0     2876.309347 -74163.366848 -60378.471628  18057.503296\n",
       "1     2211.529979 -56816.627962 -46274.985776  13833.826093\n",
       "2     1224.991999 -31397.654966 -25576.098877   7645.603306\n",
       "3     2407.191956 -62354.405372 -50750.463208  15177.773271\n",
       "4     1518.869333 -39023.883570 -31777.016980   9503.915418\n",
       "...           ...           ...           ...           ...\n",
       "4842  2066.926910 -53381.068790 -43459.314138  12994.647681\n",
       "4843  3031.222329 -78351.826212 -63778.864481  19073.745939\n",
       "4844  1958.416559 -50690.771237 -41261.194108  12338.829559\n",
       "4845  1891.247165 -48896.461574 -39803.099945  11903.970018\n",
       "4846  2350.948938 -60707.325380 -49416.676759  14780.766352\n",
       "\n",
       "[4847 rows x 4 columns]"
      ]
     },
     "metadata": {},
     "output_type": "display_data"
    },
    {
     "name": "stdout",
     "output_type": "stream",
     "text": [
      " Обратимая матрица P:\n"
     ]
    },
    {
     "data": {
      "text/html": [
       "<div>\n",
       "<style scoped>\n",
       "    .dataframe tbody tr th:only-of-type {\n",
       "        vertical-align: middle;\n",
       "    }\n",
       "\n",
       "    .dataframe tbody tr th {\n",
       "        vertical-align: top;\n",
       "    }\n",
       "\n",
       "    .dataframe thead th {\n",
       "        text-align: right;\n",
       "    }\n",
       "</style>\n",
       "<table border=\"1\" class=\"dataframe\">\n",
       "  <thead>\n",
       "    <tr style=\"text-align: right;\">\n",
       "      <th></th>\n",
       "      <th>0</th>\n",
       "      <th>1</th>\n",
       "      <th>2</th>\n",
       "      <th>3</th>\n",
       "    </tr>\n",
       "  </thead>\n",
       "  <tbody>\n",
       "    <tr>\n",
       "      <th>0</th>\n",
       "      <td>1.500298</td>\n",
       "      <td>0.272646</td>\n",
       "      <td>1.839574</td>\n",
       "      <td>2.223854</td>\n",
       "    </tr>\n",
       "    <tr>\n",
       "      <th>1</th>\n",
       "      <td>0.636717</td>\n",
       "      <td>0.168656</td>\n",
       "      <td>-1.066862</td>\n",
       "      <td>0.087173</td>\n",
       "    </tr>\n",
       "    <tr>\n",
       "      <th>2</th>\n",
       "      <td>0.057454</td>\n",
       "      <td>-1.495359</td>\n",
       "      <td>-1.216436</td>\n",
       "      <td>0.363956</td>\n",
       "    </tr>\n",
       "    <tr>\n",
       "      <th>3</th>\n",
       "      <td>-0.998712</td>\n",
       "      <td>-0.731493</td>\n",
       "      <td>-1.335108</td>\n",
       "      <td>-0.510581</td>\n",
       "    </tr>\n",
       "  </tbody>\n",
       "</table>\n",
       "</div>"
      ],
      "text/plain": [
       "          0         1         2         3\n",
       "0  1.500298  0.272646  1.839574  2.223854\n",
       "1  0.636717  0.168656 -1.066862  0.087173\n",
       "2  0.057454 -1.495359 -1.216436  0.363956\n",
       "3 -0.998712 -0.731493 -1.335108 -0.510581"
      ]
     },
     "metadata": {},
     "output_type": "display_data"
    },
    {
     "name": "stdout",
     "output_type": "stream",
     "text": [
      " Ключ дешифрования key_cipher:\n"
     ]
    },
    {
     "data": {
      "text/html": [
       "<div>\n",
       "<style scoped>\n",
       "    .dataframe tbody tr th:only-of-type {\n",
       "        vertical-align: middle;\n",
       "    }\n",
       "\n",
       "    .dataframe tbody tr th {\n",
       "        vertical-align: top;\n",
       "    }\n",
       "\n",
       "    .dataframe thead th {\n",
       "        text-align: right;\n",
       "    }\n",
       "</style>\n",
       "<table border=\"1\" class=\"dataframe\">\n",
       "  <thead>\n",
       "    <tr style=\"text-align: right;\">\n",
       "      <th></th>\n",
       "      <th>0</th>\n",
       "      <th>1</th>\n",
       "      <th>2</th>\n",
       "      <th>3</th>\n",
       "    </tr>\n",
       "  </thead>\n",
       "  <tbody>\n",
       "    <tr>\n",
       "      <th>0</th>\n",
       "      <td>-0.456964</td>\n",
       "      <td>0.287252</td>\n",
       "      <td>0.666352</td>\n",
       "      <td>-1.466288</td>\n",
       "    </tr>\n",
       "    <tr>\n",
       "      <th>1</th>\n",
       "      <td>0.313765</td>\n",
       "      <td>0.603925</td>\n",
       "      <td>-0.935990</td>\n",
       "      <td>0.802528</td>\n",
       "    </tr>\n",
       "    <tr>\n",
       "      <th>2</th>\n",
       "      <td>-0.153927</td>\n",
       "      <td>-0.648475</td>\n",
       "      <td>0.208287</td>\n",
       "      <td>-0.632679</td>\n",
       "    </tr>\n",
       "    <tr>\n",
       "      <th>3</th>\n",
       "      <td>0.846816</td>\n",
       "      <td>0.268586</td>\n",
       "      <td>-0.507089</td>\n",
       "      <td>1.414177</td>\n",
       "    </tr>\n",
       "  </tbody>\n",
       "</table>\n",
       "</div>"
      ],
      "text/plain": [
       "          0         1         2         3\n",
       "0 -0.456964  0.287252  0.666352 -1.466288\n",
       "1  0.313765  0.603925 -0.935990  0.802528\n",
       "2 -0.153927 -0.648475  0.208287 -0.632679\n",
       "3  0.846816  0.268586 -0.507089  1.414177"
      ]
     },
     "metadata": {},
     "output_type": "display_data"
    },
    {
     "data": {
      "text/plain": [
       "(None, None)"
      ]
     },
     "execution_count": 23,
     "metadata": {},
     "output_type": "execute_result"
    }
   ],
   "source": [
    "# Проверяем шифрование признаков\n",
    "print(' Преобразованная (зашифрованная) матрица признаков X_cipher:'), display(X_cipher)\n",
    "print(' Обратимая матрица P:') , display(pd.DataFrame(P))\n",
    "print(' Ключ дешифрования key_cipher:'), display(pd.DataFrame(key_cipher))\n"
   ]
  },
  {
   "cell_type": "code",
   "execution_count": 24,
   "metadata": {},
   "outputs": [],
   "source": [
    "# Проверим дешифрование\n",
    "X_decipher = X_cipher  @ key_cipher"
   ]
  },
  {
   "cell_type": "code",
   "execution_count": 25,
   "metadata": {},
   "outputs": [
    {
     "data": {
      "text/html": [
       "<div>\n",
       "<style scoped>\n",
       "    .dataframe tbody tr th:only-of-type {\n",
       "        vertical-align: middle;\n",
       "    }\n",
       "\n",
       "    .dataframe tbody tr th {\n",
       "        vertical-align: top;\n",
       "    }\n",
       "\n",
       "    .dataframe thead th {\n",
       "        text-align: right;\n",
       "    }\n",
       "</style>\n",
       "<table border=\"1\" class=\"dataframe\">\n",
       "  <thead>\n",
       "    <tr style=\"text-align: right;\">\n",
       "      <th></th>\n",
       "      <th>0</th>\n",
       "      <th>1</th>\n",
       "      <th>2</th>\n",
       "      <th>3</th>\n",
       "    </tr>\n",
       "  </thead>\n",
       "  <tbody>\n",
       "    <tr>\n",
       "      <th>0</th>\n",
       "      <td>1.000000e+00</td>\n",
       "      <td>41.0</td>\n",
       "      <td>49600.0</td>\n",
       "      <td>1.000000e+00</td>\n",
       "    </tr>\n",
       "    <tr>\n",
       "      <th>1</th>\n",
       "      <td>-2.100858e-12</td>\n",
       "      <td>46.0</td>\n",
       "      <td>38000.0</td>\n",
       "      <td>1.000000e+00</td>\n",
       "    </tr>\n",
       "    <tr>\n",
       "      <th>2</th>\n",
       "      <td>-9.489107e-14</td>\n",
       "      <td>29.0</td>\n",
       "      <td>21000.0</td>\n",
       "      <td>1.915206e-12</td>\n",
       "    </tr>\n",
       "    <tr>\n",
       "      <th>3</th>\n",
       "      <td>1.268437e-12</td>\n",
       "      <td>21.0</td>\n",
       "      <td>41700.0</td>\n",
       "      <td>2.000000e+00</td>\n",
       "    </tr>\n",
       "    <tr>\n",
       "      <th>4</th>\n",
       "      <td>1.000000e+00</td>\n",
       "      <td>28.0</td>\n",
       "      <td>26100.0</td>\n",
       "      <td>1.350779e-12</td>\n",
       "    </tr>\n",
       "    <tr>\n",
       "      <th>...</th>\n",
       "      <td>...</td>\n",
       "      <td>...</td>\n",
       "      <td>...</td>\n",
       "      <td>...</td>\n",
       "    </tr>\n",
       "    <tr>\n",
       "      <th>4842</th>\n",
       "      <td>8.625696e-13</td>\n",
       "      <td>28.0</td>\n",
       "      <td>35700.0</td>\n",
       "      <td>2.000000e+00</td>\n",
       "    </tr>\n",
       "    <tr>\n",
       "      <th>4843</th>\n",
       "      <td>-3.301556e-12</td>\n",
       "      <td>34.0</td>\n",
       "      <td>52400.0</td>\n",
       "      <td>1.000000e+00</td>\n",
       "    </tr>\n",
       "    <tr>\n",
       "      <th>4844</th>\n",
       "      <td>1.872466e-15</td>\n",
       "      <td>20.0</td>\n",
       "      <td>33900.0</td>\n",
       "      <td>2.000000e+00</td>\n",
       "    </tr>\n",
       "    <tr>\n",
       "      <th>4845</th>\n",
       "      <td>1.000000e+00</td>\n",
       "      <td>22.0</td>\n",
       "      <td>32700.0</td>\n",
       "      <td>3.000000e+00</td>\n",
       "    </tr>\n",
       "    <tr>\n",
       "      <th>4846</th>\n",
       "      <td>1.000000e+00</td>\n",
       "      <td>28.0</td>\n",
       "      <td>40600.0</td>\n",
       "      <td>1.000000e+00</td>\n",
       "    </tr>\n",
       "  </tbody>\n",
       "</table>\n",
       "<p>4847 rows × 4 columns</p>\n",
       "</div>"
      ],
      "text/plain": [
       "                 0     1        2             3\n",
       "0     1.000000e+00  41.0  49600.0  1.000000e+00\n",
       "1    -2.100858e-12  46.0  38000.0  1.000000e+00\n",
       "2    -9.489107e-14  29.0  21000.0  1.915206e-12\n",
       "3     1.268437e-12  21.0  41700.0  2.000000e+00\n",
       "4     1.000000e+00  28.0  26100.0  1.350779e-12\n",
       "...            ...   ...      ...           ...\n",
       "4842  8.625696e-13  28.0  35700.0  2.000000e+00\n",
       "4843 -3.301556e-12  34.0  52400.0  1.000000e+00\n",
       "4844  1.872466e-15  20.0  33900.0  2.000000e+00\n",
       "4845  1.000000e+00  22.0  32700.0  3.000000e+00\n",
       "4846  1.000000e+00  28.0  40600.0  1.000000e+00\n",
       "\n",
       "[4847 rows x 4 columns]"
      ]
     },
     "execution_count": 25,
     "metadata": {},
     "output_type": "execute_result"
    }
   ],
   "source": [
    "# Матрица исходных признаков, полученная после дешифрованя\n",
    "X_decipher"
   ]
  },
  {
   "cell_type": "code",
   "execution_count": 26,
   "metadata": {},
   "outputs": [
    {
     "name": "stdout",
     "output_type": "stream",
     "text": [
      "Таблица дешифрованных признаков\n"
     ]
    },
    {
     "data": {
      "text/html": [
       "<div>\n",
       "<style scoped>\n",
       "    .dataframe tbody tr th:only-of-type {\n",
       "        vertical-align: middle;\n",
       "    }\n",
       "\n",
       "    .dataframe tbody tr th {\n",
       "        vertical-align: top;\n",
       "    }\n",
       "\n",
       "    .dataframe thead th {\n",
       "        text-align: right;\n",
       "    }\n",
       "</style>\n",
       "<table border=\"1\" class=\"dataframe\">\n",
       "  <thead>\n",
       "    <tr style=\"text-align: right;\">\n",
       "      <th></th>\n",
       "      <th>Пол</th>\n",
       "      <th>Возраст</th>\n",
       "      <th>Зарплата</th>\n",
       "      <th>Члены семьи</th>\n",
       "    </tr>\n",
       "  </thead>\n",
       "  <tbody>\n",
       "    <tr>\n",
       "      <th>0</th>\n",
       "      <td>1</td>\n",
       "      <td>41</td>\n",
       "      <td>49600</td>\n",
       "      <td>1</td>\n",
       "    </tr>\n",
       "    <tr>\n",
       "      <th>1</th>\n",
       "      <td>0</td>\n",
       "      <td>46</td>\n",
       "      <td>38000</td>\n",
       "      <td>1</td>\n",
       "    </tr>\n",
       "    <tr>\n",
       "      <th>2</th>\n",
       "      <td>0</td>\n",
       "      <td>29</td>\n",
       "      <td>21000</td>\n",
       "      <td>0</td>\n",
       "    </tr>\n",
       "    <tr>\n",
       "      <th>3</th>\n",
       "      <td>0</td>\n",
       "      <td>21</td>\n",
       "      <td>41700</td>\n",
       "      <td>2</td>\n",
       "    </tr>\n",
       "    <tr>\n",
       "      <th>4</th>\n",
       "      <td>1</td>\n",
       "      <td>28</td>\n",
       "      <td>26100</td>\n",
       "      <td>0</td>\n",
       "    </tr>\n",
       "  </tbody>\n",
       "</table>\n",
       "</div>"
      ],
      "text/plain": [
       "   Пол  Возраст  Зарплата  Члены семьи\n",
       "0    1       41     49600            1\n",
       "1    0       46     38000            1\n",
       "2    0       29     21000            0\n",
       "3    0       21     41700            2\n",
       "4    1       28     26100            0"
      ]
     },
     "metadata": {},
     "output_type": "display_data"
    },
    {
     "data": {
      "text/html": [
       "<div>\n",
       "<style scoped>\n",
       "    .dataframe tbody tr th:only-of-type {\n",
       "        vertical-align: middle;\n",
       "    }\n",
       "\n",
       "    .dataframe tbody tr th {\n",
       "        vertical-align: top;\n",
       "    }\n",
       "\n",
       "    .dataframe thead th {\n",
       "        text-align: right;\n",
       "    }\n",
       "</style>\n",
       "<table border=\"1\" class=\"dataframe\">\n",
       "  <thead>\n",
       "    <tr style=\"text-align: right;\">\n",
       "      <th></th>\n",
       "      <th>Пол</th>\n",
       "      <th>Возраст</th>\n",
       "      <th>Зарплата</th>\n",
       "      <th>Члены семьи</th>\n",
       "    </tr>\n",
       "  </thead>\n",
       "  <tbody>\n",
       "    <tr>\n",
       "      <th>4842</th>\n",
       "      <td>0</td>\n",
       "      <td>28</td>\n",
       "      <td>35700</td>\n",
       "      <td>2</td>\n",
       "    </tr>\n",
       "    <tr>\n",
       "      <th>4843</th>\n",
       "      <td>0</td>\n",
       "      <td>34</td>\n",
       "      <td>52400</td>\n",
       "      <td>1</td>\n",
       "    </tr>\n",
       "    <tr>\n",
       "      <th>4844</th>\n",
       "      <td>0</td>\n",
       "      <td>20</td>\n",
       "      <td>33900</td>\n",
       "      <td>2</td>\n",
       "    </tr>\n",
       "    <tr>\n",
       "      <th>4845</th>\n",
       "      <td>1</td>\n",
       "      <td>22</td>\n",
       "      <td>32700</td>\n",
       "      <td>3</td>\n",
       "    </tr>\n",
       "    <tr>\n",
       "      <th>4846</th>\n",
       "      <td>1</td>\n",
       "      <td>28</td>\n",
       "      <td>40600</td>\n",
       "      <td>1</td>\n",
       "    </tr>\n",
       "  </tbody>\n",
       "</table>\n",
       "</div>"
      ],
      "text/plain": [
       "      Пол  Возраст  Зарплата  Члены семьи\n",
       "4842    0       28     35700            2\n",
       "4843    0       34     52400            1\n",
       "4844    0       20     33900            2\n",
       "4845    1       22     32700            3\n",
       "4846    1       28     40600            1"
      ]
     },
     "metadata": {},
     "output_type": "display_data"
    }
   ],
   "source": [
    "#Ввиду особенностей обработки вещественных чисел в Python получились очень маленькие (степени -11) отрицатетльные значения,\n",
    "# при округлении которых останутся нули с минусами, уберем их и преобразуем массив дешифрованной матрицы в таблицу\n",
    "#X_decipher[X_decipher < 0 ] *= -1 \n",
    "print('Таблица дешифрованных признаков')\n",
    "X_decipher = round(X_decipher,0)\n",
    "X_decipher = X_decipher.astype(int)\n",
    "X_decipher = pd.DataFrame(X_decipher)\n",
    "X_decipher.columns=['Пол', 'Возраст', 'Зарплата', 'Члены семьи']\n",
    "display(X_decipher.head(), X_decipher.tail())"
   ]
  },
  {
   "cell_type": "code",
   "execution_count": 27,
   "metadata": {},
   "outputs": [
    {
     "data": {
      "text/html": [
       "<div>\n",
       "<style scoped>\n",
       "    .dataframe tbody tr th:only-of-type {\n",
       "        vertical-align: middle;\n",
       "    }\n",
       "\n",
       "    .dataframe tbody tr th {\n",
       "        vertical-align: top;\n",
       "    }\n",
       "\n",
       "    .dataframe thead th {\n",
       "        text-align: right;\n",
       "    }\n",
       "</style>\n",
       "<table border=\"1\" class=\"dataframe\">\n",
       "  <thead>\n",
       "    <tr style=\"text-align: right;\">\n",
       "      <th></th>\n",
       "      <th>Пол</th>\n",
       "      <th>Возраст</th>\n",
       "      <th>Зарплата</th>\n",
       "      <th>Члены семьи</th>\n",
       "    </tr>\n",
       "  </thead>\n",
       "  <tbody>\n",
       "    <tr>\n",
       "      <th>4842</th>\n",
       "      <td>0</td>\n",
       "      <td>28.0</td>\n",
       "      <td>35700.0</td>\n",
       "      <td>2</td>\n",
       "    </tr>\n",
       "    <tr>\n",
       "      <th>4843</th>\n",
       "      <td>0</td>\n",
       "      <td>34.0</td>\n",
       "      <td>52400.0</td>\n",
       "      <td>1</td>\n",
       "    </tr>\n",
       "    <tr>\n",
       "      <th>4844</th>\n",
       "      <td>0</td>\n",
       "      <td>20.0</td>\n",
       "      <td>33900.0</td>\n",
       "      <td>2</td>\n",
       "    </tr>\n",
       "    <tr>\n",
       "      <th>4845</th>\n",
       "      <td>1</td>\n",
       "      <td>22.0</td>\n",
       "      <td>32700.0</td>\n",
       "      <td>3</td>\n",
       "    </tr>\n",
       "    <tr>\n",
       "      <th>4846</th>\n",
       "      <td>1</td>\n",
       "      <td>28.0</td>\n",
       "      <td>40600.0</td>\n",
       "      <td>1</td>\n",
       "    </tr>\n",
       "  </tbody>\n",
       "</table>\n",
       "</div>"
      ],
      "text/plain": [
       "      Пол  Возраст  Зарплата  Члены семьи\n",
       "4842    0     28.0   35700.0            2\n",
       "4843    0     34.0   52400.0            1\n",
       "4844    0     20.0   33900.0            2\n",
       "4845    1     22.0   32700.0            3\n",
       "4846    1     28.0   40600.0            1"
      ]
     },
     "execution_count": 27,
     "metadata": {},
     "output_type": "execute_result"
    }
   ],
   "source": [
    "# Исходная таблица для сравнения - не изменилась\n",
    "X.tail()"
   ]
  },
  {
   "cell_type": "code",
   "execution_count": 28,
   "metadata": {},
   "outputs": [
    {
     "data": {
      "text/plain": [
       "((4847, 4), (4847, 4))"
      ]
     },
     "execution_count": 28,
     "metadata": {},
     "output_type": "execute_result"
    }
   ],
   "source": [
    "# Проверим размерности исходной и дешифрованной матриц\n",
    "X_decipher.shape, X.shape"
   ]
  },
  {
   "cell_type": "code",
   "execution_count": 29,
   "metadata": {},
   "outputs": [
    {
     "data": {
      "text/plain": [
       "Пол             0\n",
       "Возраст         0\n",
       "Зарплата       38\n",
       "Члены семьи     0\n",
       "dtype: int64"
      ]
     },
     "execution_count": 29,
     "metadata": {},
     "output_type": "execute_result"
    }
   ],
   "source": [
    "# Проверим равенство исходной и дешифрованной матриц\n",
    "d = X_decipher == X\n",
    "d[d==False].count()"
   ]
  },
  {
   "cell_type": "code",
   "execution_count": 30,
   "metadata": {},
   "outputs": [],
   "source": [
    "# Подготовка выборок до шифрования матрицы признаков\n",
    "x_train, x_test, y_train, y_test = train_test_split(\n",
    "    X, y, test_size=0.25, random_state=RS)"
   ]
  },
  {
   "cell_type": "code",
   "execution_count": 31,
   "metadata": {},
   "outputs": [
    {
     "data": {
      "text/plain": [
       "((3635, 4), (1212, 4), (3635,), (1212,))"
      ]
     },
     "execution_count": 31,
     "metadata": {},
     "output_type": "execute_result"
    }
   ],
   "source": [
    "# Проверка размерности выборок\n",
    "x_train.shape, x_test.shape, y_train.shape, y_test.shape"
   ]
  },
  {
   "cell_type": "code",
   "execution_count": 32,
   "metadata": {},
   "outputs": [],
   "source": [
    "# Подготовка выборок после шифрования матрицы признаков\n",
    "xc_train, xc_test, yc_train, yc_test = train_test_split(\n",
    "    X_cipher, y, test_size=0.25, random_state=RS)"
   ]
  },
  {
   "cell_type": "code",
   "execution_count": 33,
   "metadata": {},
   "outputs": [
    {
     "data": {
      "text/plain": [
       "((3635, 4), (1212, 4), (3635,), (1212,))"
      ]
     },
     "execution_count": 33,
     "metadata": {},
     "output_type": "execute_result"
    }
   ],
   "source": [
    "# Проверка размерности выборок после шифрования матрицы признаков\n",
    "x_train.shape, x_test.shape, y_train.shape, y_test.shape"
   ]
  },
  {
   "cell_type": "code",
   "execution_count": 34,
   "metadata": {},
   "outputs": [],
   "source": [
    "# Пайплайн для редобработки и создания модели\n",
    "pipeline = Pipeline(\n",
    "    steps=[('scaler', MinMaxScaler()), ('linear_regression', LinearRegression())])"
   ]
  },
  {
   "cell_type": "markdown",
   "metadata": {},
   "source": [
    "### 4.2 Сравнение качества линейной регрессии до и после шифрования (применим метрику R2)."
   ]
  },
  {
   "cell_type": "code",
   "execution_count": 35,
   "metadata": {},
   "outputs": [
    {
     "name": "stdout",
     "output_type": "stream",
     "text": [
      " 0.44346330831611924 - метрика R2 линейной регрессии до преобразования матрицы признаков \n"
     ]
    }
   ],
   "source": [
    "# Посчитаем метрику R2 до преобразования матрицы признаков\n",
    "pipeline.fit(x_train, y_train)\n",
    "predict_x = pipeline.predict(x_test)\n",
    "r2_x = r2_score(y_test, predict_x)\n",
    "print(f' {r2_x} - метрика R2 линейной регрессии до преобразования матрицы признаков ')"
   ]
  },
  {
   "cell_type": "code",
   "execution_count": 36,
   "metadata": {},
   "outputs": [
    {
     "name": "stdout",
     "output_type": "stream",
     "text": [
      " 0.44346330831618674 - метрика R2 линейной регрессии после преобразования матрицы признаков \n"
     ]
    }
   ],
   "source": [
    "# Посчитаем метрику R2 после преобразования матрицы признаков\n",
    "pipeline.fit(xc_train, yc_train)\n",
    "predict_xс = pipeline.predict(xc_test)\n",
    "r2_xc = r2_score(yc_test, predict_xс)\n",
    "print(f' {r2_xc} - метрика R2 линейной регрессии после преобразования матрицы признаков ')"
   ]
  },
  {
   "cell_type": "code",
   "execution_count": 37,
   "metadata": {},
   "outputs": [
    {
     "name": "stdout",
     "output_type": "stream",
     "text": [
      "-6.750155989720952e-14 - разница в метрике r2 до и после шифрования \n"
     ]
    }
   ],
   "source": [
    "# Разница в метрике\n",
    "print(f'{r2_x - r2_xc} - разница в метрике r2 до и после шифрования ')"
   ]
  },
  {
   "cell_type": "code",
   "execution_count": 38,
   "metadata": {},
   "outputs": [],
   "source": [
    "predict_x = pd.Series(predict_x)\n",
    "predict_xс = pd.Series(predict_xс)"
   ]
  },
  {
   "cell_type": "code",
   "execution_count": 39,
   "metadata": {},
   "outputs": [
    {
     "data": {
      "image/png": "[encoded data removed]",
      "text/plain": [
       "<Figure size 504x216 with 1 Axes>"
      ]
     },
     "metadata": {
      "needs_background": "light"
     },
     "output_type": "display_data"
    }
   ],
   "source": [
    "# Распределение предсказаний одинаковое\n",
    "plt.figure(figsize=(7,3))\n",
    "predict_x.plot(kind='kde', color = 'blue', marker='o', label = 'predict_x') #linestyle = 'dashed'\n",
    "predict_xс.plot(kind='kde', color = 'red', marker='x', label = 'predict_xc')\n",
    "plt.legend(fontsize=8)\n",
    "plt.grid()\n",
    "plt.title(f'Распределение предсказания модели до и после шифрования ', fontsize=10)\n",
    "plt.show()"
   ]
  },
  {
   "cell_type": "markdown",
   "metadata": {},
   "source": [
    "### Вывод 4\n",
    "Подготовили данные:\n",
    "- удалили явные дубликаты\n",
    "- преобразовали тип данных для более качественного расчета\n",
    "- выделили целевой признак\n",
    "- написали функцию для генерирования обратной матрицы и преобразования домножением на нее матрицы исходных признаков\n",
    "- проверили равенство исходной и дешифрованной матриц признаков\n",
    "- подготовили ноборы выборок для обучения модели до и после шифрования матрицы признаков\n",
    "Метод шифрованя работает корректно: проверили и убедились, что исходные признаки зашиврованы - по ним исходные данные не видны и их не получить без ключа - матрицы, обратной к той, на которую умножали при зашифровке.  \n",
    "Таким образом, разработали такой метод преобразования данных, чтобы по ним было сложно восстановить персональную информацию компании.\n",
    "Построили модель и проверили метрику R2 на выборках до и после изменения (шифрования) матрицы признаков. В качестве выборок для этого брали сначала исходную матрицу признаков, затем - зашифрованную. \n",
    "Значения метрик совпали, разница ничтожно мала."
   ]
  },
  {
   "cell_type": "markdown",
   "metadata": {},
   "source": [
    "## Общий вывод  \n",
    "Нами были изучены и преобразованы данные.  \n",
    "Удалены 153 дубликаты, состовлявшие 3% данных.\n",
    "Изменены для удобства вещественный на целый тип данных.\n",
    "В данных 5000 объектов и 5 признаков их описывающих.  \n",
    "Заголовки колонок и содержание данных корректны.  \n",
    "Признаки в данных количественные (признак Пол имеет тип (int) и значения (0, 1), характерные для количественных признаков, кодировать в таком виде его не имеет смысла, хоть он и относится к качественным по смыслу).   \n",
    "Большинство признаков распределены ненормально, есть выбросы.  \n",
    "Пропусков и мультиколлинеарных признаков нет.   \n",
    "Обнаружили среднюю корреляцию признака Возраст с целевым признаком Выплаты(0,65).\n",
    "\n",
    "Далее доказали, что векторы предсказаний до и после преобразования совпадают, следовательно, при умножении справа матрицы признаков на обратимую матрицу качество линейной регрессии не изменится. То есть такой метод защиты данных подходит для решения поставленной задачи.\n",
    "\n",
    "Описали алгоритм преобразования данных.  \n",
    "Он включает в себя генерацию обратимой матрицы, проверку ее обратимости и корректного шифрования признаков, построение линейной регрессии и сравнения метрики R2 до и после преобразования матрицы признаков.\n",
    "\n",
    "\n",
    "Подготовили данные:\n",
    "- удалили явные дубликаты\n",
    "- преобразовали тип данных для более качественного расчета\n",
    "- выделили целевой признак\n",
    "- написали функцию для генерирования обратной матрицы и преобразования домножением на нее матрицы исходных признаков\n",
    "- проверили равенство исходной и дешифрованной матриц признаков\n",
    "- подготовили наборы выборок для обучения модели до и после шифрования матрицы признаков\n",
    "Метод шифрованя работает корректно: проверили и убедились, что исходные признаки зашиврованы - по ним исходные данные не видны и их не получить без ключа - матрицы, обратной к той, на которую умножали при зашифровке.  \n",
    "\n",
    "\n",
    "Построили модель на отмасштабированных признаках и проверили метрику R2 на выборках до и после изменения (шифрования) матрицы признаков. В качестве выборок для этого брали сначала исходную матрицу признаков, затем - зашифрованную. Распределения предсказаний совпали.\n",
    "Значения метрик также совпали.\n",
    "\n",
    "Нами была выполнена основная задача: разработан и проверен надежный метод преобразования данных для защиты данных компании \"Хоть потоп\", чтобы по ним было сложно восстановить персональную информацию компании. При этом методе качество моделей машинного обучения не ухудшилось, а по ключу, при необходимости,  можно восстановить исходные данные клиентов.  \n",
    "Компании можно порекомндовать его использовать, а также посмотреть, как можно избежать дубликатов в базе данных, которые могли возникнуть при некорректной работе с данными при выгрузках из базы данных, обновлениях и прочее. "
   ]
  },
  {
   "cell_type": "code",
   "execution_count": null,
   "metadata": {},
   "outputs": [],
   "source": []
  },
  {
   "cell_type": "markdown",
   "metadata": {},
   "source": [
    "## Чек-лист проверки"
   ]
  },
  {
   "cell_type": "markdown",
   "metadata": {},
   "source": [
    "Поставьте 'x' в выполненных пунктах. Далее нажмите Shift+Enter."
   ]
  },
  {
   "cell_type": "markdown",
   "metadata": {},
   "source": [
    "- [x]  Jupyter Notebook открыт\n",
    "- [x ]  Весь код выполняется без ошибок\n",
    "- [x ]  Ячейки с кодом расположены в порядке исполнения\n",
    "- [x ]  Выполнен шаг 1: данные загружены\n",
    "- [x ]  Выполнен шаг 2: получен ответ на вопрос об умножении матриц\n",
    "    - [x]  Указан правильный вариант ответа\n",
    "    - [ x]  Вариант обоснован\n",
    "- [x ]  Выполнен шаг 3: предложен алгоритм преобразования\n",
    "    - [x ]  Алгоритм описан\n",
    "    - [x ]  Алгоритм обоснован\n",
    "- [x ]  Выполнен шаг 4: алгоритм проверен\n",
    "    - [x ]  Алгоритм реализован\n",
    "    - [x ]  Проведено сравнение качества моделей до и после преобразования"
   ]
  },
  {
   "cell_type": "code",
   "execution_count": null,
   "metadata": {},
   "outputs": [],
   "source": []
  }
 ],
 "metadata": {
  "ExecuteTimeLog": [
   {
    "duration": 1659,
    "start_time": "2023-02-10T03:49:20.002Z"
   },
   {
    "duration": 3,
    "start_time": "2023-02-10T03:49:21.664Z"
   },
   {
    "duration": 130,
    "start_time": "2023-02-10T03:49:21.669Z"
   },
   {
    "duration": 21,
    "start_time": "2023-02-10T03:49:21.802Z"
   },
   {
    "duration": 48,
    "start_time": "2023-02-10T03:49:21.824Z"
   },
   {
    "duration": 31,
    "start_time": "2023-02-10T03:49:21.874Z"
   },
   {
    "duration": 5,
    "start_time": "2023-02-10T03:49:21.907Z"
   },
   {
    "duration": 21,
    "start_time": "2023-02-10T03:49:21.914Z"
   },
   {
    "duration": 632,
    "start_time": "2023-02-10T03:49:21.937Z"
   },
   {
    "duration": 825,
    "start_time": "2023-02-10T03:49:22.573Z"
   },
   {
    "duration": 5,
    "start_time": "2023-02-10T03:49:23.399Z"
   },
   {
    "duration": 34,
    "start_time": "2023-02-10T03:49:23.406Z"
   },
   {
    "duration": 41,
    "start_time": "2023-02-10T03:49:23.442Z"
   },
   {
    "duration": 471,
    "start_time": "2023-02-10T03:49:23.485Z"
   },
   {
    "duration": 5,
    "start_time": "2023-02-10T03:49:23.958Z"
   },
   {
    "duration": 28,
    "start_time": "2023-02-10T03:49:23.965Z"
   },
   {
    "duration": 54,
    "start_time": "2023-02-10T03:49:23.994Z"
   },
   {
    "duration": 28,
    "start_time": "2023-02-10T03:49:24.050Z"
   },
   {
    "duration": 33,
    "start_time": "2023-02-10T03:49:24.079Z"
   },
   {
    "duration": 27,
    "start_time": "2023-02-10T03:49:24.114Z"
   },
   {
    "duration": 12,
    "start_time": "2023-02-10T03:49:24.143Z"
   },
   {
    "duration": 46,
    "start_time": "2023-02-10T03:49:24.156Z"
   },
   {
    "duration": 33,
    "start_time": "2023-02-10T03:49:24.205Z"
   },
   {
    "duration": 119,
    "start_time": "2023-02-10T03:49:24.241Z"
   },
   {
    "duration": 3,
    "start_time": "2023-02-10T03:49:24.362Z"
   },
   {
    "duration": 17,
    "start_time": "2023-02-10T03:49:24.367Z"
   },
   {
    "duration": 57,
    "start_time": "2023-02-10T03:49:24.386Z"
   },
   {
    "duration": 7,
    "start_time": "2023-02-10T03:49:24.446Z"
   },
   {
    "duration": 30,
    "start_time": "2023-02-10T03:49:24.455Z"
   },
   {
    "duration": 16,
    "start_time": "2023-02-10T03:49:24.487Z"
   },
   {
    "duration": 10,
    "start_time": "2023-02-10T03:49:24.505Z"
   },
   {
    "duration": 28,
    "start_time": "2023-02-10T03:49:24.517Z"
   },
   {
    "duration": 18,
    "start_time": "2023-02-10T03:49:24.547Z"
   },
   {
    "duration": 10,
    "start_time": "2023-02-10T03:49:24.567Z"
   },
   {
    "duration": 15,
    "start_time": "2023-02-10T03:49:24.579Z"
   },
   {
    "duration": 44,
    "start_time": "2023-02-10T03:49:24.595Z"
   },
   {
    "duration": 123,
    "start_time": "2023-02-10T03:49:24.641Z"
   },
   {
    "duration": 22,
    "start_time": "2023-02-10T03:49:24.765Z"
   },
   {
    "duration": 49,
    "start_time": "2023-02-10T03:49:24.789Z"
   },
   {
    "duration": 227,
    "start_time": "2023-02-10T03:49:24.840Z"
   },
   {
    "duration": 2486,
    "start_time": "2023-02-10T04:33:12.302Z"
   },
   {
    "duration": 3,
    "start_time": "2023-02-10T04:33:14.790Z"
   },
   {
    "duration": 135,
    "start_time": "2023-02-10T04:33:14.795Z"
   },
   {
    "duration": 16,
    "start_time": "2023-02-10T04:51:37.519Z"
   },
   {
    "duration": 10,
    "start_time": "2023-02-10T04:51:37.965Z"
   },
   {
    "duration": 23,
    "start_time": "2023-02-10T04:51:38.431Z"
   },
   {
    "duration": 5,
    "start_time": "2023-02-10T04:51:38.859Z"
   },
   {
    "duration": 3,
    "start_time": "2023-02-10T04:51:39.740Z"
   },
   {
    "duration": 480,
    "start_time": "2023-02-10T04:51:41.127Z"
   },
   {
    "duration": 690,
    "start_time": "2023-02-10T04:51:41.995Z"
   },
   {
    "duration": 4,
    "start_time": "2023-02-10T04:51:42.758Z"
   },
   {
    "duration": 3,
    "start_time": "2023-02-10T04:51:43.571Z"
   },
   {
    "duration": 4,
    "start_time": "2023-02-10T04:51:43.777Z"
   },
   {
    "duration": 368,
    "start_time": "2023-02-10T04:51:43.960Z"
   },
   {
    "duration": 6,
    "start_time": "2023-02-10T04:57:15.425Z"
   },
   {
    "duration": 12,
    "start_time": "2023-02-10T04:59:28.549Z"
   },
   {
    "duration": 4,
    "start_time": "2023-02-10T04:59:29.252Z"
   },
   {
    "duration": 8,
    "start_time": "2023-02-10T04:59:29.498Z"
   },
   {
    "duration": 12,
    "start_time": "2023-02-10T04:59:29.688Z"
   },
   {
    "duration": 5,
    "start_time": "2023-02-10T04:59:29.862Z"
   },
   {
    "duration": 4,
    "start_time": "2023-02-10T04:59:30.193Z"
   },
   {
    "duration": 3,
    "start_time": "2023-02-10T04:59:30.531Z"
   },
   {
    "duration": 24,
    "start_time": "2023-02-10T04:59:30.745Z"
   },
   {
    "duration": 3,
    "start_time": "2023-02-10T04:59:31.250Z"
   },
   {
    "duration": 12,
    "start_time": "2023-02-10T04:59:31.479Z"
   },
   {
    "duration": 15,
    "start_time": "2023-02-10T04:59:31.828Z"
   },
   {
    "duration": 8,
    "start_time": "2023-02-10T04:59:32.019Z"
   },
   {
    "duration": 3,
    "start_time": "2023-02-10T04:59:32.603Z"
   },
   {
    "duration": 9,
    "start_time": "2023-02-10T04:59:32.776Z"
   },
   {
    "duration": 5,
    "start_time": "2023-02-10T04:59:32.965Z"
   },
   {
    "duration": 4,
    "start_time": "2023-02-10T04:59:33.146Z"
   },
   {
    "duration": 7,
    "start_time": "2023-02-10T04:59:33.708Z"
   },
   {
    "duration": 6,
    "start_time": "2023-02-10T04:59:33.905Z"
   },
   {
    "duration": 3,
    "start_time": "2023-02-10T04:59:34.103Z"
   },
   {
    "duration": 11,
    "start_time": "2023-02-10T04:59:34.655Z"
   },
   {
    "duration": 13,
    "start_time": "2023-02-10T04:59:34.829Z"
   },
   {
    "duration": 3,
    "start_time": "2023-02-10T04:59:34.995Z"
   },
   {
    "duration": 3,
    "start_time": "2023-02-10T04:59:35.170Z"
   },
   {
    "duration": 193,
    "start_time": "2023-02-10T04:59:35.338Z"
   }
  ],
  "kernelspec": {
   "display_name": "Python 3",
   "language": "python",
   "name": "python3"
  },
  "language_info": {
   "codemirror_mode": {
    "name": "ipython",
    "version": 3
   },
   "file_extension": ".py",
   "mimetype": "text/x-python",
   "name": "python",
   "nbconvert_exporter": "python",
   "pygments_lexer": "ipython3",
   "version": "3.8.8"
  },
  "toc": {
   "base_numbering": 1,
   "nav_menu": {},
   "number_sections": true,
   "sideBar": true,
   "skip_h1_title": true,
   "title_cell": "Содержание",
   "title_sidebar": "Contents",
   "toc_cell": true,
   "toc_position": {
    "height": "calc(100% - 180px)",
    "left": "10px",
    "top": "150px",
    "width": "374.391px"
   },
   "toc_section_display": true,
   "toc_window_display": true
  }
 },
 "nbformat": 4,
 "nbformat_minor": 2
}
