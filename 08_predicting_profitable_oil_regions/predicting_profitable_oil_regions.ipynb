{
 "cells": [
  {
   "attachments": {},
   "cell_type": "markdown",
   "metadata": {},
   "source": [
    "# Выбор локации для скважины"
   ]
  },
  {
   "attachments": {},
   "cell_type": "markdown",
   "metadata": {},
   "source": [
    "Нужно решить, где бурить новую скважину.\n",
    "\n",
    "Предоставлены пробы нефти в трёх регионах: в каждом 10 000 месторождений, где измерили качество нефти и объём её запасов. Построить модель машинного обучения, которая поможет определить регион, где добыча принесёт наибольшую прибыль. \n",
    "\n",
    "**Шаги для выбора локации:**\n",
    "- В избранном регионе ищут месторождения, для каждого определяют значения признаков;\n",
    "- Строят модель и оценивают объём запасов;\n",
    "- Выбирают месторождения с самым высокими оценками значений. Количество месторождений зависит от бюджета компании и стоимости разработки одной скважины;\n",
    "- Прибыль равна суммарной прибыли отобранных месторождений."
   ]
  },
  {
   "attachments": {},
   "cell_type": "markdown",
   "metadata": {},
   "source": [
    "## 1. Загрузка и подготовка данных"
   ]
  },
  {
   "cell_type": "code",
   "execution_count": 1,
   "metadata": {},
   "outputs": [],
   "source": [
    "# Установка profiling\n",
    "#!pip install pandas-profiling==2.8.0"
   ]
  },
  {
   "cell_type": "code",
   "execution_count": 2,
   "metadata": {},
   "outputs": [],
   "source": [
    "# Загружаем библиотеки\n",
    "import pandas as pd\n",
    "import numpy as np\n",
    "from numpy.random import RandomState\n",
    "\n",
    "#import pandas_profiling\n",
    "#from pandas_profiling import ProfileReport\n",
    "\n",
    "import re\n",
    "\n",
    "from sklearn.model_selection import train_test_split, GridSearchCV, StratifiedKFold\n",
    "from sklearn.preprocessing import OneHotEncoder, MinMaxScaler\n",
    "from sklearn.utils import shuffle\n",
    "from sklearn.dummy import DummyClassifier\n",
    "from sklearn.linear_model import LinearRegression\n",
    "from sklearn.metrics import accuracy_score, recall_score, precision_score, f1_score, roc_auc_score, roc_curve\n",
    "from sklearn.metrics import f1_score, make_scorer, confusion_matrix\n",
    "from sklearn.metrics import mean_squared_error, r2_score, mean_absolute_error\n",
    "\n",
    "pd.options.mode.chained_assignment = None\n",
    "from scipy import stats as st\n",
    "\n",
    "import seaborn as sns\n",
    "\n",
    "import matplotlib.pyplot as plt\n",
    "\n",
    "import time\n",
    "import timeit\n",
    "from datetime import datetime\n",
    "from tqdm import tqdm\n",
    "import os\n",
    "\n",
    "import warnings\n",
    "warnings.filterwarnings(\"ignore\")"
   ]
  },
  {
   "cell_type": "code",
   "execution_count": 3,
   "metadata": {},
   "outputs": [],
   "source": [
    "# Используемые константы\n",
    "RS = 1234 #random state \n",
    "\n",
    "REGON_WELLS = 500 #количество рассматриваемых скважин для разработки (500 скважин)\n",
    "BEST_WELLS = 200 #количество лучших скважин для разработки (200 скважин)\n",
    "BUDGET = 10**10 #бюджет на разработку скважин в регионе 10 млрд руб\n",
    "PROFIT_WELL = 45*10**4 #доход на 1000 баррелей"
   ]
  },
  {
   "cell_type": "code",
   "execution_count": 4,
   "metadata": {},
   "outputs": [],
   "source": [
    "# Загружаем данные\n",
    "pth1 = '/datasets/geo_data_0.csv'\n",
    "pth2 = 'geo_data_0.csv'\n",
    "\n",
    "if os.path.exists(pth1):\n",
    "    data_1 = pd.read_csv(pth1)\n",
    "    data_2 = pd.read_csv('/datasets/geo_data_1.csv')\n",
    "    data_3 = pd.read_csv('/datasets/geo_data_2.csv')\n",
    "    \n",
    "elif os.path.exists(pth2):\n",
    "    data_1 = pd.read_csv(pth2)\n",
    "    data_2 = pd.read_csv('geo_data_1.csv')\n",
    "    data_3 = pd.read_csv('geo_data_2.csv')\n",
    "#    print('Путь 2')\n",
    "else:\n",
    "    print('Ошибка загрузки данных, проверьте правильность пути, наличие файла')"
   ]
  },
  {
   "cell_type": "code",
   "execution_count": 5,
   "metadata": {},
   "outputs": [],
   "source": [
    "# Загружаем данные версия2\n",
    "#try:\n",
    "#    data_1 = pd.read_csv('geo_data_0.csv')\n",
    "#    data_2 = pd.read_csv('geo_data_1.csv')\n",
    "#    data_3 = pd.read_csv('geo_data_2.csv')\n",
    "#except:\n",
    "#    data_1 = pd.read_csv('/datasets/geo_data_0.csv')\n",
    "#    data_2 = pd.read_csv('/datasets/geo_data_1.csv')\n",
    "#    data_3 = pd.read_csv('/datasets/geo_data_2.csv')"
   ]
  },
  {
   "cell_type": "code",
   "execution_count": 6,
   "metadata": {},
   "outputs": [],
   "source": [
    "# Создадим копии данных, с которыми будем работать\n",
    "df_1 = data_1.copy()\n",
    "df_2 = data_2.copy()\n",
    "df_3 = data_3.copy()"
   ]
  },
  {
   "cell_type": "code",
   "execution_count": 7,
   "metadata": {},
   "outputs": [],
   "source": [
    "# Отчет по данным\n",
    "#df_1.profile_report()\n",
    "#df_2.profile_report()\n",
    "#df_3.profile_report()"
   ]
  },
  {
   "cell_type": "code",
   "execution_count": 8,
   "metadata": {},
   "outputs": [],
   "source": [
    "# Создаем словарь исходных 3х таблиц\n",
    "dct_df = {'df_1': df_1, 'df_2': df_2, 'df_3': df_3}"
   ]
  },
  {
   "cell_type": "code",
   "execution_count": 9,
   "metadata": {},
   "outputs": [
    {
     "name": "stdout",
     "output_type": "stream",
     "text": [
      "\n"
     ]
    },
    {
     "data": {
      "text/plain": [
       "'df_1'"
      ]
     },
     "metadata": {},
     "output_type": "display_data"
    },
    {
     "data": {
      "text/html": [
       "<div>\n",
       "<style scoped>\n",
       "    .dataframe tbody tr th:only-of-type {\n",
       "        vertical-align: middle;\n",
       "    }\n",
       "\n",
       "    .dataframe tbody tr th {\n",
       "        vertical-align: top;\n",
       "    }\n",
       "\n",
       "    .dataframe thead th {\n",
       "        text-align: right;\n",
       "    }\n",
       "</style>\n",
       "<table border=\"1\" class=\"dataframe\">\n",
       "  <thead>\n",
       "    <tr style=\"text-align: right;\">\n",
       "      <th></th>\n",
       "      <th>id</th>\n",
       "      <th>f0</th>\n",
       "      <th>f1</th>\n",
       "      <th>f2</th>\n",
       "      <th>product</th>\n",
       "    </tr>\n",
       "  </thead>\n",
       "  <tbody>\n",
       "    <tr>\n",
       "      <th>0</th>\n",
       "      <td>txEyH</td>\n",
       "      <td>0.705745</td>\n",
       "      <td>-0.497823</td>\n",
       "      <td>1.221170</td>\n",
       "      <td>105.280062</td>\n",
       "    </tr>\n",
       "    <tr>\n",
       "      <th>1</th>\n",
       "      <td>2acmU</td>\n",
       "      <td>1.334711</td>\n",
       "      <td>-0.340164</td>\n",
       "      <td>4.365080</td>\n",
       "      <td>73.037750</td>\n",
       "    </tr>\n",
       "    <tr>\n",
       "      <th>2</th>\n",
       "      <td>409Wp</td>\n",
       "      <td>1.022732</td>\n",
       "      <td>0.151990</td>\n",
       "      <td>1.419926</td>\n",
       "      <td>85.265647</td>\n",
       "    </tr>\n",
       "    <tr>\n",
       "      <th>3</th>\n",
       "      <td>iJLyR</td>\n",
       "      <td>-0.032172</td>\n",
       "      <td>0.139033</td>\n",
       "      <td>2.978566</td>\n",
       "      <td>168.620776</td>\n",
       "    </tr>\n",
       "    <tr>\n",
       "      <th>4</th>\n",
       "      <td>Xdl7t</td>\n",
       "      <td>1.988431</td>\n",
       "      <td>0.155413</td>\n",
       "      <td>4.751769</td>\n",
       "      <td>154.036647</td>\n",
       "    </tr>\n",
       "  </tbody>\n",
       "</table>\n",
       "</div>"
      ],
      "text/plain": [
       "      id        f0        f1        f2     product\n",
       "0  txEyH  0.705745 -0.497823  1.221170  105.280062\n",
       "1  2acmU  1.334711 -0.340164  4.365080   73.037750\n",
       "2  409Wp  1.022732  0.151990  1.419926   85.265647\n",
       "3  iJLyR -0.032172  0.139033  2.978566  168.620776\n",
       "4  Xdl7t  1.988431  0.155413  4.751769  154.036647"
      ]
     },
     "metadata": {},
     "output_type": "display_data"
    },
    {
     "data": {
      "text/html": [
       "<div>\n",
       "<style scoped>\n",
       "    .dataframe tbody tr th:only-of-type {\n",
       "        vertical-align: middle;\n",
       "    }\n",
       "\n",
       "    .dataframe tbody tr th {\n",
       "        vertical-align: top;\n",
       "    }\n",
       "\n",
       "    .dataframe thead th {\n",
       "        text-align: right;\n",
       "    }\n",
       "</style>\n",
       "<table border=\"1\" class=\"dataframe\">\n",
       "  <thead>\n",
       "    <tr style=\"text-align: right;\">\n",
       "      <th></th>\n",
       "      <th>id</th>\n",
       "      <th>f0</th>\n",
       "      <th>f1</th>\n",
       "      <th>f2</th>\n",
       "      <th>product</th>\n",
       "    </tr>\n",
       "  </thead>\n",
       "  <tbody>\n",
       "    <tr>\n",
       "      <th>99995</th>\n",
       "      <td>DLsed</td>\n",
       "      <td>0.971957</td>\n",
       "      <td>0.370953</td>\n",
       "      <td>6.075346</td>\n",
       "      <td>110.744026</td>\n",
       "    </tr>\n",
       "    <tr>\n",
       "      <th>99996</th>\n",
       "      <td>QKivN</td>\n",
       "      <td>1.392429</td>\n",
       "      <td>-0.382606</td>\n",
       "      <td>1.273912</td>\n",
       "      <td>122.346843</td>\n",
       "    </tr>\n",
       "    <tr>\n",
       "      <th>99997</th>\n",
       "      <td>3rnvd</td>\n",
       "      <td>1.029585</td>\n",
       "      <td>0.018787</td>\n",
       "      <td>-1.348308</td>\n",
       "      <td>64.375443</td>\n",
       "    </tr>\n",
       "    <tr>\n",
       "      <th>99998</th>\n",
       "      <td>7kl59</td>\n",
       "      <td>0.998163</td>\n",
       "      <td>-0.528582</td>\n",
       "      <td>1.583869</td>\n",
       "      <td>74.040764</td>\n",
       "    </tr>\n",
       "    <tr>\n",
       "      <th>99999</th>\n",
       "      <td>1CWhH</td>\n",
       "      <td>1.764754</td>\n",
       "      <td>-0.266417</td>\n",
       "      <td>5.722849</td>\n",
       "      <td>149.633246</td>\n",
       "    </tr>\n",
       "  </tbody>\n",
       "</table>\n",
       "</div>"
      ],
      "text/plain": [
       "          id        f0        f1        f2     product\n",
       "99995  DLsed  0.971957  0.370953  6.075346  110.744026\n",
       "99996  QKivN  1.392429 -0.382606  1.273912  122.346843\n",
       "99997  3rnvd  1.029585  0.018787 -1.348308   64.375443\n",
       "99998  7kl59  0.998163 -0.528582  1.583869   74.040764\n",
       "99999  1CWhH  1.764754 -0.266417  5.722849  149.633246"
      ]
     },
     "metadata": {},
     "output_type": "display_data"
    },
    {
     "name": "stdout",
     "output_type": "stream",
     "text": [
      "\n"
     ]
    },
    {
     "data": {
      "text/plain": [
       "'df_2'"
      ]
     },
     "metadata": {},
     "output_type": "display_data"
    },
    {
     "data": {
      "text/html": [
       "<div>\n",
       "<style scoped>\n",
       "    .dataframe tbody tr th:only-of-type {\n",
       "        vertical-align: middle;\n",
       "    }\n",
       "\n",
       "    .dataframe tbody tr th {\n",
       "        vertical-align: top;\n",
       "    }\n",
       "\n",
       "    .dataframe thead th {\n",
       "        text-align: right;\n",
       "    }\n",
       "</style>\n",
       "<table border=\"1\" class=\"dataframe\">\n",
       "  <thead>\n",
       "    <tr style=\"text-align: right;\">\n",
       "      <th></th>\n",
       "      <th>id</th>\n",
       "      <th>f0</th>\n",
       "      <th>f1</th>\n",
       "      <th>f2</th>\n",
       "      <th>product</th>\n",
       "    </tr>\n",
       "  </thead>\n",
       "  <tbody>\n",
       "    <tr>\n",
       "      <th>0</th>\n",
       "      <td>kBEdx</td>\n",
       "      <td>-15.001348</td>\n",
       "      <td>-8.276000</td>\n",
       "      <td>-0.005876</td>\n",
       "      <td>3.179103</td>\n",
       "    </tr>\n",
       "    <tr>\n",
       "      <th>1</th>\n",
       "      <td>62mP7</td>\n",
       "      <td>14.272088</td>\n",
       "      <td>-3.475083</td>\n",
       "      <td>0.999183</td>\n",
       "      <td>26.953261</td>\n",
       "    </tr>\n",
       "    <tr>\n",
       "      <th>2</th>\n",
       "      <td>vyE1P</td>\n",
       "      <td>6.263187</td>\n",
       "      <td>-5.948386</td>\n",
       "      <td>5.001160</td>\n",
       "      <td>134.766305</td>\n",
       "    </tr>\n",
       "    <tr>\n",
       "      <th>3</th>\n",
       "      <td>KcrkZ</td>\n",
       "      <td>-13.081196</td>\n",
       "      <td>-11.506057</td>\n",
       "      <td>4.999415</td>\n",
       "      <td>137.945408</td>\n",
       "    </tr>\n",
       "    <tr>\n",
       "      <th>4</th>\n",
       "      <td>AHL4O</td>\n",
       "      <td>12.702195</td>\n",
       "      <td>-8.147433</td>\n",
       "      <td>5.004363</td>\n",
       "      <td>134.766305</td>\n",
       "    </tr>\n",
       "  </tbody>\n",
       "</table>\n",
       "</div>"
      ],
      "text/plain": [
       "      id         f0         f1        f2     product\n",
       "0  kBEdx -15.001348  -8.276000 -0.005876    3.179103\n",
       "1  62mP7  14.272088  -3.475083  0.999183   26.953261\n",
       "2  vyE1P   6.263187  -5.948386  5.001160  134.766305\n",
       "3  KcrkZ -13.081196 -11.506057  4.999415  137.945408\n",
       "4  AHL4O  12.702195  -8.147433  5.004363  134.766305"
      ]
     },
     "metadata": {},
     "output_type": "display_data"
    },
    {
     "data": {
      "text/html": [
       "<div>\n",
       "<style scoped>\n",
       "    .dataframe tbody tr th:only-of-type {\n",
       "        vertical-align: middle;\n",
       "    }\n",
       "\n",
       "    .dataframe tbody tr th {\n",
       "        vertical-align: top;\n",
       "    }\n",
       "\n",
       "    .dataframe thead th {\n",
       "        text-align: right;\n",
       "    }\n",
       "</style>\n",
       "<table border=\"1\" class=\"dataframe\">\n",
       "  <thead>\n",
       "    <tr style=\"text-align: right;\">\n",
       "      <th></th>\n",
       "      <th>id</th>\n",
       "      <th>f0</th>\n",
       "      <th>f1</th>\n",
       "      <th>f2</th>\n",
       "      <th>product</th>\n",
       "    </tr>\n",
       "  </thead>\n",
       "  <tbody>\n",
       "    <tr>\n",
       "      <th>99995</th>\n",
       "      <td>QywKC</td>\n",
       "      <td>9.535637</td>\n",
       "      <td>-6.878139</td>\n",
       "      <td>1.998296</td>\n",
       "      <td>53.906522</td>\n",
       "    </tr>\n",
       "    <tr>\n",
       "      <th>99996</th>\n",
       "      <td>ptvty</td>\n",
       "      <td>-10.160631</td>\n",
       "      <td>-12.558096</td>\n",
       "      <td>5.005581</td>\n",
       "      <td>137.945408</td>\n",
       "    </tr>\n",
       "    <tr>\n",
       "      <th>99997</th>\n",
       "      <td>09gWa</td>\n",
       "      <td>-7.378891</td>\n",
       "      <td>-3.084104</td>\n",
       "      <td>4.998651</td>\n",
       "      <td>137.945408</td>\n",
       "    </tr>\n",
       "    <tr>\n",
       "      <th>99998</th>\n",
       "      <td>rqwUm</td>\n",
       "      <td>0.665714</td>\n",
       "      <td>-6.152593</td>\n",
       "      <td>1.000146</td>\n",
       "      <td>30.132364</td>\n",
       "    </tr>\n",
       "    <tr>\n",
       "      <th>99999</th>\n",
       "      <td>relB0</td>\n",
       "      <td>-3.426139</td>\n",
       "      <td>-7.794274</td>\n",
       "      <td>-0.003299</td>\n",
       "      <td>3.179103</td>\n",
       "    </tr>\n",
       "  </tbody>\n",
       "</table>\n",
       "</div>"
      ],
      "text/plain": [
       "          id         f0         f1        f2     product\n",
       "99995  QywKC   9.535637  -6.878139  1.998296   53.906522\n",
       "99996  ptvty -10.160631 -12.558096  5.005581  137.945408\n",
       "99997  09gWa  -7.378891  -3.084104  4.998651  137.945408\n",
       "99998  rqwUm   0.665714  -6.152593  1.000146   30.132364\n",
       "99999  relB0  -3.426139  -7.794274 -0.003299    3.179103"
      ]
     },
     "metadata": {},
     "output_type": "display_data"
    },
    {
     "name": "stdout",
     "output_type": "stream",
     "text": [
      "\n"
     ]
    },
    {
     "data": {
      "text/plain": [
       "'df_3'"
      ]
     },
     "metadata": {},
     "output_type": "display_data"
    },
    {
     "data": {
      "text/html": [
       "<div>\n",
       "<style scoped>\n",
       "    .dataframe tbody tr th:only-of-type {\n",
       "        vertical-align: middle;\n",
       "    }\n",
       "\n",
       "    .dataframe tbody tr th {\n",
       "        vertical-align: top;\n",
       "    }\n",
       "\n",
       "    .dataframe thead th {\n",
       "        text-align: right;\n",
       "    }\n",
       "</style>\n",
       "<table border=\"1\" class=\"dataframe\">\n",
       "  <thead>\n",
       "    <tr style=\"text-align: right;\">\n",
       "      <th></th>\n",
       "      <th>id</th>\n",
       "      <th>f0</th>\n",
       "      <th>f1</th>\n",
       "      <th>f2</th>\n",
       "      <th>product</th>\n",
       "    </tr>\n",
       "  </thead>\n",
       "  <tbody>\n",
       "    <tr>\n",
       "      <th>0</th>\n",
       "      <td>fwXo0</td>\n",
       "      <td>-1.146987</td>\n",
       "      <td>0.963328</td>\n",
       "      <td>-0.828965</td>\n",
       "      <td>27.758673</td>\n",
       "    </tr>\n",
       "    <tr>\n",
       "      <th>1</th>\n",
       "      <td>WJtFt</td>\n",
       "      <td>0.262778</td>\n",
       "      <td>0.269839</td>\n",
       "      <td>-2.530187</td>\n",
       "      <td>56.069697</td>\n",
       "    </tr>\n",
       "    <tr>\n",
       "      <th>2</th>\n",
       "      <td>ovLUW</td>\n",
       "      <td>0.194587</td>\n",
       "      <td>0.289035</td>\n",
       "      <td>-5.586433</td>\n",
       "      <td>62.871910</td>\n",
       "    </tr>\n",
       "    <tr>\n",
       "      <th>3</th>\n",
       "      <td>q6cA6</td>\n",
       "      <td>2.236060</td>\n",
       "      <td>-0.553760</td>\n",
       "      <td>0.930038</td>\n",
       "      <td>114.572842</td>\n",
       "    </tr>\n",
       "    <tr>\n",
       "      <th>4</th>\n",
       "      <td>WPMUX</td>\n",
       "      <td>-0.515993</td>\n",
       "      <td>1.716266</td>\n",
       "      <td>5.899011</td>\n",
       "      <td>149.600746</td>\n",
       "    </tr>\n",
       "  </tbody>\n",
       "</table>\n",
       "</div>"
      ],
      "text/plain": [
       "      id        f0        f1        f2     product\n",
       "0  fwXo0 -1.146987  0.963328 -0.828965   27.758673\n",
       "1  WJtFt  0.262778  0.269839 -2.530187   56.069697\n",
       "2  ovLUW  0.194587  0.289035 -5.586433   62.871910\n",
       "3  q6cA6  2.236060 -0.553760  0.930038  114.572842\n",
       "4  WPMUX -0.515993  1.716266  5.899011  149.600746"
      ]
     },
     "metadata": {},
     "output_type": "display_data"
    },
    {
     "data": {
      "text/html": [
       "<div>\n",
       "<style scoped>\n",
       "    .dataframe tbody tr th:only-of-type {\n",
       "        vertical-align: middle;\n",
       "    }\n",
       "\n",
       "    .dataframe tbody tr th {\n",
       "        vertical-align: top;\n",
       "    }\n",
       "\n",
       "    .dataframe thead th {\n",
       "        text-align: right;\n",
       "    }\n",
       "</style>\n",
       "<table border=\"1\" class=\"dataframe\">\n",
       "  <thead>\n",
       "    <tr style=\"text-align: right;\">\n",
       "      <th></th>\n",
       "      <th>id</th>\n",
       "      <th>f0</th>\n",
       "      <th>f1</th>\n",
       "      <th>f2</th>\n",
       "      <th>product</th>\n",
       "    </tr>\n",
       "  </thead>\n",
       "  <tbody>\n",
       "    <tr>\n",
       "      <th>99995</th>\n",
       "      <td>4GxBu</td>\n",
       "      <td>-1.777037</td>\n",
       "      <td>1.125220</td>\n",
       "      <td>6.263374</td>\n",
       "      <td>172.327046</td>\n",
       "    </tr>\n",
       "    <tr>\n",
       "      <th>99996</th>\n",
       "      <td>YKFjq</td>\n",
       "      <td>-1.261523</td>\n",
       "      <td>-0.894828</td>\n",
       "      <td>2.524545</td>\n",
       "      <td>138.748846</td>\n",
       "    </tr>\n",
       "    <tr>\n",
       "      <th>99997</th>\n",
       "      <td>tKPY3</td>\n",
       "      <td>-1.199934</td>\n",
       "      <td>-2.957637</td>\n",
       "      <td>5.219411</td>\n",
       "      <td>157.080080</td>\n",
       "    </tr>\n",
       "    <tr>\n",
       "      <th>99998</th>\n",
       "      <td>nmxp2</td>\n",
       "      <td>-2.419896</td>\n",
       "      <td>2.417221</td>\n",
       "      <td>-5.548444</td>\n",
       "      <td>51.795253</td>\n",
       "    </tr>\n",
       "    <tr>\n",
       "      <th>99999</th>\n",
       "      <td>V9kWn</td>\n",
       "      <td>-2.551421</td>\n",
       "      <td>-2.025625</td>\n",
       "      <td>6.090891</td>\n",
       "      <td>102.775767</td>\n",
       "    </tr>\n",
       "  </tbody>\n",
       "</table>\n",
       "</div>"
      ],
      "text/plain": [
       "          id        f0        f1        f2     product\n",
       "99995  4GxBu -1.777037  1.125220  6.263374  172.327046\n",
       "99996  YKFjq -1.261523 -0.894828  2.524545  138.748846\n",
       "99997  tKPY3 -1.199934 -2.957637  5.219411  157.080080\n",
       "99998  nmxp2 -2.419896  2.417221 -5.548444   51.795253\n",
       "99999  V9kWn -2.551421 -2.025625  6.090891  102.775767"
      ]
     },
     "metadata": {},
     "output_type": "display_data"
    },
    {
     "data": {
      "text/plain": [
       "[[None, None], [None, None], [None, None]]"
      ]
     },
     "execution_count": 9,
     "metadata": {},
     "output_type": "execute_result"
    }
   ],
   "source": [
    "# Выводим первые и последние 5 строк каждой таблицы данных\n",
    "list(map(lambda x: [print(), display(x, dct_df[x].head(),dct_df[x].tail())], dct_df))"
   ]
  },
  {
   "cell_type": "code",
   "execution_count": 10,
   "metadata": {},
   "outputs": [
    {
     "name": "stdout",
     "output_type": "stream",
     "text": [
      "<class 'pandas.core.frame.DataFrame'>\n",
      "RangeIndex: 100000 entries, 0 to 99999\n",
      "Data columns (total 5 columns):\n",
      " #   Column   Non-Null Count   Dtype  \n",
      "---  ------   --------------   -----  \n",
      " 0   id       100000 non-null  object \n",
      " 1   f0       100000 non-null  float64\n",
      " 2   f1       100000 non-null  float64\n",
      " 3   f2       100000 non-null  float64\n",
      " 4   product  100000 non-null  float64\n",
      "dtypes: float64(4), object(1)\n",
      "memory usage: 3.8+ MB\n"
     ]
    },
    {
     "data": {
      "text/plain": [
       "'df_1'"
      ]
     },
     "metadata": {},
     "output_type": "display_data"
    },
    {
     "data": {
      "text/plain": [
       "None"
      ]
     },
     "metadata": {},
     "output_type": "display_data"
    },
    {
     "name": "stdout",
     "output_type": "stream",
     "text": [
      "\n",
      "\n",
      "<class 'pandas.core.frame.DataFrame'>\n",
      "RangeIndex: 100000 entries, 0 to 99999\n",
      "Data columns (total 5 columns):\n",
      " #   Column   Non-Null Count   Dtype  \n",
      "---  ------   --------------   -----  \n",
      " 0   id       100000 non-null  object \n",
      " 1   f0       100000 non-null  float64\n",
      " 2   f1       100000 non-null  float64\n",
      " 3   f2       100000 non-null  float64\n",
      " 4   product  100000 non-null  float64\n",
      "dtypes: float64(4), object(1)\n",
      "memory usage: 3.8+ MB\n"
     ]
    },
    {
     "data": {
      "text/plain": [
       "'df_2'"
      ]
     },
     "metadata": {},
     "output_type": "display_data"
    },
    {
     "data": {
      "text/plain": [
       "None"
      ]
     },
     "metadata": {},
     "output_type": "display_data"
    },
    {
     "name": "stdout",
     "output_type": "stream",
     "text": [
      "\n",
      "\n",
      "<class 'pandas.core.frame.DataFrame'>\n",
      "RangeIndex: 100000 entries, 0 to 99999\n",
      "Data columns (total 5 columns):\n",
      " #   Column   Non-Null Count   Dtype  \n",
      "---  ------   --------------   -----  \n",
      " 0   id       100000 non-null  object \n",
      " 1   f0       100000 non-null  float64\n",
      " 2   f1       100000 non-null  float64\n",
      " 3   f2       100000 non-null  float64\n",
      " 4   product  100000 non-null  float64\n",
      "dtypes: float64(4), object(1)\n",
      "memory usage: 3.8+ MB\n"
     ]
    },
    {
     "data": {
      "text/plain": [
       "'df_3'"
      ]
     },
     "metadata": {},
     "output_type": "display_data"
    },
    {
     "data": {
      "text/plain": [
       "None"
      ]
     },
     "metadata": {},
     "output_type": "display_data"
    },
    {
     "name": "stdout",
     "output_type": "stream",
     "text": [
      "\n",
      "\n"
     ]
    },
    {
     "data": {
      "text/plain": [
       "[[None, None], [None, None], [None, None]]"
      ]
     },
     "execution_count": 10,
     "metadata": {},
     "output_type": "execute_result"
    }
   ],
   "source": [
    "# Смотрим общую информацию о данных\n",
    "list(map(lambda x: [display(x, dct_df[x].info()), print('\\n')], dct_df))"
   ]
  },
  {
   "cell_type": "code",
   "execution_count": 11,
   "metadata": {},
   "outputs": [
    {
     "name": "stdout",
     "output_type": "stream",
     "text": [
      " Явных дубликатов в таблице df_1: 0\n",
      " Явных дубликатов в таблице df_2: 0\n",
      " Явных дубликатов в таблице df_3: 0\n"
     ]
    },
    {
     "data": {
      "text/plain": [
       "[None, None, None]"
      ]
     },
     "execution_count": 11,
     "metadata": {},
     "output_type": "execute_result"
    }
   ],
   "source": [
    "# Проверка на явные дубликаты\n",
    "list(map(lambda x: print(f' Явных дубликатов в таблице {x}: {dct_df[x].duplicated().sum()}'), dct_df))"
   ]
  },
  {
   "cell_type": "code",
   "execution_count": 12,
   "metadata": {},
   "outputs": [
    {
     "name": "stdout",
     "output_type": "stream",
     "text": [
      " Неявных дубликатов в таблице df_1: 10\n",
      " Неявных дубликатов в таблице df_2: 4\n",
      " Неявных дубликатов в таблице df_3: 4\n"
     ]
    },
    {
     "data": {
      "text/plain": [
       "[None, None, None]"
      ]
     },
     "execution_count": 12,
     "metadata": {},
     "output_type": "execute_result"
    }
   ],
   "source": [
    "# Проверка на неявные дубликаты\n",
    "list(map(lambda x: print(f' Неявных дубликатов в таблице {x}: {dct_df[x][\"id\"].duplicated().sum()}'), dct_df))"
   ]
  },
  {
   "cell_type": "code",
   "execution_count": 13,
   "metadata": {},
   "outputs": [
    {
     "data": {
      "text/html": [
       "<div>\n",
       "<style scoped>\n",
       "    .dataframe tbody tr th:only-of-type {\n",
       "        vertical-align: middle;\n",
       "    }\n",
       "\n",
       "    .dataframe tbody tr th {\n",
       "        vertical-align: top;\n",
       "    }\n",
       "\n",
       "    .dataframe thead th {\n",
       "        text-align: right;\n",
       "    }\n",
       "</style>\n",
       "<table border=\"1\" class=\"dataframe\">\n",
       "  <thead>\n",
       "    <tr style=\"text-align: right;\">\n",
       "      <th></th>\n",
       "      <th>7530</th>\n",
       "      <th>41724</th>\n",
       "      <th>51970</th>\n",
       "      <th>63593</th>\n",
       "      <th>66136</th>\n",
       "      <th>69163</th>\n",
       "      <th>75715</th>\n",
       "      <th>90815</th>\n",
       "      <th>92341</th>\n",
       "      <th>97785</th>\n",
       "      <th>41906</th>\n",
       "      <th>82178</th>\n",
       "      <th>82873</th>\n",
       "      <th>84461</th>\n",
       "      <th>43233</th>\n",
       "      <th>49564</th>\n",
       "      <th>55967</th>\n",
       "      <th>95090</th>\n",
       "    </tr>\n",
       "  </thead>\n",
       "  <tbody>\n",
       "    <tr>\n",
       "      <th>0</th>\n",
       "      <td>HZww2</td>\n",
       "      <td>bxg6G</td>\n",
       "      <td>A5aEY</td>\n",
       "      <td>QcMuo</td>\n",
       "      <td>74z30</td>\n",
       "      <td>AGS9W</td>\n",
       "      <td>Tdehs</td>\n",
       "      <td>fiKDv</td>\n",
       "      <td>TtcGQ</td>\n",
       "      <td>bsk9y</td>\n",
       "      <td>LHZR0</td>\n",
       "      <td>bfPNe</td>\n",
       "      <td>wt4Uk</td>\n",
       "      <td>5ltQ6</td>\n",
       "      <td>xCHr8</td>\n",
       "      <td>VF7Jo</td>\n",
       "      <td>KUPhW</td>\n",
       "      <td>Vcm5J</td>\n",
       "    </tr>\n",
       "  </tbody>\n",
       "</table>\n",
       "</div>"
      ],
      "text/plain": [
       "   7530   41724  51970  63593  66136  69163  75715  90815  92341  97785  \\\n",
       "0  HZww2  bxg6G  A5aEY  QcMuo  74z30  AGS9W  Tdehs  fiKDv  TtcGQ  bsk9y   \n",
       "\n",
       "   41906  82178  82873  84461  43233  49564  55967  95090  \n",
       "0  LHZR0  bfPNe  wt4Uk  5ltQ6  xCHr8  VF7Jo  KUPhW  Vcm5J  "
      ]
     },
     "execution_count": 13,
     "metadata": {},
     "output_type": "execute_result"
    }
   ],
   "source": [
    "# Список неявных дубликатов по id\n",
    "id_double = pd.DataFrame() # создаем пустую таблицу для переченя повторяющихся id\n",
    "for x in dct_df:\n",
    "    id_double = pd.DataFrame(pd.concat([id_double, dct_df[x][\"id\"][dct_df[x][\"id\"].duplicated()]]))\n",
    "#list(map(lambda x: id_double.append(dct_df[x][\"id\"][dct_df[x][\"id\"].duplicated()]), dct_df))\n",
    "\n",
    "id_double.T #транспонированный столбец с id дубликатов"
   ]
  },
  {
   "cell_type": "code",
   "execution_count": 14,
   "metadata": {},
   "outputs": [
    {
     "data": {
      "text/plain": [
       "'df_1'"
      ]
     },
     "metadata": {},
     "output_type": "display_data"
    },
    {
     "data": {
      "text/html": [
       "<div>\n",
       "<style scoped>\n",
       "    .dataframe tbody tr th:only-of-type {\n",
       "        vertical-align: middle;\n",
       "    }\n",
       "\n",
       "    .dataframe tbody tr th {\n",
       "        vertical-align: top;\n",
       "    }\n",
       "\n",
       "    .dataframe thead th {\n",
       "        text-align: right;\n",
       "    }\n",
       "</style>\n",
       "<table border=\"1\" class=\"dataframe\">\n",
       "  <thead>\n",
       "    <tr style=\"text-align: right;\">\n",
       "      <th></th>\n",
       "      <th>id</th>\n",
       "      <th>f0</th>\n",
       "      <th>f1</th>\n",
       "      <th>f2</th>\n",
       "      <th>product</th>\n",
       "    </tr>\n",
       "  </thead>\n",
       "  <tbody>\n",
       "    <tr>\n",
       "      <th>931</th>\n",
       "      <td>HZww2</td>\n",
       "      <td>0.755284</td>\n",
       "      <td>0.368511</td>\n",
       "      <td>1.863211</td>\n",
       "      <td>30.681774</td>\n",
       "    </tr>\n",
       "    <tr>\n",
       "      <th>7530</th>\n",
       "      <td>HZww2</td>\n",
       "      <td>1.061194</td>\n",
       "      <td>-0.373969</td>\n",
       "      <td>10.430210</td>\n",
       "      <td>158.828695</td>\n",
       "    </tr>\n",
       "  </tbody>\n",
       "</table>\n",
       "</div>"
      ],
      "text/plain": [
       "         id        f0        f1         f2     product\n",
       "931   HZww2  0.755284  0.368511   1.863211   30.681774\n",
       "7530  HZww2  1.061194 -0.373969  10.430210  158.828695"
      ]
     },
     "metadata": {},
     "output_type": "display_data"
    },
    {
     "data": {
      "text/plain": [
       "'df_1'"
      ]
     },
     "metadata": {},
     "output_type": "display_data"
    },
    {
     "data": {
      "text/html": [
       "<div>\n",
       "<style scoped>\n",
       "    .dataframe tbody tr th:only-of-type {\n",
       "        vertical-align: middle;\n",
       "    }\n",
       "\n",
       "    .dataframe tbody tr th {\n",
       "        vertical-align: top;\n",
       "    }\n",
       "\n",
       "    .dataframe thead th {\n",
       "        text-align: right;\n",
       "    }\n",
       "</style>\n",
       "<table border=\"1\" class=\"dataframe\">\n",
       "  <thead>\n",
       "    <tr style=\"text-align: right;\">\n",
       "      <th></th>\n",
       "      <th>id</th>\n",
       "      <th>f0</th>\n",
       "      <th>f1</th>\n",
       "      <th>f2</th>\n",
       "      <th>product</th>\n",
       "    </tr>\n",
       "  </thead>\n",
       "  <tbody>\n",
       "    <tr>\n",
       "      <th>1364</th>\n",
       "      <td>bxg6G</td>\n",
       "      <td>0.411645</td>\n",
       "      <td>0.856830</td>\n",
       "      <td>-3.653440</td>\n",
       "      <td>73.604260</td>\n",
       "    </tr>\n",
       "    <tr>\n",
       "      <th>41724</th>\n",
       "      <td>bxg6G</td>\n",
       "      <td>-0.823752</td>\n",
       "      <td>0.546319</td>\n",
       "      <td>3.630479</td>\n",
       "      <td>93.007798</td>\n",
       "    </tr>\n",
       "  </tbody>\n",
       "</table>\n",
       "</div>"
      ],
      "text/plain": [
       "          id        f0        f1        f2    product\n",
       "1364   bxg6G  0.411645  0.856830 -3.653440  73.604260\n",
       "41724  bxg6G -0.823752  0.546319  3.630479  93.007798"
      ]
     },
     "metadata": {},
     "output_type": "display_data"
    },
    {
     "data": {
      "text/plain": [
       "'df_1'"
      ]
     },
     "metadata": {},
     "output_type": "display_data"
    },
    {
     "data": {
      "text/html": [
       "<div>\n",
       "<style scoped>\n",
       "    .dataframe tbody tr th:only-of-type {\n",
       "        vertical-align: middle;\n",
       "    }\n",
       "\n",
       "    .dataframe tbody tr th {\n",
       "        vertical-align: top;\n",
       "    }\n",
       "\n",
       "    .dataframe thead th {\n",
       "        text-align: right;\n",
       "    }\n",
       "</style>\n",
       "<table border=\"1\" class=\"dataframe\">\n",
       "  <thead>\n",
       "    <tr style=\"text-align: right;\">\n",
       "      <th></th>\n",
       "      <th>id</th>\n",
       "      <th>f0</th>\n",
       "      <th>f1</th>\n",
       "      <th>f2</th>\n",
       "      <th>product</th>\n",
       "    </tr>\n",
       "  </thead>\n",
       "  <tbody>\n",
       "    <tr>\n",
       "      <th>3389</th>\n",
       "      <td>A5aEY</td>\n",
       "      <td>-0.039949</td>\n",
       "      <td>0.156872</td>\n",
       "      <td>0.209861</td>\n",
       "      <td>89.249364</td>\n",
       "    </tr>\n",
       "    <tr>\n",
       "      <th>51970</th>\n",
       "      <td>A5aEY</td>\n",
       "      <td>-0.180335</td>\n",
       "      <td>0.935548</td>\n",
       "      <td>-2.094773</td>\n",
       "      <td>33.020205</td>\n",
       "    </tr>\n",
       "  </tbody>\n",
       "</table>\n",
       "</div>"
      ],
      "text/plain": [
       "          id        f0        f1        f2    product\n",
       "3389   A5aEY -0.039949  0.156872  0.209861  89.249364\n",
       "51970  A5aEY -0.180335  0.935548 -2.094773  33.020205"
      ]
     },
     "metadata": {},
     "output_type": "display_data"
    },
    {
     "data": {
      "text/plain": [
       "'df_1'"
      ]
     },
     "metadata": {},
     "output_type": "display_data"
    },
    {
     "data": {
      "text/html": [
       "<div>\n",
       "<style scoped>\n",
       "    .dataframe tbody tr th:only-of-type {\n",
       "        vertical-align: middle;\n",
       "    }\n",
       "\n",
       "    .dataframe tbody tr th {\n",
       "        vertical-align: top;\n",
       "    }\n",
       "\n",
       "    .dataframe thead th {\n",
       "        text-align: right;\n",
       "    }\n",
       "</style>\n",
       "<table border=\"1\" class=\"dataframe\">\n",
       "  <thead>\n",
       "    <tr style=\"text-align: right;\">\n",
       "      <th></th>\n",
       "      <th>id</th>\n",
       "      <th>f0</th>\n",
       "      <th>f1</th>\n",
       "      <th>f2</th>\n",
       "      <th>product</th>\n",
       "    </tr>\n",
       "  </thead>\n",
       "  <tbody>\n",
       "    <tr>\n",
       "      <th>1949</th>\n",
       "      <td>QcMuo</td>\n",
       "      <td>0.506563</td>\n",
       "      <td>-0.323775</td>\n",
       "      <td>-2.215583</td>\n",
       "      <td>75.496502</td>\n",
       "    </tr>\n",
       "    <tr>\n",
       "      <th>63593</th>\n",
       "      <td>QcMuo</td>\n",
       "      <td>0.635635</td>\n",
       "      <td>-0.473422</td>\n",
       "      <td>0.862670</td>\n",
       "      <td>64.578675</td>\n",
       "    </tr>\n",
       "  </tbody>\n",
       "</table>\n",
       "</div>"
      ],
      "text/plain": [
       "          id        f0        f1        f2    product\n",
       "1949   QcMuo  0.506563 -0.323775 -2.215583  75.496502\n",
       "63593  QcMuo  0.635635 -0.473422  0.862670  64.578675"
      ]
     },
     "metadata": {},
     "output_type": "display_data"
    },
    {
     "data": {
      "text/plain": [
       "'df_1'"
      ]
     },
     "metadata": {},
     "output_type": "display_data"
    },
    {
     "data": {
      "text/html": [
       "<div>\n",
       "<style scoped>\n",
       "    .dataframe tbody tr th:only-of-type {\n",
       "        vertical-align: middle;\n",
       "    }\n",
       "\n",
       "    .dataframe tbody tr th {\n",
       "        vertical-align: top;\n",
       "    }\n",
       "\n",
       "    .dataframe thead th {\n",
       "        text-align: right;\n",
       "    }\n",
       "</style>\n",
       "<table border=\"1\" class=\"dataframe\">\n",
       "  <thead>\n",
       "    <tr style=\"text-align: right;\">\n",
       "      <th></th>\n",
       "      <th>id</th>\n",
       "      <th>f0</th>\n",
       "      <th>f1</th>\n",
       "      <th>f2</th>\n",
       "      <th>product</th>\n",
       "    </tr>\n",
       "  </thead>\n",
       "  <tbody>\n",
       "    <tr>\n",
       "      <th>64022</th>\n",
       "      <td>74z30</td>\n",
       "      <td>0.741456</td>\n",
       "      <td>0.459229</td>\n",
       "      <td>5.153109</td>\n",
       "      <td>140.771492</td>\n",
       "    </tr>\n",
       "    <tr>\n",
       "      <th>66136</th>\n",
       "      <td>74z30</td>\n",
       "      <td>1.084962</td>\n",
       "      <td>-0.312358</td>\n",
       "      <td>6.990771</td>\n",
       "      <td>127.643327</td>\n",
       "    </tr>\n",
       "  </tbody>\n",
       "</table>\n",
       "</div>"
      ],
      "text/plain": [
       "          id        f0        f1        f2     product\n",
       "64022  74z30  0.741456  0.459229  5.153109  140.771492\n",
       "66136  74z30  1.084962 -0.312358  6.990771  127.643327"
      ]
     },
     "metadata": {},
     "output_type": "display_data"
    },
    {
     "data": {
      "text/plain": [
       "'df_1'"
      ]
     },
     "metadata": {},
     "output_type": "display_data"
    },
    {
     "data": {
      "text/html": [
       "<div>\n",
       "<style scoped>\n",
       "    .dataframe tbody tr th:only-of-type {\n",
       "        vertical-align: middle;\n",
       "    }\n",
       "\n",
       "    .dataframe tbody tr th {\n",
       "        vertical-align: top;\n",
       "    }\n",
       "\n",
       "    .dataframe thead th {\n",
       "        text-align: right;\n",
       "    }\n",
       "</style>\n",
       "<table border=\"1\" class=\"dataframe\">\n",
       "  <thead>\n",
       "    <tr style=\"text-align: right;\">\n",
       "      <th></th>\n",
       "      <th>id</th>\n",
       "      <th>f0</th>\n",
       "      <th>f1</th>\n",
       "      <th>f2</th>\n",
       "      <th>product</th>\n",
       "    </tr>\n",
       "  </thead>\n",
       "  <tbody>\n",
       "    <tr>\n",
       "      <th>42529</th>\n",
       "      <td>AGS9W</td>\n",
       "      <td>1.454747</td>\n",
       "      <td>-0.479651</td>\n",
       "      <td>0.683380</td>\n",
       "      <td>126.370504</td>\n",
       "    </tr>\n",
       "    <tr>\n",
       "      <th>69163</th>\n",
       "      <td>AGS9W</td>\n",
       "      <td>-0.933795</td>\n",
       "      <td>0.116194</td>\n",
       "      <td>-3.655896</td>\n",
       "      <td>19.230453</td>\n",
       "    </tr>\n",
       "  </tbody>\n",
       "</table>\n",
       "</div>"
      ],
      "text/plain": [
       "          id        f0        f1        f2     product\n",
       "42529  AGS9W  1.454747 -0.479651  0.683380  126.370504\n",
       "69163  AGS9W -0.933795  0.116194 -3.655896   19.230453"
      ]
     },
     "metadata": {},
     "output_type": "display_data"
    },
    {
     "data": {
      "text/plain": [
       "'df_1'"
      ]
     },
     "metadata": {},
     "output_type": "display_data"
    },
    {
     "data": {
      "text/html": [
       "<div>\n",
       "<style scoped>\n",
       "    .dataframe tbody tr th:only-of-type {\n",
       "        vertical-align: middle;\n",
       "    }\n",
       "\n",
       "    .dataframe tbody tr th {\n",
       "        vertical-align: top;\n",
       "    }\n",
       "\n",
       "    .dataframe thead th {\n",
       "        text-align: right;\n",
       "    }\n",
       "</style>\n",
       "<table border=\"1\" class=\"dataframe\">\n",
       "  <thead>\n",
       "    <tr style=\"text-align: right;\">\n",
       "      <th></th>\n",
       "      <th>id</th>\n",
       "      <th>f0</th>\n",
       "      <th>f1</th>\n",
       "      <th>f2</th>\n",
       "      <th>product</th>\n",
       "    </tr>\n",
       "  </thead>\n",
       "  <tbody>\n",
       "    <tr>\n",
       "      <th>21426</th>\n",
       "      <td>Tdehs</td>\n",
       "      <td>0.829407</td>\n",
       "      <td>0.298807</td>\n",
       "      <td>-0.049563</td>\n",
       "      <td>96.035308</td>\n",
       "    </tr>\n",
       "    <tr>\n",
       "      <th>75715</th>\n",
       "      <td>Tdehs</td>\n",
       "      <td>0.112079</td>\n",
       "      <td>0.430296</td>\n",
       "      <td>3.218993</td>\n",
       "      <td>60.964018</td>\n",
       "    </tr>\n",
       "  </tbody>\n",
       "</table>\n",
       "</div>"
      ],
      "text/plain": [
       "          id        f0        f1        f2    product\n",
       "21426  Tdehs  0.829407  0.298807 -0.049563  96.035308\n",
       "75715  Tdehs  0.112079  0.430296  3.218993  60.964018"
      ]
     },
     "metadata": {},
     "output_type": "display_data"
    },
    {
     "data": {
      "text/plain": [
       "'df_1'"
      ]
     },
     "metadata": {},
     "output_type": "display_data"
    },
    {
     "data": {
      "text/html": [
       "<div>\n",
       "<style scoped>\n",
       "    .dataframe tbody tr th:only-of-type {\n",
       "        vertical-align: middle;\n",
       "    }\n",
       "\n",
       "    .dataframe tbody tr th {\n",
       "        vertical-align: top;\n",
       "    }\n",
       "\n",
       "    .dataframe thead th {\n",
       "        text-align: right;\n",
       "    }\n",
       "</style>\n",
       "<table border=\"1\" class=\"dataframe\">\n",
       "  <thead>\n",
       "    <tr style=\"text-align: right;\">\n",
       "      <th></th>\n",
       "      <th>id</th>\n",
       "      <th>f0</th>\n",
       "      <th>f1</th>\n",
       "      <th>f2</th>\n",
       "      <th>product</th>\n",
       "    </tr>\n",
       "  </thead>\n",
       "  <tbody>\n",
       "    <tr>\n",
       "      <th>16633</th>\n",
       "      <td>fiKDv</td>\n",
       "      <td>0.157341</td>\n",
       "      <td>1.028359</td>\n",
       "      <td>5.585586</td>\n",
       "      <td>95.817889</td>\n",
       "    </tr>\n",
       "    <tr>\n",
       "      <th>90815</th>\n",
       "      <td>fiKDv</td>\n",
       "      <td>0.049883</td>\n",
       "      <td>0.841313</td>\n",
       "      <td>6.394613</td>\n",
       "      <td>137.346586</td>\n",
       "    </tr>\n",
       "  </tbody>\n",
       "</table>\n",
       "</div>"
      ],
      "text/plain": [
       "          id        f0        f1        f2     product\n",
       "16633  fiKDv  0.157341  1.028359  5.585586   95.817889\n",
       "90815  fiKDv  0.049883  0.841313  6.394613  137.346586"
      ]
     },
     "metadata": {},
     "output_type": "display_data"
    },
    {
     "data": {
      "text/plain": [
       "'df_1'"
      ]
     },
     "metadata": {},
     "output_type": "display_data"
    },
    {
     "data": {
      "text/html": [
       "<div>\n",
       "<style scoped>\n",
       "    .dataframe tbody tr th:only-of-type {\n",
       "        vertical-align: middle;\n",
       "    }\n",
       "\n",
       "    .dataframe tbody tr th {\n",
       "        vertical-align: top;\n",
       "    }\n",
       "\n",
       "    .dataframe thead th {\n",
       "        text-align: right;\n",
       "    }\n",
       "</style>\n",
       "<table border=\"1\" class=\"dataframe\">\n",
       "  <thead>\n",
       "    <tr style=\"text-align: right;\">\n",
       "      <th></th>\n",
       "      <th>id</th>\n",
       "      <th>f0</th>\n",
       "      <th>f1</th>\n",
       "      <th>f2</th>\n",
       "      <th>product</th>\n",
       "    </tr>\n",
       "  </thead>\n",
       "  <tbody>\n",
       "    <tr>\n",
       "      <th>60140</th>\n",
       "      <td>TtcGQ</td>\n",
       "      <td>0.569276</td>\n",
       "      <td>-0.104876</td>\n",
       "      <td>6.440215</td>\n",
       "      <td>85.350186</td>\n",
       "    </tr>\n",
       "    <tr>\n",
       "      <th>92341</th>\n",
       "      <td>TtcGQ</td>\n",
       "      <td>0.110711</td>\n",
       "      <td>1.022689</td>\n",
       "      <td>0.911381</td>\n",
       "      <td>101.318008</td>\n",
       "    </tr>\n",
       "  </tbody>\n",
       "</table>\n",
       "</div>"
      ],
      "text/plain": [
       "          id        f0        f1        f2     product\n",
       "60140  TtcGQ  0.569276 -0.104876  6.440215   85.350186\n",
       "92341  TtcGQ  0.110711  1.022689  0.911381  101.318008"
      ]
     },
     "metadata": {},
     "output_type": "display_data"
    },
    {
     "data": {
      "text/plain": [
       "'df_1'"
      ]
     },
     "metadata": {},
     "output_type": "display_data"
    },
    {
     "data": {
      "text/html": [
       "<div>\n",
       "<style scoped>\n",
       "    .dataframe tbody tr th:only-of-type {\n",
       "        vertical-align: middle;\n",
       "    }\n",
       "\n",
       "    .dataframe tbody tr th {\n",
       "        vertical-align: top;\n",
       "    }\n",
       "\n",
       "    .dataframe thead th {\n",
       "        text-align: right;\n",
       "    }\n",
       "</style>\n",
       "<table border=\"1\" class=\"dataframe\">\n",
       "  <thead>\n",
       "    <tr style=\"text-align: right;\">\n",
       "      <th></th>\n",
       "      <th>id</th>\n",
       "      <th>f0</th>\n",
       "      <th>f1</th>\n",
       "      <th>f2</th>\n",
       "      <th>product</th>\n",
       "    </tr>\n",
       "  </thead>\n",
       "  <tbody>\n",
       "    <tr>\n",
       "      <th>89582</th>\n",
       "      <td>bsk9y</td>\n",
       "      <td>0.398908</td>\n",
       "      <td>-0.400253</td>\n",
       "      <td>10.122376</td>\n",
       "      <td>163.433078</td>\n",
       "    </tr>\n",
       "    <tr>\n",
       "      <th>97785</th>\n",
       "      <td>bsk9y</td>\n",
       "      <td>0.378429</td>\n",
       "      <td>0.005837</td>\n",
       "      <td>0.160827</td>\n",
       "      <td>160.637302</td>\n",
       "    </tr>\n",
       "  </tbody>\n",
       "</table>\n",
       "</div>"
      ],
      "text/plain": [
       "          id        f0        f1         f2     product\n",
       "89582  bsk9y  0.398908 -0.400253  10.122376  163.433078\n",
       "97785  bsk9y  0.378429  0.005837   0.160827  160.637302"
      ]
     },
     "metadata": {},
     "output_type": "display_data"
    },
    {
     "data": {
      "text/plain": [
       "'df_2'"
      ]
     },
     "metadata": {},
     "output_type": "display_data"
    },
    {
     "data": {
      "text/html": [
       "<div>\n",
       "<style scoped>\n",
       "    .dataframe tbody tr th:only-of-type {\n",
       "        vertical-align: middle;\n",
       "    }\n",
       "\n",
       "    .dataframe tbody tr th {\n",
       "        vertical-align: top;\n",
       "    }\n",
       "\n",
       "    .dataframe thead th {\n",
       "        text-align: right;\n",
       "    }\n",
       "</style>\n",
       "<table border=\"1\" class=\"dataframe\">\n",
       "  <thead>\n",
       "    <tr style=\"text-align: right;\">\n",
       "      <th></th>\n",
       "      <th>id</th>\n",
       "      <th>f0</th>\n",
       "      <th>f1</th>\n",
       "      <th>f2</th>\n",
       "      <th>product</th>\n",
       "    </tr>\n",
       "  </thead>\n",
       "  <tbody>\n",
       "    <tr>\n",
       "      <th>1305</th>\n",
       "      <td>LHZR0</td>\n",
       "      <td>11.170835</td>\n",
       "      <td>-1.945066</td>\n",
       "      <td>3.002872</td>\n",
       "      <td>80.859783</td>\n",
       "    </tr>\n",
       "    <tr>\n",
       "      <th>41906</th>\n",
       "      <td>LHZR0</td>\n",
       "      <td>-8.989672</td>\n",
       "      <td>-4.286607</td>\n",
       "      <td>2.009139</td>\n",
       "      <td>57.085625</td>\n",
       "    </tr>\n",
       "  </tbody>\n",
       "</table>\n",
       "</div>"
      ],
      "text/plain": [
       "          id         f0        f1        f2    product\n",
       "1305   LHZR0  11.170835 -1.945066  3.002872  80.859783\n",
       "41906  LHZR0  -8.989672 -4.286607  2.009139  57.085625"
      ]
     },
     "metadata": {},
     "output_type": "display_data"
    },
    {
     "data": {
      "text/plain": [
       "'df_2'"
      ]
     },
     "metadata": {},
     "output_type": "display_data"
    },
    {
     "data": {
      "text/html": [
       "<div>\n",
       "<style scoped>\n",
       "    .dataframe tbody tr th:only-of-type {\n",
       "        vertical-align: middle;\n",
       "    }\n",
       "\n",
       "    .dataframe tbody tr th {\n",
       "        vertical-align: top;\n",
       "    }\n",
       "\n",
       "    .dataframe thead th {\n",
       "        text-align: right;\n",
       "    }\n",
       "</style>\n",
       "<table border=\"1\" class=\"dataframe\">\n",
       "  <thead>\n",
       "    <tr style=\"text-align: right;\">\n",
       "      <th></th>\n",
       "      <th>id</th>\n",
       "      <th>f0</th>\n",
       "      <th>f1</th>\n",
       "      <th>f2</th>\n",
       "      <th>product</th>\n",
       "    </tr>\n",
       "  </thead>\n",
       "  <tbody>\n",
       "    <tr>\n",
       "      <th>2721</th>\n",
       "      <td>bfPNe</td>\n",
       "      <td>-9.494442</td>\n",
       "      <td>-5.463692</td>\n",
       "      <td>4.006042</td>\n",
       "      <td>110.992147</td>\n",
       "    </tr>\n",
       "    <tr>\n",
       "      <th>82178</th>\n",
       "      <td>bfPNe</td>\n",
       "      <td>-6.202799</td>\n",
       "      <td>-4.820045</td>\n",
       "      <td>2.995107</td>\n",
       "      <td>84.038886</td>\n",
       "    </tr>\n",
       "  </tbody>\n",
       "</table>\n",
       "</div>"
      ],
      "text/plain": [
       "          id        f0        f1        f2     product\n",
       "2721   bfPNe -9.494442 -5.463692  4.006042  110.992147\n",
       "82178  bfPNe -6.202799 -4.820045  2.995107   84.038886"
      ]
     },
     "metadata": {},
     "output_type": "display_data"
    },
    {
     "data": {
      "text/plain": [
       "'df_2'"
      ]
     },
     "metadata": {},
     "output_type": "display_data"
    },
    {
     "data": {
      "text/html": [
       "<div>\n",
       "<style scoped>\n",
       "    .dataframe tbody tr th:only-of-type {\n",
       "        vertical-align: middle;\n",
       "    }\n",
       "\n",
       "    .dataframe tbody tr th {\n",
       "        vertical-align: top;\n",
       "    }\n",
       "\n",
       "    .dataframe thead th {\n",
       "        text-align: right;\n",
       "    }\n",
       "</style>\n",
       "<table border=\"1\" class=\"dataframe\">\n",
       "  <thead>\n",
       "    <tr style=\"text-align: right;\">\n",
       "      <th></th>\n",
       "      <th>id</th>\n",
       "      <th>f0</th>\n",
       "      <th>f1</th>\n",
       "      <th>f2</th>\n",
       "      <th>product</th>\n",
       "    </tr>\n",
       "  </thead>\n",
       "  <tbody>\n",
       "    <tr>\n",
       "      <th>47591</th>\n",
       "      <td>wt4Uk</td>\n",
       "      <td>-9.091098</td>\n",
       "      <td>-8.109279</td>\n",
       "      <td>-0.002314</td>\n",
       "      <td>3.179103</td>\n",
       "    </tr>\n",
       "    <tr>\n",
       "      <th>82873</th>\n",
       "      <td>wt4Uk</td>\n",
       "      <td>10.259972</td>\n",
       "      <td>-9.376355</td>\n",
       "      <td>4.994297</td>\n",
       "      <td>134.766305</td>\n",
       "    </tr>\n",
       "  </tbody>\n",
       "</table>\n",
       "</div>"
      ],
      "text/plain": [
       "          id         f0        f1        f2     product\n",
       "47591  wt4Uk  -9.091098 -8.109279 -0.002314    3.179103\n",
       "82873  wt4Uk  10.259972 -9.376355  4.994297  134.766305"
      ]
     },
     "metadata": {},
     "output_type": "display_data"
    },
    {
     "data": {
      "text/plain": [
       "'df_2'"
      ]
     },
     "metadata": {},
     "output_type": "display_data"
    },
    {
     "data": {
      "text/html": [
       "<div>\n",
       "<style scoped>\n",
       "    .dataframe tbody tr th:only-of-type {\n",
       "        vertical-align: middle;\n",
       "    }\n",
       "\n",
       "    .dataframe tbody tr th {\n",
       "        vertical-align: top;\n",
       "    }\n",
       "\n",
       "    .dataframe thead th {\n",
       "        text-align: right;\n",
       "    }\n",
       "</style>\n",
       "<table border=\"1\" class=\"dataframe\">\n",
       "  <thead>\n",
       "    <tr style=\"text-align: right;\">\n",
       "      <th></th>\n",
       "      <th>id</th>\n",
       "      <th>f0</th>\n",
       "      <th>f1</th>\n",
       "      <th>f2</th>\n",
       "      <th>product</th>\n",
       "    </tr>\n",
       "  </thead>\n",
       "  <tbody>\n",
       "    <tr>\n",
       "      <th>5849</th>\n",
       "      <td>5ltQ6</td>\n",
       "      <td>-3.435401</td>\n",
       "      <td>-12.296043</td>\n",
       "      <td>1.999796</td>\n",
       "      <td>57.085625</td>\n",
       "    </tr>\n",
       "    <tr>\n",
       "      <th>84461</th>\n",
       "      <td>5ltQ6</td>\n",
       "      <td>18.213839</td>\n",
       "      <td>2.191999</td>\n",
       "      <td>3.993869</td>\n",
       "      <td>107.813044</td>\n",
       "    </tr>\n",
       "  </tbody>\n",
       "</table>\n",
       "</div>"
      ],
      "text/plain": [
       "          id         f0         f1        f2     product\n",
       "5849   5ltQ6  -3.435401 -12.296043  1.999796   57.085625\n",
       "84461  5ltQ6  18.213839   2.191999  3.993869  107.813044"
      ]
     },
     "metadata": {},
     "output_type": "display_data"
    },
    {
     "data": {
      "text/plain": [
       "'df_3'"
      ]
     },
     "metadata": {},
     "output_type": "display_data"
    },
    {
     "data": {
      "text/html": [
       "<div>\n",
       "<style scoped>\n",
       "    .dataframe tbody tr th:only-of-type {\n",
       "        vertical-align: middle;\n",
       "    }\n",
       "\n",
       "    .dataframe tbody tr th {\n",
       "        vertical-align: top;\n",
       "    }\n",
       "\n",
       "    .dataframe thead th {\n",
       "        text-align: right;\n",
       "    }\n",
       "</style>\n",
       "<table border=\"1\" class=\"dataframe\">\n",
       "  <thead>\n",
       "    <tr style=\"text-align: right;\">\n",
       "      <th></th>\n",
       "      <th>id</th>\n",
       "      <th>f0</th>\n",
       "      <th>f1</th>\n",
       "      <th>f2</th>\n",
       "      <th>product</th>\n",
       "    </tr>\n",
       "  </thead>\n",
       "  <tbody>\n",
       "    <tr>\n",
       "      <th>28039</th>\n",
       "      <td>xCHr8</td>\n",
       "      <td>1.633027</td>\n",
       "      <td>0.368135</td>\n",
       "      <td>-2.378367</td>\n",
       "      <td>6.120525</td>\n",
       "    </tr>\n",
       "    <tr>\n",
       "      <th>43233</th>\n",
       "      <td>xCHr8</td>\n",
       "      <td>-0.847066</td>\n",
       "      <td>2.101796</td>\n",
       "      <td>5.597130</td>\n",
       "      <td>184.388641</td>\n",
       "    </tr>\n",
       "  </tbody>\n",
       "</table>\n",
       "</div>"
      ],
      "text/plain": [
       "          id        f0        f1        f2     product\n",
       "28039  xCHr8  1.633027  0.368135 -2.378367    6.120525\n",
       "43233  xCHr8 -0.847066  2.101796  5.597130  184.388641"
      ]
     },
     "metadata": {},
     "output_type": "display_data"
    },
    {
     "data": {
      "text/plain": [
       "'df_3'"
      ]
     },
     "metadata": {},
     "output_type": "display_data"
    },
    {
     "data": {
      "text/html": [
       "<div>\n",
       "<style scoped>\n",
       "    .dataframe tbody tr th:only-of-type {\n",
       "        vertical-align: middle;\n",
       "    }\n",
       "\n",
       "    .dataframe tbody tr th {\n",
       "        vertical-align: top;\n",
       "    }\n",
       "\n",
       "    .dataframe thead th {\n",
       "        text-align: right;\n",
       "    }\n",
       "</style>\n",
       "<table border=\"1\" class=\"dataframe\">\n",
       "  <thead>\n",
       "    <tr style=\"text-align: right;\">\n",
       "      <th></th>\n",
       "      <th>id</th>\n",
       "      <th>f0</th>\n",
       "      <th>f1</th>\n",
       "      <th>f2</th>\n",
       "      <th>product</th>\n",
       "    </tr>\n",
       "  </thead>\n",
       "  <tbody>\n",
       "    <tr>\n",
       "      <th>11449</th>\n",
       "      <td>VF7Jo</td>\n",
       "      <td>2.122656</td>\n",
       "      <td>-0.858275</td>\n",
       "      <td>5.746001</td>\n",
       "      <td>181.716817</td>\n",
       "    </tr>\n",
       "    <tr>\n",
       "      <th>49564</th>\n",
       "      <td>VF7Jo</td>\n",
       "      <td>-0.883115</td>\n",
       "      <td>0.560537</td>\n",
       "      <td>0.723601</td>\n",
       "      <td>136.233420</td>\n",
       "    </tr>\n",
       "  </tbody>\n",
       "</table>\n",
       "</div>"
      ],
      "text/plain": [
       "          id        f0        f1        f2     product\n",
       "11449  VF7Jo  2.122656 -0.858275  5.746001  181.716817\n",
       "49564  VF7Jo -0.883115  0.560537  0.723601  136.233420"
      ]
     },
     "metadata": {},
     "output_type": "display_data"
    },
    {
     "data": {
      "text/plain": [
       "'df_3'"
      ]
     },
     "metadata": {},
     "output_type": "display_data"
    },
    {
     "data": {
      "text/html": [
       "<div>\n",
       "<style scoped>\n",
       "    .dataframe tbody tr th:only-of-type {\n",
       "        vertical-align: middle;\n",
       "    }\n",
       "\n",
       "    .dataframe tbody tr th {\n",
       "        vertical-align: top;\n",
       "    }\n",
       "\n",
       "    .dataframe thead th {\n",
       "        text-align: right;\n",
       "    }\n",
       "</style>\n",
       "<table border=\"1\" class=\"dataframe\">\n",
       "  <thead>\n",
       "    <tr style=\"text-align: right;\">\n",
       "      <th></th>\n",
       "      <th>id</th>\n",
       "      <th>f0</th>\n",
       "      <th>f1</th>\n",
       "      <th>f2</th>\n",
       "      <th>product</th>\n",
       "    </tr>\n",
       "  </thead>\n",
       "  <tbody>\n",
       "    <tr>\n",
       "      <th>45404</th>\n",
       "      <td>KUPhW</td>\n",
       "      <td>0.231846</td>\n",
       "      <td>-1.698941</td>\n",
       "      <td>4.990775</td>\n",
       "      <td>11.716299</td>\n",
       "    </tr>\n",
       "    <tr>\n",
       "      <th>55967</th>\n",
       "      <td>KUPhW</td>\n",
       "      <td>1.211150</td>\n",
       "      <td>3.176408</td>\n",
       "      <td>5.543540</td>\n",
       "      <td>132.831802</td>\n",
       "    </tr>\n",
       "  </tbody>\n",
       "</table>\n",
       "</div>"
      ],
      "text/plain": [
       "          id        f0        f1        f2     product\n",
       "45404  KUPhW  0.231846 -1.698941  4.990775   11.716299\n",
       "55967  KUPhW  1.211150  3.176408  5.543540  132.831802"
      ]
     },
     "metadata": {},
     "output_type": "display_data"
    },
    {
     "data": {
      "text/plain": [
       "'df_3'"
      ]
     },
     "metadata": {},
     "output_type": "display_data"
    },
    {
     "data": {
      "text/html": [
       "<div>\n",
       "<style scoped>\n",
       "    .dataframe tbody tr th:only-of-type {\n",
       "        vertical-align: middle;\n",
       "    }\n",
       "\n",
       "    .dataframe tbody tr th {\n",
       "        vertical-align: top;\n",
       "    }\n",
       "\n",
       "    .dataframe thead th {\n",
       "        text-align: right;\n",
       "    }\n",
       "</style>\n",
       "<table border=\"1\" class=\"dataframe\">\n",
       "  <thead>\n",
       "    <tr style=\"text-align: right;\">\n",
       "      <th></th>\n",
       "      <th>id</th>\n",
       "      <th>f0</th>\n",
       "      <th>f1</th>\n",
       "      <th>f2</th>\n",
       "      <th>product</th>\n",
       "    </tr>\n",
       "  </thead>\n",
       "  <tbody>\n",
       "    <tr>\n",
       "      <th>44378</th>\n",
       "      <td>Vcm5J</td>\n",
       "      <td>-1.229484</td>\n",
       "      <td>-2.439204</td>\n",
       "      <td>1.222909</td>\n",
       "      <td>137.968290</td>\n",
       "    </tr>\n",
       "    <tr>\n",
       "      <th>95090</th>\n",
       "      <td>Vcm5J</td>\n",
       "      <td>2.587702</td>\n",
       "      <td>1.986875</td>\n",
       "      <td>2.482245</td>\n",
       "      <td>92.327572</td>\n",
       "    </tr>\n",
       "  </tbody>\n",
       "</table>\n",
       "</div>"
      ],
      "text/plain": [
       "          id        f0        f1        f2     product\n",
       "44378  Vcm5J -1.229484 -2.439204  1.222909  137.968290\n",
       "95090  Vcm5J  2.587702  1.986875  2.482245   92.327572"
      ]
     },
     "metadata": {},
     "output_type": "display_data"
    }
   ],
   "source": [
    "# Выводим повторы в id скважин во всех таблицах\n",
    "for j in dct_df:\n",
    "    for i, k in id_double.iterrows():\n",
    "        #print(k[0])\n",
    "        val = dct_df[j]['id']\n",
    "        if k[0] in val.values:\n",
    "            display(j, dct_df[j][val == k[0]])           "
   ]
  },
  {
   "cell_type": "code",
   "execution_count": 15,
   "metadata": {},
   "outputs": [
    {
     "name": "stdout",
     "output_type": "stream",
     "text": [
      "Статистики таблицы df_1:\n"
     ]
    },
    {
     "data": {
      "text/html": [
       "<div>\n",
       "<style scoped>\n",
       "    .dataframe tbody tr th:only-of-type {\n",
       "        vertical-align: middle;\n",
       "    }\n",
       "\n",
       "    .dataframe tbody tr th {\n",
       "        vertical-align: top;\n",
       "    }\n",
       "\n",
       "    .dataframe thead th {\n",
       "        text-align: right;\n",
       "    }\n",
       "</style>\n",
       "<table border=\"1\" class=\"dataframe\">\n",
       "  <thead>\n",
       "    <tr style=\"text-align: right;\">\n",
       "      <th></th>\n",
       "      <th>f0</th>\n",
       "      <th>f1</th>\n",
       "      <th>f2</th>\n",
       "      <th>product</th>\n",
       "    </tr>\n",
       "  </thead>\n",
       "  <tbody>\n",
       "    <tr>\n",
       "      <th>count</th>\n",
       "      <td>100000.000000</td>\n",
       "      <td>100000.000000</td>\n",
       "      <td>100000.000000</td>\n",
       "      <td>100000.000000</td>\n",
       "    </tr>\n",
       "    <tr>\n",
       "      <th>mean</th>\n",
       "      <td>0.500419</td>\n",
       "      <td>0.250143</td>\n",
       "      <td>2.502647</td>\n",
       "      <td>92.500000</td>\n",
       "    </tr>\n",
       "    <tr>\n",
       "      <th>std</th>\n",
       "      <td>0.871832</td>\n",
       "      <td>0.504433</td>\n",
       "      <td>3.248248</td>\n",
       "      <td>44.288691</td>\n",
       "    </tr>\n",
       "    <tr>\n",
       "      <th>min</th>\n",
       "      <td>-1.408605</td>\n",
       "      <td>-0.848218</td>\n",
       "      <td>-12.088328</td>\n",
       "      <td>0.000000</td>\n",
       "    </tr>\n",
       "    <tr>\n",
       "      <th>25%</th>\n",
       "      <td>-0.072580</td>\n",
       "      <td>-0.200881</td>\n",
       "      <td>0.287748</td>\n",
       "      <td>56.497507</td>\n",
       "    </tr>\n",
       "    <tr>\n",
       "      <th>50%</th>\n",
       "      <td>0.502360</td>\n",
       "      <td>0.250252</td>\n",
       "      <td>2.515969</td>\n",
       "      <td>91.849972</td>\n",
       "    </tr>\n",
       "    <tr>\n",
       "      <th>75%</th>\n",
       "      <td>1.073581</td>\n",
       "      <td>0.700646</td>\n",
       "      <td>4.715088</td>\n",
       "      <td>128.564089</td>\n",
       "    </tr>\n",
       "    <tr>\n",
       "      <th>max</th>\n",
       "      <td>2.362331</td>\n",
       "      <td>1.343769</td>\n",
       "      <td>16.003790</td>\n",
       "      <td>185.364347</td>\n",
       "    </tr>\n",
       "  </tbody>\n",
       "</table>\n",
       "</div>"
      ],
      "text/plain": [
       "                  f0             f1             f2        product\n",
       "count  100000.000000  100000.000000  100000.000000  100000.000000\n",
       "mean        0.500419       0.250143       2.502647      92.500000\n",
       "std         0.871832       0.504433       3.248248      44.288691\n",
       "min        -1.408605      -0.848218     -12.088328       0.000000\n",
       "25%        -0.072580      -0.200881       0.287748      56.497507\n",
       "50%         0.502360       0.250252       2.515969      91.849972\n",
       "75%         1.073581       0.700646       4.715088     128.564089\n",
       "max         2.362331       1.343769      16.003790     185.364347"
      ]
     },
     "metadata": {},
     "output_type": "display_data"
    },
    {
     "name": "stdout",
     "output_type": "stream",
     "text": [
      "Статистики таблицы df_2:\n"
     ]
    },
    {
     "data": {
      "text/html": [
       "<div>\n",
       "<style scoped>\n",
       "    .dataframe tbody tr th:only-of-type {\n",
       "        vertical-align: middle;\n",
       "    }\n",
       "\n",
       "    .dataframe tbody tr th {\n",
       "        vertical-align: top;\n",
       "    }\n",
       "\n",
       "    .dataframe thead th {\n",
       "        text-align: right;\n",
       "    }\n",
       "</style>\n",
       "<table border=\"1\" class=\"dataframe\">\n",
       "  <thead>\n",
       "    <tr style=\"text-align: right;\">\n",
       "      <th></th>\n",
       "      <th>f0</th>\n",
       "      <th>f1</th>\n",
       "      <th>f2</th>\n",
       "      <th>product</th>\n",
       "    </tr>\n",
       "  </thead>\n",
       "  <tbody>\n",
       "    <tr>\n",
       "      <th>count</th>\n",
       "      <td>100000.000000</td>\n",
       "      <td>100000.000000</td>\n",
       "      <td>100000.000000</td>\n",
       "      <td>100000.000000</td>\n",
       "    </tr>\n",
       "    <tr>\n",
       "      <th>mean</th>\n",
       "      <td>1.141296</td>\n",
       "      <td>-4.796579</td>\n",
       "      <td>2.494541</td>\n",
       "      <td>68.825000</td>\n",
       "    </tr>\n",
       "    <tr>\n",
       "      <th>std</th>\n",
       "      <td>8.965932</td>\n",
       "      <td>5.119872</td>\n",
       "      <td>1.703572</td>\n",
       "      <td>45.944423</td>\n",
       "    </tr>\n",
       "    <tr>\n",
       "      <th>min</th>\n",
       "      <td>-31.609576</td>\n",
       "      <td>-26.358598</td>\n",
       "      <td>-0.018144</td>\n",
       "      <td>0.000000</td>\n",
       "    </tr>\n",
       "    <tr>\n",
       "      <th>25%</th>\n",
       "      <td>-6.298551</td>\n",
       "      <td>-8.267985</td>\n",
       "      <td>1.000021</td>\n",
       "      <td>26.953261</td>\n",
       "    </tr>\n",
       "    <tr>\n",
       "      <th>50%</th>\n",
       "      <td>1.153055</td>\n",
       "      <td>-4.813172</td>\n",
       "      <td>2.011479</td>\n",
       "      <td>57.085625</td>\n",
       "    </tr>\n",
       "    <tr>\n",
       "      <th>75%</th>\n",
       "      <td>8.621015</td>\n",
       "      <td>-1.332816</td>\n",
       "      <td>3.999904</td>\n",
       "      <td>107.813044</td>\n",
       "    </tr>\n",
       "    <tr>\n",
       "      <th>max</th>\n",
       "      <td>29.421755</td>\n",
       "      <td>18.734063</td>\n",
       "      <td>5.019721</td>\n",
       "      <td>137.945408</td>\n",
       "    </tr>\n",
       "  </tbody>\n",
       "</table>\n",
       "</div>"
      ],
      "text/plain": [
       "                  f0             f1             f2        product\n",
       "count  100000.000000  100000.000000  100000.000000  100000.000000\n",
       "mean        1.141296      -4.796579       2.494541      68.825000\n",
       "std         8.965932       5.119872       1.703572      45.944423\n",
       "min       -31.609576     -26.358598      -0.018144       0.000000\n",
       "25%        -6.298551      -8.267985       1.000021      26.953261\n",
       "50%         1.153055      -4.813172       2.011479      57.085625\n",
       "75%         8.621015      -1.332816       3.999904     107.813044\n",
       "max        29.421755      18.734063       5.019721     137.945408"
      ]
     },
     "metadata": {},
     "output_type": "display_data"
    },
    {
     "name": "stdout",
     "output_type": "stream",
     "text": [
      "Статистики таблицы df_3:\n"
     ]
    },
    {
     "data": {
      "text/html": [
       "<div>\n",
       "<style scoped>\n",
       "    .dataframe tbody tr th:only-of-type {\n",
       "        vertical-align: middle;\n",
       "    }\n",
       "\n",
       "    .dataframe tbody tr th {\n",
       "        vertical-align: top;\n",
       "    }\n",
       "\n",
       "    .dataframe thead th {\n",
       "        text-align: right;\n",
       "    }\n",
       "</style>\n",
       "<table border=\"1\" class=\"dataframe\">\n",
       "  <thead>\n",
       "    <tr style=\"text-align: right;\">\n",
       "      <th></th>\n",
       "      <th>f0</th>\n",
       "      <th>f1</th>\n",
       "      <th>f2</th>\n",
       "      <th>product</th>\n",
       "    </tr>\n",
       "  </thead>\n",
       "  <tbody>\n",
       "    <tr>\n",
       "      <th>count</th>\n",
       "      <td>100000.000000</td>\n",
       "      <td>100000.000000</td>\n",
       "      <td>100000.000000</td>\n",
       "      <td>100000.000000</td>\n",
       "    </tr>\n",
       "    <tr>\n",
       "      <th>mean</th>\n",
       "      <td>0.002023</td>\n",
       "      <td>-0.002081</td>\n",
       "      <td>2.495128</td>\n",
       "      <td>95.000000</td>\n",
       "    </tr>\n",
       "    <tr>\n",
       "      <th>std</th>\n",
       "      <td>1.732045</td>\n",
       "      <td>1.730417</td>\n",
       "      <td>3.473445</td>\n",
       "      <td>44.749921</td>\n",
       "    </tr>\n",
       "    <tr>\n",
       "      <th>min</th>\n",
       "      <td>-8.760004</td>\n",
       "      <td>-7.084020</td>\n",
       "      <td>-11.970335</td>\n",
       "      <td>0.000000</td>\n",
       "    </tr>\n",
       "    <tr>\n",
       "      <th>25%</th>\n",
       "      <td>-1.162288</td>\n",
       "      <td>-1.174820</td>\n",
       "      <td>0.130359</td>\n",
       "      <td>59.450441</td>\n",
       "    </tr>\n",
       "    <tr>\n",
       "      <th>50%</th>\n",
       "      <td>0.009424</td>\n",
       "      <td>-0.009482</td>\n",
       "      <td>2.484236</td>\n",
       "      <td>94.925613</td>\n",
       "    </tr>\n",
       "    <tr>\n",
       "      <th>75%</th>\n",
       "      <td>1.158535</td>\n",
       "      <td>1.163678</td>\n",
       "      <td>4.858794</td>\n",
       "      <td>130.595027</td>\n",
       "    </tr>\n",
       "    <tr>\n",
       "      <th>max</th>\n",
       "      <td>7.238262</td>\n",
       "      <td>7.844801</td>\n",
       "      <td>16.739402</td>\n",
       "      <td>190.029838</td>\n",
       "    </tr>\n",
       "  </tbody>\n",
       "</table>\n",
       "</div>"
      ],
      "text/plain": [
       "                  f0             f1             f2        product\n",
       "count  100000.000000  100000.000000  100000.000000  100000.000000\n",
       "mean        0.002023      -0.002081       2.495128      95.000000\n",
       "std         1.732045       1.730417       3.473445      44.749921\n",
       "min        -8.760004      -7.084020     -11.970335       0.000000\n",
       "25%        -1.162288      -1.174820       0.130359      59.450441\n",
       "50%         0.009424      -0.009482       2.484236      94.925613\n",
       "75%         1.158535       1.163678       4.858794     130.595027\n",
       "max         7.238262       7.844801      16.739402     190.029838"
      ]
     },
     "metadata": {},
     "output_type": "display_data"
    },
    {
     "data": {
      "text/plain": [
       "[[None, None], [None, None], [None, None]]"
      ]
     },
     "execution_count": 15,
     "metadata": {},
     "output_type": "execute_result"
    }
   ],
   "source": [
    "# Посмотрим на статистики таблиц\n",
    "list(map(lambda x: [print(f'Статистики таблицы {x}:'), display(dct_df[x].describe())], dct_df))"
   ]
  },
  {
   "cell_type": "code",
   "execution_count": 16,
   "metadata": {
    "scrolled": true
   },
   "outputs": [
    {
     "name": "stdout",
     "output_type": "stream",
     "text": [
      "Корреляционная матрица таблицы df_1\n"
     ]
    },
    {
     "data": {
      "image/png": "[encoded data removed]",
      "text/plain": [
       "<Figure size 432x144 with 2 Axes>"
      ]
     },
     "metadata": {
      "needs_background": "light"
     },
     "output_type": "display_data"
    },
    {
     "name": "stdout",
     "output_type": "stream",
     "text": [
      "Корреляционная матрица таблицы df_2\n"
     ]
    },
    {
     "data": {
      "image/png": "[encoded data removed]",
      "text/plain": [
       "<Figure size 432x144 with 2 Axes>"
      ]
     },
     "metadata": {
      "needs_background": "light"
     },
     "output_type": "display_data"
    },
    {
     "name": "stdout",
     "output_type": "stream",
     "text": [
      "Корреляционная матрица таблицы df_3\n"
     ]
    },
    {
     "data": {
      "image/png": "[encoded data removed]",
      "text/plain": [
       "<Figure size 432x144 with 2 Axes>"
      ]
     },
     "metadata": {
      "needs_background": "light"
     },
     "output_type": "display_data"
    }
   ],
   "source": [
    "# Посмотрим корреляцонную матрицу признаков для каждой таблицы\n",
    "\n",
    "for j in dct_df:\n",
    "    matrix = np.triu(dct_df[j].corr())\n",
    "    fig, ax = plt.subplots(figsize=(6, 2))\n",
    "    sns.heatmap(dct_df[j].corr(), annot=True, fmt='.2f', mask=matrix,  vmin=-1, vmax=1, center= 0, cmap= 'coolwarm')\n",
    "    print(f'Корреляционная матрица таблицы {j}')\n",
    "    plt.show()\n",
    "    "
   ]
  },
  {
   "cell_type": "code",
   "execution_count": 17,
   "metadata": {},
   "outputs": [],
   "source": [
    "# Функция для построения диаграммы размаха\n",
    "def box_plt(idx_features):\n",
    "    for j in dct_df:\n",
    "        plt.figure(figsize=(7,2))\n",
    "        dct_df[j][idx_features].plot(kind='box',vert=False)\n",
    "        plt.grid()\n",
    "        plt.title(f'Диаграмма размаха таблицы {j}, признака {idx_features}',fontsize=10)\n",
    "        plt.show()"
   ]
  },
  {
   "cell_type": "code",
   "execution_count": 18,
   "metadata": {},
   "outputs": [],
   "source": [
    "# Список количественных признаков\n",
    "quant_feachers = ['f0', 'f1', 'f2', 'product']"
   ]
  },
  {
   "cell_type": "code",
   "execution_count": 19,
   "metadata": {},
   "outputs": [
    {
     "data": {
      "image/png": "[encoded data removed]",
      "text/plain": [
       "<Figure size 504x144 with 1 Axes>"
      ]
     },
     "metadata": {
      "needs_background": "light"
     },
     "output_type": "display_data"
    },
    {
     "data": {
      "image/png": "[encoded data removed]",
      "text/plain": [
       "<Figure size 504x144 with 1 Axes>"
      ]
     },
     "metadata": {
      "needs_background": "light"
     },
     "output_type": "display_data"
    },
    {
     "data": {
      "image/png": "[encoded data removed]",
      "text/plain": [
       "<Figure size 504x144 with 1 Axes>"
      ]
     },
     "metadata": {
      "needs_background": "light"
     },
     "output_type": "display_data"
    },
    {
     "data": {
      "image/png": "[encoded data removed]",
      "text/plain": [
       "<Figure size 504x144 with 1 Axes>"
      ]
     },
     "metadata": {
      "needs_background": "light"
     },
     "output_type": "display_data"
    },
    {
     "data": {
      "image/png": "[encoded data removed]",
      "text/plain": [
       "<Figure size 504x144 with 1 Axes>"
      ]
     },
     "metadata": {
      "needs_background": "light"
     },
     "output_type": "display_data"
    },
    {
     "data": {
      "image/png": "[encoded data removed]",
      "text/plain": [
       "<Figure size 504x144 with 1 Axes>"
      ]
     },
     "metadata": {
      "needs_background": "light"
     },
     "output_type": "display_data"
    },
    {
     "data": {
      "image/png": "[encoded data removed]",
      "text/plain": [
       "<Figure size 504x144 with 1 Axes>"
      ]
     },
     "metadata": {
      "needs_background": "light"
     },
     "output_type": "display_data"
    },
    {
     "data": {
      "image/png": "[encoded data removed]",
      "text/plain": [
       "<Figure size 504x144 with 1 Axes>"
      ]
     },
     "metadata": {
      "needs_background": "light"
     },
     "output_type": "display_data"
    },
    {
     "data": {
      "image/png": "[encoded data removed]",
      "text/plain": [
       "<Figure size 504x144 with 1 Axes>"
      ]
     },
     "metadata": {
      "needs_background": "light"
     },
     "output_type": "display_data"
    },
    {
     "data": {
      "image/png": "[encoded data removed]",
      "text/plain": [
       "<Figure size 504x144 with 1 Axes>"
      ]
     },
     "metadata": {
      "needs_background": "light"
     },
     "output_type": "display_data"
    },
    {
     "data": {
      "image/png": "[encoded data removed]",
      "text/plain": [
       "<Figure size 504x144 with 1 Axes>"
      ]
     },
     "metadata": {
      "needs_background": "light"
     },
     "output_type": "display_data"
    },
    {
     "data": {
      "image/png": "[encoded data removed]",
      "text/plain": [
       "<Figure size 504x144 with 1 Axes>"
      ]
     },
     "metadata": {
      "needs_background": "light"
     },
     "output_type": "display_data"
    },
    {
     "data": {
      "text/plain": [
       "[None, None, None, None]"
      ]
     },
     "execution_count": 19,
     "metadata": {},
     "output_type": "execute_result"
    }
   ],
   "source": [
    "# Построениe диаграммы размаха для количественных признаков всех таблиц \n",
    "list(map(lambda x: box_plt(x), quant_feachers))"
   ]
  },
  {
   "cell_type": "code",
   "execution_count": 20,
   "metadata": {},
   "outputs": [],
   "source": [
    "# Распределение количественных признаков в каждом из регионов (Гистограмма)\n",
    "def hist_plt(idx_features):\n",
    "    for j in dct_df:\n",
    "        plt.figure(figsize=(7,2))\n",
    "        sns.histplot(dct_df[j][idx_features], color='red', fill= True , alpha= .3 , linewidth= 0)\n",
    "        plt.grid()\n",
    "        plt.title(f'Распределение признака {idx_features} таблицы {j}',fontsize=10)\n",
    "        plt.show()"
   ]
  },
  {
   "cell_type": "code",
   "execution_count": 21,
   "metadata": {},
   "outputs": [
    {
     "data": {
      "image/png": "[encoded data removed]",
      "text/plain": [
       "<Figure size 504x144 with 1 Axes>"
      ]
     },
     "metadata": {
      "needs_background": "light"
     },
     "output_type": "display_data"
    },
    {
     "data": {
      "image/png": "[encoded data removed]",
      "text/plain": [
       "<Figure size 504x144 with 1 Axes>"
      ]
     },
     "metadata": {
      "needs_background": "light"
     },
     "output_type": "display_data"
    },
    {
     "data": {
      "image/png": "[encoded data removed]",
      "text/plain": [
       "<Figure size 504x144 with 1 Axes>"
      ]
     },
     "metadata": {
      "needs_background": "light"
     },
     "output_type": "display_data"
    },
    {
     "data": {
      "image/png": "[encoded data removed]",
      "text/plain": [
       "<Figure size 504x144 with 1 Axes>"
      ]
     },
     "metadata": {
      "needs_background": "light"
     },
     "output_type": "display_data"
    },
    {
     "data": {
      "image/png": "[encoded data removed]",
      "text/plain": [
       "<Figure size 504x144 with 1 Axes>"
      ]
     },
     "metadata": {
      "needs_background": "light"
     },
     "output_type": "display_data"
    },
    {
     "data": {
      "image/png": "[encoded data removed]",
      "text/plain": [
       "<Figure size 504x144 with 1 Axes>"
      ]
     },
     "metadata": {
      "needs_background": "light"
     },
     "output_type": "display_data"
    },
    {
     "data": {
      "image/png": "[encoded data removed]",
      "text/plain": [
       "<Figure size 504x144 with 1 Axes>"
      ]
     },
     "metadata": {
      "needs_background": "light"
     },
     "output_type": "display_data"
    },
    {
     "data": {
      "image/png": "[encoded data removed]",
      "text/plain": [
       "<Figure size 504x144 with 1 Axes>"
      ]
     },
     "metadata": {
      "needs_background": "light"
     },
     "output_type": "display_data"
    },
    {
     "data": {
      "image/png": "[encoded data removed]",
      "text/plain": [
       "<Figure size 504x144 with 1 Axes>"
      ]
     },
     "metadata": {
      "needs_background": "light"
     },
     "output_type": "display_data"
    },
    {
     "data": {
      "image/png": "[encoded data removed]",
      "text/plain": [
       "<Figure size 504x144 with 1 Axes>"
      ]
     },
     "metadata": {
      "needs_background": "light"
     },
     "output_type": "display_data"
    },
    {
     "data": {
      "image/png": "[encoded data removed]",
      "text/plain": [
       "<Figure size 504x144 with 1 Axes>"
      ]
     },
     "metadata": {
      "needs_background": "light"
     },
     "output_type": "display_data"
    },
    {
     "data": {
      "image/png": "[encoded data removed]",
      "text/plain": [
       "<Figure size 504x144 with 1 Axes>"
      ]
     },
     "metadata": {
      "needs_background": "light"
     },
     "output_type": "display_data"
    },
    {
     "data": {
      "text/plain": [
       "[None, None, None, None]"
      ]
     },
     "execution_count": 21,
     "metadata": {},
     "output_type": "execute_result"
    }
   ],
   "source": [
    "# Построениe диаграммы распределения признаков \n",
    "list(map(lambda x: hist_plt(x), quant_feachers))"
   ]
  },
  {
   "attachments": {},
   "cell_type": "markdown",
   "metadata": {},
   "source": [
    "## Вывод 1\n",
    "Все три таблицы содержат по 100 000 строк и по 5 признаков их описывающих.  \n",
    "Названия колонок корректные.  \n",
    "Индексы без пропусков.  \n",
    "Все признаки, кроме id, количественные.  \n",
    "Типы данных верные.  \n",
    "Пропусков и явных дубликатов нет.  \n",
    "\n",
    "Найдены неявные дубликаты во всех 3х таблицах в количестве 10, 4 и 4 шт соответственно, стоит обратить на это внимание закзчика и уточнить, является ли id скважин в присланных данных полным, какие есть особенности в этих данных. Возможно, такие дубликаты появились из-за некорректного заполнения, обновления, загрузки, выгрузки базы данных заказчика. Так как на момент исследования невозможно выявить природу таких дубликатов и их немного (18 скважин, у каждой по 1 повтору), то оставим данные без изменения.  \n",
    "Во 2м регионе сильная корреляция (=1) между целевым признаком `product` и признаком `f2`.  \n",
    "Сильной корреляционной связи между признаками в каждой из таблиц нет.  \n",
    "Рспределение целевого признака `product` не является нормальным во всех трех регионах.  \n",
    "Более схожие распределения целевого признака имеют регионы 1 и 3. \n",
    "БОльшая часть остальные признаков имеет ненормальное распределение."
   ]
  },
  {
   "attachments": {},
   "cell_type": "markdown",
   "metadata": {},
   "source": [
    "## 2. Обучение и проверка модели"
   ]
  },
  {
   "cell_type": "code",
   "execution_count": 22,
   "metadata": {},
   "outputs": [],
   "source": [
    "# Формируем из каждой таблицы две: c целевым признаком и с остальными признаками\n",
    "features = ['f0', 'f1', 'f2']\n",
    "target = ['product']\n",
    "\n",
    "# таблицы с признаками без целевого\n",
    "features_1 = df_1[features]\n",
    "features_2 = df_2[features]\n",
    "features_3 = df_3[features]\n",
    "\n",
    "# таблицы с целевым признаком\n",
    "target_1 = df_1[target]\n",
    "target_2 = df_2[target]\n",
    "target_3 = df_3[target]"
   ]
  },
  {
   "cell_type": "code",
   "execution_count": 23,
   "metadata": {},
   "outputs": [],
   "source": [
    "# Функция обучения модели LinearRegression для предсказания объёма запасов\n",
    "# в новых скважинах для каждого региона \n",
    "# На входе таблица признаков и целевого признака, номер региона в кавычках (num_region)\n",
    "# Делит данные на обучающую и валидационную выборки, масштабирует количественные признаки\n",
    "# Выводит предсказанный средний запас сырья (в тыс. баррелей) и RMSE модели\n",
    "# На выходе: предсказания объема сырья в скважинах на валидационной выборке и правильные ответы,  RMSE модели\n",
    "    \n",
    "def model_lr(features, target, num_region):\n",
    "    \n",
    "    # деление исходных данных на обучающую и валидационную выборки\n",
    "    features_train, features_valid, target_train, target_valid = train_test_split(\n",
    "        features, target, test_size=0.25, random_state=RS\n",
    "    )\n",
    "    # масштабирование количественных признаков\n",
    "    scaler = MinMaxScaler()\n",
    "    features_train = scaler.fit_transform(features_train)\n",
    "    features_valid = scaler.transform(features_valid)\n",
    "    quant_feachers = list(features.columns)\n",
    "    features_train = pd.DataFrame(features_train, columns = quant_feachers)\n",
    "    features_valid = pd.DataFrame(features_valid, columns = quant_feachers)\n",
    "    display('Отмасштабированные признаки обучающей выборки: \\n', features_train.head(), \\\n",
    "            'Отмасштабированные признаки валидационной выборки:', features_valid.head()) # вывод нескольких строк выборки для проверки масштабирования признаков\n",
    "    \n",
    "    # создание модели LinearRegression\n",
    "    model = LinearRegression() \n",
    "    model.fit(features_train, target_train) # обучение модели  \n",
    "    predict = model.predict(features_valid) # предсказания на валидационной выборке\n",
    "    predict_mean = predict.mean() # средний запас предсказанного сырья\n",
    "    rmse = round(mean_squared_error(target_valid, predict)**.5, 0) # RMSE модели\n",
    "    \n",
    "    predict = pd.Series(*predict.reshape(1,-1)) # преобразовываем в столбец с формированием индексов\n",
    "    target_valid = pd.Series(target_valid['product']).reset_index(drop=True) # cброс индексов\n",
    "        \n",
    "    print(f' Предсказанный средний запас сырья в скважине Региона {num_region}: {predict_mean:.3f}  (тыс. баррелей)')\n",
    "    print(f' RMSE модели: {rmse:.0f}')\n",
    "    print(f' Доли обучающей и валидационной выборок {100*features_train.shape[0]/features.shape[0]}% : {100*features_valid.shape[0]/features.shape[0]}%')\n",
    "    return predict_mean, predict, target_valid, rmse"
   ]
  },
  {
   "cell_type": "code",
   "execution_count": 24,
   "metadata": {},
   "outputs": [
    {
     "data": {
      "text/plain": [
       "'Отмасштабированные признаки обучающей выборки: \\n'"
      ]
     },
     "metadata": {},
     "output_type": "display_data"
    },
    {
     "data": {
      "text/html": [
       "<div>\n",
       "<style scoped>\n",
       "    .dataframe tbody tr th:only-of-type {\n",
       "        vertical-align: middle;\n",
       "    }\n",
       "\n",
       "    .dataframe tbody tr th {\n",
       "        vertical-align: top;\n",
       "    }\n",
       "\n",
       "    .dataframe thead th {\n",
       "        text-align: right;\n",
       "    }\n",
       "</style>\n",
       "<table border=\"1\" class=\"dataframe\">\n",
       "  <thead>\n",
       "    <tr style=\"text-align: right;\">\n",
       "      <th></th>\n",
       "      <th>f0</th>\n",
       "      <th>f1</th>\n",
       "      <th>f2</th>\n",
       "    </tr>\n",
       "  </thead>\n",
       "  <tbody>\n",
       "    <tr>\n",
       "      <th>0</th>\n",
       "      <td>0.683931</td>\n",
       "      <td>0.174512</td>\n",
       "      <td>0.312363</td>\n",
       "    </tr>\n",
       "    <tr>\n",
       "      <th>1</th>\n",
       "      <td>0.167534</td>\n",
       "      <td>0.730721</td>\n",
       "      <td>0.529259</td>\n",
       "    </tr>\n",
       "    <tr>\n",
       "      <th>2</th>\n",
       "      <td>0.132988</td>\n",
       "      <td>0.730769</td>\n",
       "      <td>0.480080</td>\n",
       "    </tr>\n",
       "    <tr>\n",
       "      <th>3</th>\n",
       "      <td>0.182512</td>\n",
       "      <td>0.690132</td>\n",
       "      <td>0.616851</td>\n",
       "    </tr>\n",
       "    <tr>\n",
       "      <th>4</th>\n",
       "      <td>0.622053</td>\n",
       "      <td>0.479810</td>\n",
       "      <td>0.546311</td>\n",
       "    </tr>\n",
       "  </tbody>\n",
       "</table>\n",
       "</div>"
      ],
      "text/plain": [
       "         f0        f1        f2\n",
       "0  0.683931  0.174512  0.312363\n",
       "1  0.167534  0.730721  0.529259\n",
       "2  0.132988  0.730769  0.480080\n",
       "3  0.182512  0.690132  0.616851\n",
       "4  0.622053  0.479810  0.546311"
      ]
     },
     "metadata": {},
     "output_type": "display_data"
    },
    {
     "data": {
      "text/plain": [
       "'Отмасштабированные признаки валидационной выборки:'"
      ]
     },
     "metadata": {},
     "output_type": "display_data"
    },
    {
     "data": {
      "text/html": [
       "<div>\n",
       "<style scoped>\n",
       "    .dataframe tbody tr th:only-of-type {\n",
       "        vertical-align: middle;\n",
       "    }\n",
       "\n",
       "    .dataframe tbody tr th {\n",
       "        vertical-align: top;\n",
       "    }\n",
       "\n",
       "    .dataframe thead th {\n",
       "        text-align: right;\n",
       "    }\n",
       "</style>\n",
       "<table border=\"1\" class=\"dataframe\">\n",
       "  <thead>\n",
       "    <tr style=\"text-align: right;\">\n",
       "      <th></th>\n",
       "      <th>f0</th>\n",
       "      <th>f1</th>\n",
       "      <th>f2</th>\n",
       "    </tr>\n",
       "  </thead>\n",
       "  <tbody>\n",
       "    <tr>\n",
       "      <th>0</th>\n",
       "      <td>0.691003</td>\n",
       "      <td>0.518095</td>\n",
       "      <td>0.455878</td>\n",
       "    </tr>\n",
       "    <tr>\n",
       "      <th>1</th>\n",
       "      <td>0.457315</td>\n",
       "      <td>0.784988</td>\n",
       "      <td>0.298212</td>\n",
       "    </tr>\n",
       "    <tr>\n",
       "      <th>2</th>\n",
       "      <td>0.556800</td>\n",
       "      <td>0.193820</td>\n",
       "      <td>0.706048</td>\n",
       "    </tr>\n",
       "    <tr>\n",
       "      <th>3</th>\n",
       "      <td>0.634053</td>\n",
       "      <td>0.555720</td>\n",
       "      <td>0.590536</td>\n",
       "    </tr>\n",
       "    <tr>\n",
       "      <th>4</th>\n",
       "      <td>0.505223</td>\n",
       "      <td>0.721752</td>\n",
       "      <td>0.595449</td>\n",
       "    </tr>\n",
       "  </tbody>\n",
       "</table>\n",
       "</div>"
      ],
      "text/plain": [
       "         f0        f1        f2\n",
       "0  0.691003  0.518095  0.455878\n",
       "1  0.457315  0.784988  0.298212\n",
       "2  0.556800  0.193820  0.706048\n",
       "3  0.634053  0.555720  0.590536\n",
       "4  0.505223  0.721752  0.595449"
      ]
     },
     "metadata": {},
     "output_type": "display_data"
    },
    {
     "name": "stdout",
     "output_type": "stream",
     "text": [
      " Предсказанный средний запас сырья в скважине Региона 1: 92.430  (тыс. баррелей)\n",
      " RMSE модели: 38\n",
      " Доли обучающей и валидационной выборок 75.0% : 25.0%\n"
     ]
    }
   ],
   "source": [
    "# Предсказания объёма запасов в регионе 1\n",
    "predict_mean_1, predict_1, target_valid_1, rmse_1 = model_lr(features_1, target_1, '1')"
   ]
  },
  {
   "cell_type": "code",
   "execution_count": 25,
   "metadata": {},
   "outputs": [
    {
     "data": {
      "text/plain": [
       "'Отмасштабированные признаки обучающей выборки: \\n'"
      ]
     },
     "metadata": {},
     "output_type": "display_data"
    },
    {
     "data": {
      "text/html": [
       "<div>\n",
       "<style scoped>\n",
       "    .dataframe tbody tr th:only-of-type {\n",
       "        vertical-align: middle;\n",
       "    }\n",
       "\n",
       "    .dataframe tbody tr th {\n",
       "        vertical-align: top;\n",
       "    }\n",
       "\n",
       "    .dataframe thead th {\n",
       "        text-align: right;\n",
       "    }\n",
       "</style>\n",
       "<table border=\"1\" class=\"dataframe\">\n",
       "  <thead>\n",
       "    <tr style=\"text-align: right;\">\n",
       "      <th></th>\n",
       "      <th>f0</th>\n",
       "      <th>f1</th>\n",
       "      <th>f2</th>\n",
       "    </tr>\n",
       "  </thead>\n",
       "  <tbody>\n",
       "    <tr>\n",
       "      <th>0</th>\n",
       "      <td>0.703003</td>\n",
       "      <td>0.517157</td>\n",
       "      <td>0.399483</td>\n",
       "    </tr>\n",
       "    <tr>\n",
       "      <th>1</th>\n",
       "      <td>0.633913</td>\n",
       "      <td>0.339827</td>\n",
       "      <td>0.200828</td>\n",
       "    </tr>\n",
       "    <tr>\n",
       "      <th>2</th>\n",
       "      <td>0.685379</td>\n",
       "      <td>0.413118</td>\n",
       "      <td>0.799873</td>\n",
       "    </tr>\n",
       "    <tr>\n",
       "      <th>3</th>\n",
       "      <td>0.726856</td>\n",
       "      <td>0.439844</td>\n",
       "      <td>0.400593</td>\n",
       "    </tr>\n",
       "    <tr>\n",
       "      <th>4</th>\n",
       "      <td>0.422741</td>\n",
       "      <td>0.549099</td>\n",
       "      <td>0.597590</td>\n",
       "    </tr>\n",
       "  </tbody>\n",
       "</table>\n",
       "</div>"
      ],
      "text/plain": [
       "         f0        f1        f2\n",
       "0  0.703003  0.517157  0.399483\n",
       "1  0.633913  0.339827  0.200828\n",
       "2  0.685379  0.413118  0.799873\n",
       "3  0.726856  0.439844  0.400593\n",
       "4  0.422741  0.549099  0.597590"
      ]
     },
     "metadata": {},
     "output_type": "display_data"
    },
    {
     "data": {
      "text/plain": [
       "'Отмасштабированные признаки валидационной выборки:'"
      ]
     },
     "metadata": {},
     "output_type": "display_data"
    },
    {
     "data": {
      "text/html": [
       "<div>\n",
       "<style scoped>\n",
       "    .dataframe tbody tr th:only-of-type {\n",
       "        vertical-align: middle;\n",
       "    }\n",
       "\n",
       "    .dataframe tbody tr th {\n",
       "        vertical-align: top;\n",
       "    }\n",
       "\n",
       "    .dataframe thead th {\n",
       "        text-align: right;\n",
       "    }\n",
       "</style>\n",
       "<table border=\"1\" class=\"dataframe\">\n",
       "  <thead>\n",
       "    <tr style=\"text-align: right;\">\n",
       "      <th></th>\n",
       "      <th>f0</th>\n",
       "      <th>f1</th>\n",
       "      <th>f2</th>\n",
       "    </tr>\n",
       "  </thead>\n",
       "  <tbody>\n",
       "    <tr>\n",
       "      <th>0</th>\n",
       "      <td>0.758833</td>\n",
       "      <td>0.660854</td>\n",
       "      <td>0.399920</td>\n",
       "    </tr>\n",
       "    <tr>\n",
       "      <th>1</th>\n",
       "      <td>0.504467</td>\n",
       "      <td>0.356199</td>\n",
       "      <td>0.797650</td>\n",
       "    </tr>\n",
       "    <tr>\n",
       "      <th>2</th>\n",
       "      <td>0.769477</td>\n",
       "      <td>0.450145</td>\n",
       "      <td>0.005022</td>\n",
       "    </tr>\n",
       "    <tr>\n",
       "      <th>3</th>\n",
       "      <td>0.489100</td>\n",
       "      <td>0.217015</td>\n",
       "      <td>0.997010</td>\n",
       "    </tr>\n",
       "    <tr>\n",
       "      <th>4</th>\n",
       "      <td>0.582175</td>\n",
       "      <td>0.351660</td>\n",
       "      <td>0.202015</td>\n",
       "    </tr>\n",
       "  </tbody>\n",
       "</table>\n",
       "</div>"
      ],
      "text/plain": [
       "         f0        f1        f2\n",
       "0  0.758833  0.660854  0.399920\n",
       "1  0.504467  0.356199  0.797650\n",
       "2  0.769477  0.450145  0.005022\n",
       "3  0.489100  0.217015  0.997010\n",
       "4  0.582175  0.351660  0.202015"
      ]
     },
     "metadata": {},
     "output_type": "display_data"
    },
    {
     "name": "stdout",
     "output_type": "stream",
     "text": [
      " Предсказанный средний запас сырья в скважине Региона 2: 68.802  (тыс. баррелей)\n",
      " RMSE модели: 1\n",
      " Доли обучающей и валидационной выборок 75.0% : 25.0%\n"
     ]
    }
   ],
   "source": [
    "# Предсказания объёма запасов в регионе 2\n",
    "predict_mean_2, predict_2, target_valid_2, rmse_2 = model_lr(features_2, target_2, '2')"
   ]
  },
  {
   "cell_type": "code",
   "execution_count": 26,
   "metadata": {},
   "outputs": [
    {
     "data": {
      "text/plain": [
       "'Отмасштабированные признаки обучающей выборки: \\n'"
      ]
     },
     "metadata": {},
     "output_type": "display_data"
    },
    {
     "data": {
      "text/html": [
       "<div>\n",
       "<style scoped>\n",
       "    .dataframe tbody tr th:only-of-type {\n",
       "        vertical-align: middle;\n",
       "    }\n",
       "\n",
       "    .dataframe tbody tr th {\n",
       "        vertical-align: top;\n",
       "    }\n",
       "\n",
       "    .dataframe thead th {\n",
       "        text-align: right;\n",
       "    }\n",
       "</style>\n",
       "<table border=\"1\" class=\"dataframe\">\n",
       "  <thead>\n",
       "    <tr style=\"text-align: right;\">\n",
       "      <th></th>\n",
       "      <th>f0</th>\n",
       "      <th>f1</th>\n",
       "      <th>f2</th>\n",
       "    </tr>\n",
       "  </thead>\n",
       "  <tbody>\n",
       "    <tr>\n",
       "      <th>0</th>\n",
       "      <td>0.435446</td>\n",
       "      <td>0.517255</td>\n",
       "      <td>0.295157</td>\n",
       "    </tr>\n",
       "    <tr>\n",
       "      <th>1</th>\n",
       "      <td>0.559007</td>\n",
       "      <td>0.512550</td>\n",
       "      <td>0.742032</td>\n",
       "    </tr>\n",
       "    <tr>\n",
       "      <th>2</th>\n",
       "      <td>0.601203</td>\n",
       "      <td>0.481587</td>\n",
       "      <td>0.771141</td>\n",
       "    </tr>\n",
       "    <tr>\n",
       "      <th>3</th>\n",
       "      <td>0.410739</td>\n",
       "      <td>0.476090</td>\n",
       "      <td>0.406316</td>\n",
       "    </tr>\n",
       "    <tr>\n",
       "      <th>4</th>\n",
       "      <td>0.519368</td>\n",
       "      <td>0.590304</td>\n",
       "      <td>0.521231</td>\n",
       "    </tr>\n",
       "  </tbody>\n",
       "</table>\n",
       "</div>"
      ],
      "text/plain": [
       "         f0        f1        f2\n",
       "0  0.435446  0.517255  0.295157\n",
       "1  0.559007  0.512550  0.742032\n",
       "2  0.601203  0.481587  0.771141\n",
       "3  0.410739  0.476090  0.406316\n",
       "4  0.519368  0.590304  0.521231"
      ]
     },
     "metadata": {},
     "output_type": "display_data"
    },
    {
     "data": {
      "text/plain": [
       "'Отмасштабированные признаки валидационной выборки:'"
      ]
     },
     "metadata": {},
     "output_type": "display_data"
    },
    {
     "data": {
      "text/html": [
       "<div>\n",
       "<style scoped>\n",
       "    .dataframe tbody tr th:only-of-type {\n",
       "        vertical-align: middle;\n",
       "    }\n",
       "\n",
       "    .dataframe tbody tr th {\n",
       "        vertical-align: top;\n",
       "    }\n",
       "\n",
       "    .dataframe thead th {\n",
       "        text-align: right;\n",
       "    }\n",
       "</style>\n",
       "<table border=\"1\" class=\"dataframe\">\n",
       "  <thead>\n",
       "    <tr style=\"text-align: right;\">\n",
       "      <th></th>\n",
       "      <th>f0</th>\n",
       "      <th>f1</th>\n",
       "      <th>f2</th>\n",
       "    </tr>\n",
       "  </thead>\n",
       "  <tbody>\n",
       "    <tr>\n",
       "      <th>0</th>\n",
       "      <td>0.608804</td>\n",
       "      <td>0.275798</td>\n",
       "      <td>0.370273</td>\n",
       "    </tr>\n",
       "    <tr>\n",
       "      <th>1</th>\n",
       "      <td>0.473410</td>\n",
       "      <td>0.466373</td>\n",
       "      <td>0.335401</td>\n",
       "    </tr>\n",
       "    <tr>\n",
       "      <th>2</th>\n",
       "      <td>0.698536</td>\n",
       "      <td>0.347586</td>\n",
       "      <td>0.422568</td>\n",
       "    </tr>\n",
       "    <tr>\n",
       "      <th>3</th>\n",
       "      <td>0.510393</td>\n",
       "      <td>0.428728</td>\n",
       "      <td>0.526897</td>\n",
       "    </tr>\n",
       "    <tr>\n",
       "      <th>4</th>\n",
       "      <td>0.447445</td>\n",
       "      <td>0.511369</td>\n",
       "      <td>0.626371</td>\n",
       "    </tr>\n",
       "  </tbody>\n",
       "</table>\n",
       "</div>"
      ],
      "text/plain": [
       "         f0        f1        f2\n",
       "0  0.608804  0.275798  0.370273\n",
       "1  0.473410  0.466373  0.335401\n",
       "2  0.698536  0.347586  0.422568\n",
       "3  0.510393  0.428728  0.526897\n",
       "4  0.447445  0.511369  0.626371"
      ]
     },
     "metadata": {},
     "output_type": "display_data"
    },
    {
     "name": "stdout",
     "output_type": "stream",
     "text": [
      " Предсказанный средний запас сырья в скважине Региона 3: 94.916  (тыс. баррелей)\n",
      " RMSE модели: 40\n",
      " Доли обучающей и валидационной выборок 75.0% : 25.0%\n"
     ]
    }
   ],
   "source": [
    "# Предсказания объёма запасов в регионе 3\n",
    "predict_mean_3, predict_3, target_valid_3, rmse_3 = model_lr(features_3, target_3, '3')"
   ]
  },
  {
   "cell_type": "code",
   "execution_count": 27,
   "metadata": {},
   "outputs": [
    {
     "data": {
      "image/png": "[encoded data removed]",
      "text/plain": [
       "<Figure size 432x288 with 1 Axes>"
      ]
     },
     "metadata": {
      "needs_background": "light"
     },
     "output_type": "display_data"
    }
   ],
   "source": [
    "# График rmse для регионов\n",
    "rmse =pd.DataFrame([{'1':rmse_1, '2':rmse_2, '3':rmse_3}])\n",
    "sns.barplot(data=rmse, palette='hls', alpha=0.8)\n",
    "plt.title(f'RMSE модели для регионов', fontsize=9)\n",
    "plt.xlabel('Регион', fontsize=9)\n",
    "plt.ylabel('RMSE', fontsize=9)\n",
    "plt.show()\n",
    "warnings.filterwarnings(\"ignore\")"
   ]
  },
  {
   "attachments": {},
   "cell_type": "markdown",
   "metadata": {},
   "source": [
    "## Вывод 2\n",
    "\n",
    "Для каждого региона обучили модель линейной регрессии и получили предсказания среднего запаса сырья в скважине региона.  \n",
    "\n",
    "Регион 1:  \n",
    " Предсказанный средний запас сырья в скважине Региона 1: 92.430  (тыс. баррелей)  \n",
    " RMSE модели: 38\n",
    " \n",
    "Регион 2:  \n",
    " Предсказанный средний запас сырья в скважине Региона 2: 68.802  (тыс. баррелей)  \n",
    " RMSE модели: 1  \n",
    "\n",
    "Регион 3:  \n",
    " Предсказанный средний запас сырья в скважине Региона 3: 94.916  (тыс. баррелей)  \n",
    " RMSE модели: 40  \n",
    "\n",
    "Cредний запас предсказанного сырья в скважине региона 2 меньше, чем в 1 и в 3, но качество предсказания значительно выше других регионов - rmse в 40 раз меньше."
   ]
  },
  {
   "attachments": {},
   "cell_type": "markdown",
   "metadata": {},
   "source": [
    "## 3. Подготовка к расчёту прибыли"
   ]
  },
  {
   "cell_type": "code",
   "execution_count": 28,
   "metadata": {},
   "outputs": [
    {
     "name": "stdout",
     "output_type": "stream",
     "text": [
      "Точка безубыточности для скважины: 111.11 (тыс. баррелей)\n"
     ]
    }
   ],
   "source": [
    "# Расчет объёма сырья для безубыточной разработки новой скважины\n",
    "breakeven_point = BUDGET / (BEST_WELLS * PROFIT_WELL)\n",
    "print(f'Точка безубыточности для скважины: {breakeven_point:.2f} (тыс. баррелей)')"
   ]
  },
  {
   "cell_type": "code",
   "execution_count": 29,
   "metadata": {},
   "outputs": [
    {
     "name": "stdout",
     "output_type": "stream",
     "text": [
      " Разница с безубыточным объемом в регионе 1:  -18.61\n",
      " Разница с безубыточным объемом в регионе 2:  -42.29\n",
      " Разница с безубыточным объемом в регионе 3:  -16.11\n"
     ]
    },
    {
     "data": {
      "image/png": "[encoded data removed]",
      "text/plain": [
       "<Figure size 432x288 with 1 Axes>"
      ]
     },
     "metadata": {
      "needs_background": "light"
     },
     "output_type": "display_data"
    }
   ],
   "source": [
    "# Сравнение среднего объема запасов скважины с объемом точки безубыточности (для каждого региона) \n",
    "a=[] # список для заолнения разницами\n",
    "\n",
    "target_mean_1 = target_1.mean()[0]\n",
    "target_mean_2 = target_2.mean()[0]\n",
    "target_mean_3 = target_3.mean()[0]\n",
    "\n",
    "mean_list = pd.Series([target_mean_1, target_mean_2, target_mean_3]) # список предсказанных средних объемов в регионах\n",
    "\n",
    "list(map(lambda x: [print(f' Разница с безубыточным объемом в регионе {1+pd.Index(mean_list).get_loc(x)}: \\\n",
    " {round(x - breakeven_point, 2)}'), \\\n",
    "                   a.append(x - breakeven_point)], mean_list)) #заполнение списака а разницами\n",
    "# График разниц\n",
    "a = pd.DataFrame([{'Регион 1': a[0], 'Регион 2': a[1], 'Регион 3': a[2]}])\n",
    "sns.barplot(data=a, palette='hls', alpha=0.8)\n",
    "plt.title('Разница между предсказанным средним и безубыточным объемами', fontsize=10)\n",
    "plt.ylabel('тыс. баррелей', fontsize=10)\n",
    "plt.show()    \n"
   ]
  },
  {
   "attachments": {},
   "cell_type": "markdown",
   "metadata": {},
   "source": [
    "## Вывод 3   \n",
    "\n",
    "Рассчитали, что достаточный объём сырья для безубыточной разработки новой скважины равен 111,11 тыс. баррелей.  \n",
    "\n",
    "Сравнили безубыточный объём сырья со средним запасом по региону: ни в одном из регионов недостаточно объема для безубыточной работы при данном бюджете."
   ]
  },
  {
   "attachments": {},
   "cell_type": "markdown",
   "metadata": {},
   "source": [
    "## 4. Расчёт прибыли и рисков "
   ]
  },
  {
   "cell_type": "code",
   "execution_count": 30,
   "metadata": {},
   "outputs": [],
   "source": [
    "# Функция для расчёта прибыли по выбранным скважинам и предсказаниям модели\n",
    "# на входе ответы и предсказания на валидационной выборке, rs - заданный random_state, номер региона в кавычках\n",
    "# выводит сумму целевого значения объёма сырья, соответствующее предсказаниям лучших 200 скважин\n",
    "# на выходе - прибыль для полученного объёма сырья\n",
    "\n",
    "def profits(target, predict, rs, num_region):\n",
    " \n",
    "    k=0 # счетчик для проверки совпадения инексов\n",
    "    predict_sample = predict.sample(n=REGON_WELLS, replace = True, random_state=rs)   # случайная выборка из 500 скважин                    \n",
    "    predict_best = predict_sample.sort_values(ascending=False).iloc[:BEST_WELLS] # 200 скважин с максимальными значениями предсказаний                        \n",
    "    target_best = target[predict_best.index] # целевое значение объёма сырья, соответствующее этим предсказаниям\n",
    "    \n",
    "    # проверка на совпадение инексов\n",
    "    for i in predict_best.index: \n",
    "        if i not in target_best.index:\n",
    "            k += 1\n",
    "            print(k)\n",
    "            \n",
    "    volume_best = target_best.sum() # сумма целевого значения объёма сырья, соответствующее предсказаниям лучших 200 скважин\n",
    "    profit = (volume_best * PROFIT_WELL - BUDGET)/10**6 # прибыль для полученного объёма сырья млн.руб\n",
    "    \n",
    "    return profit, volume_best, num_region    "
   ]
  },
  {
   "attachments": {},
   "cell_type": "markdown",
   "metadata": {},
   "source": [
    "<div class=\"alert alert-block alert-info\">\n",
    " Добавила `replace = True`.  Спасибо за пояснение!"
   ]
  },
  {
   "cell_type": "code",
   "execution_count": 31,
   "metadata": {},
   "outputs": [],
   "source": [
    "# Вычисление прибыли по выбранным скважинам и предсказаниям модели для каждого региона\n",
    "profit_1 = profits(target_valid_1, predict_1, RS, '1')\n",
    "profit_2 = profits(target_valid_2, predict_2, RS, '2')\n",
    "profit_3 = profits(target_valid_3, predict_3, RS, '3')"
   ]
  },
  {
   "cell_type": "code",
   "execution_count": 32,
   "metadata": {},
   "outputs": [
    {
     "name": "stdout",
     "output_type": "stream",
     "text": [
      "Регион 1: \n",
      " Cумма целевого значения объёма сырья по лучшим скважинам: 23629.64 тыс.баррелей\n",
      " Прибыль для полученного объёма сырья: 633.34 млн. руб. \n",
      "\n",
      "Регион 2: \n",
      " Cумма целевого значения объёма сырья по лучшим скважинам: 22985.74 тыс.баррелей\n",
      " Прибыль для полученного объёма сырья: 343.58 млн. руб. \n",
      "\n",
      "Регион 3: \n",
      " Cумма целевого значения объёма сырья по лучшим скважинам: 23288.99 тыс.баррелей\n",
      " Прибыль для полученного объёма сырья: 480.05 млн. руб. \n",
      "\n"
     ]
    },
    {
     "data": {
      "image/png": "[encoded data removed]",
      "text/plain": [
       "<Figure size 360x288 with 1 Axes>"
      ]
     },
     "metadata": {
      "needs_background": "light"
     },
     "output_type": "display_data"
    }
   ],
   "source": [
    "# Вывод прибыли по регионам с графиком\n",
    "profit_list = [profit_1, profit_2, profit_3]\n",
    "a = []\n",
    "list(map(lambda x: [print(f'Регион {x[2]}: \\n Cумма целевого значения объёма сырья по лучшим скважинам: {x[1]:.2f} тыс.баррелей'), \\\n",
    "        print(f' Прибыль для полученного объёма сырья: {x[0]:.2f} млн. руб. \\n'), a.append(x[0])] , profit_list))\n",
    "\n",
    "# График прибыли\n",
    "a = pd.DataFrame([{'Регион 1': a[0], 'Регион 2': a[1], 'Регион 3': a[2]}])\n",
    "plt.figure(figsize=(5,4))\n",
    "sns.barplot(data=a, palette='hls', alpha=0.8)\n",
    "plt.title('Прибыль регионов по целевому объему сырья', fontsize=10)\n",
    "plt.ylabel('млн. руб.', fontsize=10)\n",
    "plt.grid()\n",
    "plt.show()    \n"
   ]
  },
  {
   "attachments": {},
   "cell_type": "markdown",
   "metadata": {},
   "source": [
    "## Вывод 4 .1 \n",
    "При расчете прибыли регионов по целевому объему сырья получили следующие результаты.\n",
    "\n",
    "Регион 1: \n",
    " Cумма целевого значения объёма сырья по лучшим скважинам: 23629.64 тыс.баррелей\n",
    " Прибыль для полученного объёма сырья: 633.34 млн. руб. \n",
    "\n",
    "Регион 2: \n",
    " Cумма целевого значения объёма сырья по лучшим скважинам: 22985.74 тыс.баррелей\n",
    " Прибыль для полученного объёма сырья: 343.58 млн. руб. \n",
    "\n",
    "Регион 3: \n",
    " Cумма целевого значения объёма сырья по лучшим скважинам: 23288.99 тыс.баррелей\n",
    " Прибыль для полученного объёма сырья: 480.05 млн. руб. \n",
    " \n",
    "На первом месте по уровню прибыли - Регион 1.  \n",
    "На втором - Регион 3.  \n",
    "Самая маленькая прибыль в Регионе 2."
   ]
  },
  {
   "cell_type": "code",
   "execution_count": 33,
   "metadata": {},
   "outputs": [],
   "source": [
    "# Функция расчета риска и прибыли для каждого региона\n",
    "# на входе ответы и предсказания на валидационной выборке, номер региона в кавычках\n",
    "# на выходе - прибыль, полученная при помощи техники bootstrap, средняя прибыль,\n",
    "# 95%-й доверительный интервал и риск убытков\n",
    "def boot_profit (target, predict, num_region):\n",
    "    \n",
    "    rs = np.random.RandomState(RS)\n",
    "    alpha = 0.025\n",
    "    profit = []\n",
    "    for _ in range(1000):\n",
    "        b_profit = profits(target, predict, rs, num_region) #применение техники bootstrap с 1000 выборками, \n",
    "        profit.append(b_profit[0])                          #чтобы найти распределение прибыли\n",
    "    profit = pd.Series(profit)\n",
    "    profit_mean = profit.mean() # среднее значение прибыли\n",
    "    risk = 100*(profit < 0).mean() # расчет риска в %\n",
    "    lower = profit.quantile(alpha) # доверительный интервал для среднего значения прибыли\n",
    "    upper = profit.quantile(1-alpha)\n",
    "          \n",
    "    return profit, profit_mean, lower, upper, risk, num_region "
   ]
  },
  {
   "cell_type": "code",
   "execution_count": 34,
   "metadata": {},
   "outputs": [],
   "source": [
    "# Вычисление прибыли и риска при bootstrap для каждого региона\n",
    "bprofit_1 = boot_profit(target_valid_1, predict_1, '1')\n",
    "bprofit_2 = boot_profit(target_valid_2, predict_2, '2')\n",
    "bprofit_3 = boot_profit(target_valid_3, predict_3, '3')"
   ]
  },
  {
   "cell_type": "code",
   "execution_count": 35,
   "metadata": {},
   "outputs": [
    {
     "name": "stdout",
     "output_type": "stream",
     "text": [
      "Регион 1: \n",
      " Средняя прибыль 379.40 млн. руб.\n",
      " 95%-доверительный интервал: [-107.98, 918.80] млн. руб.\n",
      " Риск убытков: 7.20 % \n",
      "\n",
      "Регион 2: \n",
      " Средняя прибыль 429.09 млн. руб.\n",
      " 95%-доверительный интервал: [32.45, 847.36] млн. руб.\n",
      " Риск убытков: 1.90 % \n",
      "\n",
      "Регион 3: \n",
      " Средняя прибыль 353.93 млн. руб.\n",
      " 95%-доверительный интервал: [-210.85, 892.07] млн. руб.\n",
      " Риск убытков: 9.00 % \n",
      "\n"
     ]
    },
    {
     "data": {
      "text/plain": [
       "[[None, None, None, None, None, None],\n",
       " [None, None, None, None, None, None],\n",
       " [None, None, None, None, None, None]]"
      ]
     },
     "execution_count": 35,
     "metadata": {},
     "output_type": "execute_result"
    }
   ],
   "source": [
    "# Вывод прибыли по регионам с графиком\n",
    "bprofit_list = [bprofit_1, bprofit_2, bprofit_3]\n",
    "b = []\n",
    "c = []\n",
    "d = []\n",
    "list(map(lambda x: [print(f'Регион {x[5]}: \\n Средняя прибыль {x[1]:.2f} млн. руб.'), \\\n",
    "        print(f' 95%-доверительный интервал: [{x[2]:.2f}, {x[3]:.2f}] млн. руб.'), \\\n",
    "                    print(f' Риск убытков: {x[4]:.2f} % \\n'), b.append(x[1]), c.append(x[0]), d.append(x[4])], bprofit_list))"
   ]
  },
  {
   "cell_type": "code",
   "execution_count": 36,
   "metadata": {},
   "outputs": [
    {
     "name": "stdout",
     "output_type": "stream",
     "text": [
      "   Регион 1  Регион 2  Регион 3\n",
      "0     379.4    429.09    353.93\n"
     ]
    },
    {
     "data": {
      "image/png": "[encoded data removed]",
      "text/plain": [
       "<Figure size 288x216 with 1 Axes>"
      ]
     },
     "metadata": {
      "needs_background": "light"
     },
     "output_type": "display_data"
    },
    {
     "name": "stdout",
     "output_type": "stream",
     "text": [
      "   Регион 1  Регион 2  Регион 3\n",
      "0       7.2       1.9       9.0\n"
     ]
    },
    {
     "data": {
      "image/png": "[encoded data removed]",
      "text/plain": [
       "<Figure size 288x216 with 1 Axes>"
      ]
     },
     "metadata": {
      "needs_background": "light"
     },
     "output_type": "display_data"
    },
    {
     "data": {
      "image/png": "[encoded data removed]",
      "text/plain": [
       "<Figure size 288x216 with 1 Axes>"
      ]
     },
     "metadata": {
      "needs_background": "light"
     },
     "output_type": "display_data"
    },
    {
     "data": {
      "image/png": "[encoded data removed]",
      "text/plain": [
       "<Figure size 288x216 with 1 Axes>"
      ]
     },
     "metadata": {
      "needs_background": "light"
     },
     "output_type": "display_data"
    },
    {
     "data": {
      "image/png": "[encoded data removed]",
      "text/plain": [
       "<Figure size 288x216 with 1 Axes>"
      ]
     },
     "metadata": {
      "needs_background": "light"
     },
     "output_type": "display_data"
    }
   ],
   "source": [
    "# График средней прибыли\n",
    "b = pd.DataFrame([{'Регион 1': b[0], 'Регион 2': b[1], 'Регион 3': b[2]}])\n",
    "print(round(b,2))\n",
    "\n",
    "plt.figure(figsize=(4,3))\n",
    "plt.title('Средняя прибыль регионов', fontsize=10)\n",
    "plt.ylabel('млн. руб.', fontsize=10)\n",
    "sns.barplot(data=b, palette='hls', alpha=0.8)\n",
    "plt.grid()\n",
    "plt.show()\n",
    "\n",
    "\n",
    "# График рисков по регионам\n",
    "d = pd.DataFrame([{'Регион 1': d[0], 'Регион 2': d[1], 'Регион 3': d[2]}])\n",
    "print(d)\n",
    "plt.figure(figsize=(4,3))\n",
    "plt.title('Риски в регионах', fontsize=10)\n",
    "plt.ylabel('%', fontsize=10)\n",
    "sns.barplot(data=d, palette='hls', alpha=0.8)\n",
    "plt.grid()\n",
    "plt.show()\n",
    "\n",
    "# График распределения прибыли по регионам\n",
    "c = pd.DataFrame({'Регион 1': c[0], 'Регион 2': c[1], 'Регион 3':c[2]})\n",
    "list(map(lambda x: [plt.figure(figsize=(4,3)), sns.kdeplot(data=c[x], color='red', fill= True , alpha= .3 , linewidth= 0), \\\n",
    "                    plt.title('Распределение прибыли', fontsize=10), plt.show()],  c.columns))\n",
    "plt.show()\n"
   ]
  },
  {
   "attachments": {},
   "cell_type": "markdown",
   "metadata": {},
   "source": [
    "# Общий вывод\n",
    "\n",
    "В исследовании выбора локации для разработки скважин были проделаны слудующиее этапы:\n",
    "- изучены данные;\n",
    "- построена модель линейной регрессии и оценен объём запасов;\n",
    "- выбирано месторождения с самым высокими оценками значений при заданных ограничениях в бюджете и условии соответствия риску убытка.\n",
    "\n",
    "**Вывод этапа изучения данных.**  \n",
    "Все три таблицы содержат по 100 000 строк и по 5 признаков их описывающих.  \n",
    "Названия колонок корректные.  \n",
    "Индексы без пропусков.  \n",
    "Все признаки, кроме id, количественные.  \n",
    "Типы данных верные.  \n",
    "Пропусков и явных дубликатов нет.  \n",
    "\n",
    "Найдены неявные дубликаты во всех 3х таблицах в количестве 10, 4 и 4 шт соответственно, стоит обратить на это внимание закзчика и уточнить, является ли id скважин в присланных данных полным, какие есть особенности в этих данных. Возможно, такие дубликаты появились из-за некорректного заполнения, обновления, загрузки, выгрузки базы данных заказчика. Так как на момент исследования невозможно выявить природу таких дубликатов и их немного (18 скважин, у каждой по 1 повтору), то оставим данные без изменения.  \n",
    "Во 2м регионе сильная корреляция (=1) между целевым признаком `product` и признаком `f2`.  \n",
    "Сильной корреляционной связи между признаками в каждой из таблиц нет.  \n",
    "Рспределение целевого признака `product` не является нормальным во всех трех регионах.  \n",
    "Более схожие распределения целевого признака имеют регионы 1 и 3. \n",
    "БОльшая часть остальные признаков имеет ненормальное распределение.\n",
    "\n",
    "**Вывод этапа построения модели прогноза запасов.**  \n",
    "Для каждого региона обучили модель линейной регрессии и получили предсказания среднего запаса сырья в скважине региона.  \n",
    "\n",
    "Регион 1:  \n",
    " Предсказанный средний запас сырья в скважине Региона 1: 92.430  (тыс. баррелей)  \n",
    " RMSE модели: 38\n",
    " \n",
    "Регион 2:  \n",
    " Предсказанный средний запас сырья в скважине Региона 2: 68.802  (тыс. баррелей)  \n",
    " RMSE модели: 1  \n",
    "\n",
    "Регион 3:  \n",
    " Предсказанный средний запас сырья в скважине Региона 3: 94.916  (тыс. баррелей)  \n",
    " RMSE модели: 40  \n",
    "\n",
    "Cредний запас предсказанного сырья в скважине региона 2 меньше, чем в 1 и в 3, но качество предсказания значительно выше других регионов - rmse в 40 раз меньше. \n",
    "\n",
    "Рассчитали, что достаточный объём сырья для безубыточной разработки новой скважины равен 111,11 тыс. баррелей.  \n",
    "Сравнили безубыточный объём сырья со средним запасом по региону: ни в одном из регионов недостаточно объема для безубыточной работы при данном бюджете.\n",
    "\n",
    "**Выводы расчета прибыли по целевому объему сырья.**  \n",
    "При расчете прибыли регионов по целевому объему сырья получили следующие результаты.\n",
    "\n",
    "Регион 1: \n",
    " Cумма целевого значения объёма сырья по лучшим скважинам: 23629.64 тыс.баррелей\n",
    " Прибыль для полученного объёма сырья: 633.34 млн. руб. \n",
    "\n",
    "Регион 2: \n",
    " Cумма целевого значения объёма сырья по лучшим скважинам: 22985.74 тыс.баррелей\n",
    " Прибыль для полученного объёма сырья: 343.58 млн. руб. \n",
    "\n",
    "Регион 3: \n",
    " Cумма целевого значения объёма сырья по лучшим скважинам: 23288.99 тыс.баррелей\n",
    " Прибыль для полученного объёма сырья: 480.05 млн. руб. \n",
    " \n",
    "На первом месте по уровню прибыли - Регион 1.  \n",
    "На втором - Регион 3.  \n",
    "Самая маленькая прибыль в Регионе 2.\n",
    "\n",
    "**Выводы расчета прибыли и рисков при бутстрапировании.**  \n",
    "При расчете прибыли и рисков при бутстрапировании для каждого региона получили следущие данные для регионов.  \n",
    "Регион 1: \n",
    " Средняя прибыль 379.40 млн. руб.\n",
    " 95%-доверительный интервал: [-107.98, 918.80] млн. руб.\n",
    " Риск убытков: 7.20 % \n",
    "\n",
    "Регион 2: \n",
    " Средняя прибыль 429.09 млн. руб.\n",
    " 95%-доверительный интервал: [32.45, 847.36] млн. руб.\n",
    " Риск убытков: 1.90 % \n",
    "\n",
    "Регион 3: \n",
    " Средняя прибыль 353.93 млн. руб.\n",
    " 95%-доверительный интервал: [-210.85, 892.07] млн. руб.\n",
    " Риск убытков: 9.00 %   \n",
    " \n",
    " \n",
    "В итоге, в исследовании были проанализированы 3 региона на определение возможной прибыли и рисков техникой Bootstrap (целевой признак распределен ненормально) и было выявлено, что только Регион 2 подходит для разработки новых 200 скважин при заданном бюджете и пороге риска в 2,5%: риск убытков в нем составил 1,9% - это наименьшее значение среди регионов, при этом средняя прибыль наибольшая среди регионов 429.09 млн. руб."
   ]
  }
 ],
 "metadata": {
  "ExecuteTimeLog": [
   {
    "duration": 3,
    "start_time": "2023-01-19T09:13:22.947Z"
   },
   {
    "duration": 1995,
    "start_time": "2023-01-19T09:13:22.965Z"
   },
   {
    "duration": 4,
    "start_time": "2023-01-19T09:13:24.962Z"
   },
   {
    "duration": 366,
    "start_time": "2023-01-19T09:13:24.967Z"
   },
   {
    "duration": 3,
    "start_time": "2023-01-19T09:13:25.335Z"
   },
   {
    "duration": 38,
    "start_time": "2023-01-19T09:13:25.341Z"
   },
   {
    "duration": 14,
    "start_time": "2023-01-19T09:13:25.382Z"
   },
   {
    "duration": 17,
    "start_time": "2023-01-19T09:13:25.398Z"
   },
   {
    "duration": 76,
    "start_time": "2023-01-19T09:13:25.417Z"
   },
   {
    "duration": 42,
    "start_time": "2023-01-19T09:13:25.495Z"
   },
   {
    "duration": 148,
    "start_time": "2023-01-19T09:13:25.539Z"
   },
   {
    "duration": 56,
    "start_time": "2023-01-19T09:13:25.689Z"
   },
   {
    "duration": 65,
    "start_time": "2023-01-19T09:13:25.747Z"
   },
   {
    "duration": 390,
    "start_time": "2023-01-19T09:13:25.813Z"
   },
   {
    "duration": 124,
    "start_time": "2023-01-19T09:13:26.206Z"
   },
   {
    "duration": 825,
    "start_time": "2023-01-19T09:13:26.332Z"
   },
   {
    "duration": 4,
    "start_time": "2023-01-19T09:13:27.158Z"
   },
   {
    "duration": 11,
    "start_time": "2023-01-19T09:13:27.164Z"
   },
   {
    "duration": 1367,
    "start_time": "2023-01-19T09:13:27.176Z"
   },
   {
    "duration": 785,
    "start_time": "2023-01-19T09:13:28.545Z"
   },
   {
    "duration": 10,
    "start_time": "2023-01-19T09:13:29.332Z"
   },
   {
    "duration": 11,
    "start_time": "2023-01-19T09:13:29.344Z"
   },
   {
    "duration": 55,
    "start_time": "2023-01-19T09:13:29.357Z"
   },
   {
    "duration": 103,
    "start_time": "2023-01-19T09:13:29.505Z"
   },
   {
    "duration": 115,
    "start_time": "2023-01-19T09:13:29.610Z"
   },
   {
    "duration": 208,
    "start_time": "2023-01-19T09:13:29.803Z"
   },
   {
    "duration": 0,
    "start_time": "2023-01-19T09:13:30.013Z"
   },
   {
    "duration": 0,
    "start_time": "2023-01-19T09:13:30.014Z"
   },
   {
    "duration": 0,
    "start_time": "2023-01-19T09:13:30.015Z"
   },
   {
    "duration": 0,
    "start_time": "2023-01-19T09:13:30.016Z"
   },
   {
    "duration": 0,
    "start_time": "2023-01-19T09:13:30.017Z"
   },
   {
    "duration": 0,
    "start_time": "2023-01-19T09:13:30.018Z"
   },
   {
    "duration": 0,
    "start_time": "2023-01-19T09:13:30.019Z"
   },
   {
    "duration": 0,
    "start_time": "2023-01-19T09:13:30.020Z"
   },
   {
    "duration": 0,
    "start_time": "2023-01-19T09:13:30.021Z"
   },
   {
    "duration": 46,
    "start_time": "2023-01-19T09:29:59.769Z"
   },
   {
    "duration": 4,
    "start_time": "2023-01-19T09:30:41.280Z"
   },
   {
    "duration": 1507,
    "start_time": "2023-01-19T09:30:41.286Z"
   },
   {
    "duration": 4,
    "start_time": "2023-01-19T09:30:42.794Z"
   },
   {
    "duration": 1592,
    "start_time": "2023-01-19T09:30:42.799Z"
   },
   {
    "duration": 2,
    "start_time": "2023-01-19T09:30:44.393Z"
   },
   {
    "duration": 15,
    "start_time": "2023-01-19T09:30:44.398Z"
   },
   {
    "duration": 2,
    "start_time": "2023-01-19T09:30:44.415Z"
   },
   {
    "duration": 6,
    "start_time": "2023-01-19T09:30:44.419Z"
   },
   {
    "duration": 89,
    "start_time": "2023-01-19T09:30:44.427Z"
   },
   {
    "duration": 81,
    "start_time": "2023-01-19T09:30:44.518Z"
   },
   {
    "duration": 145,
    "start_time": "2023-01-19T09:30:44.601Z"
   },
   {
    "duration": 54,
    "start_time": "2023-01-19T09:30:44.747Z"
   },
   {
    "duration": 62,
    "start_time": "2023-01-19T09:30:44.803Z"
   },
   {
    "duration": 396,
    "start_time": "2023-01-19T09:30:44.866Z"
   },
   {
    "duration": 133,
    "start_time": "2023-01-19T09:30:45.264Z"
   },
   {
    "duration": 1003,
    "start_time": "2023-01-19T09:30:45.398Z"
   },
   {
    "duration": 3,
    "start_time": "2023-01-19T09:30:46.403Z"
   },
   {
    "duration": 6,
    "start_time": "2023-01-19T09:30:46.408Z"
   },
   {
    "duration": 1402,
    "start_time": "2023-01-19T09:30:46.416Z"
   },
   {
    "duration": 846,
    "start_time": "2023-01-19T09:30:47.820Z"
   },
   {
    "duration": 11,
    "start_time": "2023-01-19T09:30:48.667Z"
   },
   {
    "duration": 19,
    "start_time": "2023-01-19T09:30:48.680Z"
   },
   {
    "duration": 197,
    "start_time": "2023-01-19T09:30:48.700Z"
   },
   {
    "duration": 295,
    "start_time": "2023-01-19T09:30:48.899Z"
   },
   {
    "duration": 204,
    "start_time": "2023-01-19T09:30:49.197Z"
   },
   {
    "duration": 220,
    "start_time": "2023-01-19T09:30:49.403Z"
   },
   {
    "duration": 0,
    "start_time": "2023-01-19T09:30:49.625Z"
   },
   {
    "duration": 0,
    "start_time": "2023-01-19T09:30:49.627Z"
   },
   {
    "duration": 0,
    "start_time": "2023-01-19T09:30:49.628Z"
   },
   {
    "duration": 0,
    "start_time": "2023-01-19T09:30:49.629Z"
   },
   {
    "duration": 0,
    "start_time": "2023-01-19T09:30:49.630Z"
   },
   {
    "duration": 0,
    "start_time": "2023-01-19T09:30:49.631Z"
   },
   {
    "duration": 0,
    "start_time": "2023-01-19T09:30:49.632Z"
   },
   {
    "duration": 0,
    "start_time": "2023-01-19T09:30:49.633Z"
   },
   {
    "duration": 0,
    "start_time": "2023-01-19T09:30:49.635Z"
   },
   {
    "duration": 16,
    "start_time": "2023-01-19T09:33:24.470Z"
   },
   {
    "duration": 8,
    "start_time": "2023-01-19T09:33:59.285Z"
   },
   {
    "duration": 174,
    "start_time": "2023-01-19T09:34:31.311Z"
   },
   {
    "duration": 3,
    "start_time": "2023-01-19T09:34:43.788Z"
   },
   {
    "duration": 21,
    "start_time": "2023-01-19T09:34:45.277Z"
   },
   {
    "duration": 7,
    "start_time": "2023-01-19T09:34:47.236Z"
   },
   {
    "duration": 10,
    "start_time": "2023-01-19T09:34:47.589Z"
   },
   {
    "duration": 22,
    "start_time": "2023-01-19T09:34:47.766Z"
   },
   {
    "duration": 5,
    "start_time": "2023-01-19T09:34:48.092Z"
   },
   {
    "duration": 3912,
    "start_time": "2023-01-19T09:34:48.270Z"
   },
   {
    "duration": 12,
    "start_time": "2023-01-19T09:34:52.185Z"
   },
   {
    "duration": 219,
    "start_time": "2023-01-19T09:34:52.198Z"
   },
   {
    "duration": 144,
    "start_time": "2023-01-19T09:40:40.410Z"
   },
   {
    "duration": 161,
    "start_time": "2023-01-19T09:41:01.566Z"
   },
   {
    "duration": 165,
    "start_time": "2023-01-19T09:41:13.535Z"
   },
   {
    "duration": 213,
    "start_time": "2023-01-19T09:41:27.362Z"
   },
   {
    "duration": 135,
    "start_time": "2023-01-19T09:41:43.293Z"
   },
   {
    "duration": 121,
    "start_time": "2023-01-19T09:41:51.821Z"
   },
   {
    "duration": 20,
    "start_time": "2023-01-19T09:42:12.827Z"
   },
   {
    "duration": 137,
    "start_time": "2023-01-19T09:42:24.142Z"
   },
   {
    "duration": 126,
    "start_time": "2023-01-19T09:42:41.287Z"
   },
   {
    "duration": 1261,
    "start_time": "2023-01-19T09:43:25.365Z"
   },
   {
    "duration": 779,
    "start_time": "2023-01-19T09:43:36.973Z"
   },
   {
    "duration": 811,
    "start_time": "2023-01-19T09:44:21.699Z"
   },
   {
    "duration": 1167,
    "start_time": "2023-01-19T09:48:48.663Z"
   },
   {
    "duration": 845,
    "start_time": "2023-01-19T09:49:10.781Z"
   },
   {
    "duration": 3787,
    "start_time": "2023-01-19T09:49:22.643Z"
   },
   {
    "duration": 7,
    "start_time": "2023-01-19T09:49:26.432Z"
   },
   {
    "duration": 608,
    "start_time": "2023-01-19T09:49:26.440Z"
   },
   {
    "duration": 820,
    "start_time": "2023-01-19T09:49:54.134Z"
   },
   {
    "duration": 50,
    "start_time": "2023-01-19T09:58:19.325Z"
   },
   {
    "duration": 43,
    "start_time": "2023-01-19T10:02:27.044Z"
   },
   {
    "duration": 49,
    "start_time": "2023-01-19T10:08:22.533Z"
   },
   {
    "duration": 7,
    "start_time": "2023-01-19T10:08:31.621Z"
   },
   {
    "duration": 29,
    "start_time": "2023-01-19T10:08:43.661Z"
   },
   {
    "duration": 5,
    "start_time": "2023-01-19T10:09:05.175Z"
   },
   {
    "duration": 72,
    "start_time": "2023-01-19T10:09:07.123Z"
   },
   {
    "duration": 5,
    "start_time": "2023-01-19T10:09:23.887Z"
   },
   {
    "duration": 43,
    "start_time": "2023-01-19T10:09:26.462Z"
   },
   {
    "duration": 5,
    "start_time": "2023-01-19T10:09:33.162Z"
   },
   {
    "duration": 29,
    "start_time": "2023-01-19T10:09:35.535Z"
   },
   {
    "duration": 6,
    "start_time": "2023-01-19T10:10:16.225Z"
   },
   {
    "duration": 28,
    "start_time": "2023-01-19T10:10:18.220Z"
   },
   {
    "duration": 6,
    "start_time": "2023-01-19T10:10:27.963Z"
   },
   {
    "duration": 6,
    "start_time": "2023-01-19T10:11:38.461Z"
   },
   {
    "duration": 39,
    "start_time": "2023-01-19T10:11:41.561Z"
   },
   {
    "duration": 8,
    "start_time": "2023-01-19T10:12:06.177Z"
   },
   {
    "duration": 29,
    "start_time": "2023-01-19T10:12:08.800Z"
   },
   {
    "duration": 58,
    "start_time": "2023-01-19T10:15:31.362Z"
   },
   {
    "duration": 4,
    "start_time": "2023-01-19T15:04:10.351Z"
   },
   {
    "duration": 1454,
    "start_time": "2023-01-19T15:04:10.358Z"
   },
   {
    "duration": 4,
    "start_time": "2023-01-19T15:04:11.814Z"
   },
   {
    "duration": 364,
    "start_time": "2023-01-19T15:04:11.821Z"
   },
   {
    "duration": 3,
    "start_time": "2023-01-19T15:04:12.187Z"
   },
   {
    "duration": 33,
    "start_time": "2023-01-19T15:04:12.192Z"
   },
   {
    "duration": 2,
    "start_time": "2023-01-19T15:04:12.226Z"
   },
   {
    "duration": 6,
    "start_time": "2023-01-19T15:04:12.230Z"
   },
   {
    "duration": 50,
    "start_time": "2023-01-19T15:04:12.237Z"
   },
   {
    "duration": 72,
    "start_time": "2023-01-19T15:04:12.289Z"
   },
   {
    "duration": 160,
    "start_time": "2023-01-19T15:04:12.365Z"
   },
   {
    "duration": 80,
    "start_time": "2023-01-19T15:04:12.528Z"
   },
   {
    "duration": 66,
    "start_time": "2023-01-19T15:04:12.610Z"
   },
   {
    "duration": 432,
    "start_time": "2023-01-19T15:04:12.677Z"
   },
   {
    "duration": 139,
    "start_time": "2023-01-19T15:04:13.111Z"
   },
   {
    "duration": 869,
    "start_time": "2023-01-19T15:04:13.252Z"
   },
   {
    "duration": 3,
    "start_time": "2023-01-19T15:04:14.123Z"
   },
   {
    "duration": 12,
    "start_time": "2023-01-19T15:04:14.128Z"
   },
   {
    "duration": 1518,
    "start_time": "2023-01-19T15:04:14.141Z"
   },
   {
    "duration": 7,
    "start_time": "2023-01-19T15:04:15.662Z"
   },
   {
    "duration": 4093,
    "start_time": "2023-01-19T15:04:15.671Z"
   },
   {
    "duration": 10,
    "start_time": "2023-01-19T15:04:19.766Z"
   },
   {
    "duration": 32,
    "start_time": "2023-01-19T15:04:19.778Z"
   },
   {
    "duration": 163,
    "start_time": "2023-01-19T15:04:19.812Z"
   },
   {
    "duration": 181,
    "start_time": "2023-01-19T15:04:19.976Z"
   },
   {
    "duration": 201,
    "start_time": "2023-01-19T15:04:20.160Z"
   },
   {
    "duration": 224,
    "start_time": "2023-01-19T15:04:20.364Z"
   },
   {
    "duration": 4,
    "start_time": "2023-01-19T15:04:20.590Z"
   },
   {
    "duration": 281,
    "start_time": "2023-01-19T15:04:20.598Z"
   },
   {
    "duration": 4,
    "start_time": "2023-01-19T15:04:20.881Z"
   },
   {
    "duration": 28,
    "start_time": "2023-01-19T15:04:20.887Z"
   },
   {
    "duration": 150,
    "start_time": "2023-01-19T15:04:20.916Z"
   },
   {
    "duration": 6,
    "start_time": "2023-01-19T15:04:21.068Z"
   },
   {
    "duration": 2484,
    "start_time": "2023-01-19T15:04:21.075Z"
   },
   {
    "duration": 9,
    "start_time": "2023-01-19T15:04:23.561Z"
   },
   {
    "duration": 662,
    "start_time": "2023-01-19T15:04:23.572Z"
   }
  ],
  "kernelspec": {
   "display_name": "Python 3 (ipykernel)",
   "language": "python",
   "name": "python3"
  },
  "language_info": {
   "codemirror_mode": {
    "name": "ipython",
    "version": 3
   },
   "file_extension": ".py",
   "mimetype": "text/x-python",
   "name": "python",
   "nbconvert_exporter": "python",
   "pygments_lexer": "ipython3",
   "version": "3.9.5"
  },
  "toc": {
   "base_numbering": 1,
   "nav_menu": {},
   "number_sections": true,
   "sideBar": true,
   "skip_h1_title": true,
   "title_cell": "Table of Contents",
   "title_sidebar": "Contents",
   "toc_cell": false,
   "toc_position": {},
   "toc_section_display": true,
   "toc_window_display": true
  },
  "widgets": {
   "application/vnd.jupyter.widget-state+json": {
    "state": {},
    "version_major": 2,
    "version_minor": 0
   }
  }
 },
 "nbformat": 4,
 "nbformat_minor": 2
}
